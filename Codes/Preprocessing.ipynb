{
 "cells": [
  {
   "cell_type": "code",
   "execution_count": null,
   "id": "828ffe04",
   "metadata": {
    "ExecuteTime": {
     "end_time": "2023-01-04T04:34:59.393226Z",
     "start_time": "2023-01-04T04:34:58.790224Z"
    }
   },
   "outputs": [],
   "source": [
    "#import libraries\n",
    "import numpy as np\n",
    "import pandas as pd"
   ]
  },
  {
   "cell_type": "code",
   "execution_count": null,
   "id": "b2441204",
   "metadata": {
    "ExecuteTime": {
     "end_time": "2023-01-04T04:35:07.446679Z",
     "start_time": "2023-01-04T04:35:04.949796Z"
    }
   },
   "outputs": [],
   "source": [
    "df = pd.read_excel('Raw data.xlsx')\n",
    "df"
   ]
  },
  {
   "cell_type": "code",
   "execution_count": null,
   "id": "b331e5b7",
   "metadata": {
    "ExecuteTime": {
     "end_time": "2023-01-04T04:35:22.416512Z",
     "start_time": "2023-01-04T04:35:22.349067Z"
    }
   },
   "outputs": [],
   "source": [
    "df.drop(['KILLIP', 'NYHA'], axis=1, inplace=True)\n",
    "df"
   ]
  },
  {
   "cell_type": "markdown",
   "id": "3283fd51",
   "metadata": {
    "ExecuteTime": {
     "end_time": "2023-01-03T16:31:54.581206Z",
     "start_time": "2023-01-03T16:31:54.577217Z"
    }
   },
   "source": [
    "#### drop rows that contains NaN values"
   ]
  },
  {
   "cell_type": "code",
   "execution_count": null,
   "id": "cf67d78e",
   "metadata": {
    "ExecuteTime": {
     "end_time": "2023-01-04T04:35:34.953541Z",
     "start_time": "2023-01-04T04:35:34.892703Z"
    }
   },
   "outputs": [],
   "source": [
    "df.dropna(inplace=True)\n",
    "df"
   ]
  },
  {
   "cell_type": "code",
   "execution_count": null,
   "id": "2855f526",
   "metadata": {
    "ExecuteTime": {
     "end_time": "2023-01-04T04:35:54.135617Z",
     "start_time": "2023-01-04T04:35:54.115670Z"
    }
   },
   "outputs": [],
   "source": [
    "df.dtypes"
   ]
  },
  {
   "cell_type": "code",
   "execution_count": null,
   "id": "6b57ab1f",
   "metadata": {
    "ExecuteTime": {
     "end_time": "2023-01-04T04:36:01.795359Z",
     "start_time": "2023-01-04T04:36:01.715808Z"
    }
   },
   "outputs": [],
   "source": [
    "df.to_csv('cleaned_data.csv', index=False)"
   ]
  },
  {
   "cell_type": "code",
   "execution_count": null,
   "id": "431feda2",
   "metadata": {
    "ExecuteTime": {
     "end_time": "2023-01-04T04:36:04.099442Z",
     "start_time": "2023-01-04T04:36:04.043556Z"
    }
   },
   "outputs": [],
   "source": [
    "df"
   ]
  },
  {
   "cell_type": "code",
   "execution_count": null,
   "id": "5b089a00",
   "metadata": {
    "ExecuteTime": {
     "end_time": "2023-01-04T04:36:51.366903Z",
     "start_time": "2023-01-04T04:36:51.358958Z"
    }
   },
   "outputs": [],
   "source": [
    "df['Age'].dtypes"
   ]
  },
  {
   "cell_type": "markdown",
   "id": "bcb41379",
   "metadata": {},
   "source": [
    "### encode categorical values"
   ]
  },
  {
   "cell_type": "code",
   "execution_count": null,
   "id": "b99dd2cb",
   "metadata": {
    "ExecuteTime": {
     "end_time": "2023-01-04T04:43:30.512481Z",
     "start_time": "2023-01-04T04:43:30.421725Z"
    }
   },
   "outputs": [],
   "source": [
    "df = pd.read_csv('cleaned_data.csv')\n",
    "df"
   ]
  },
  {
   "cell_type": "code",
   "execution_count": null,
   "id": "b7fef961",
   "metadata": {
    "ExecuteTime": {
     "end_time": "2023-01-04T04:44:02.195022Z",
     "start_time": "2023-01-04T04:44:02.179068Z"
    }
   },
   "outputs": [],
   "source": [
    "df['Age'].dtype"
   ]
  },
  {
   "cell_type": "code",
   "execution_count": null,
   "id": "704b652a",
   "metadata": {
    "ExecuteTime": {
     "end_time": "2023-01-04T04:44:14.627290Z",
     "start_time": "2023-01-04T04:44:14.618314Z"
    }
   },
   "outputs": [],
   "source": [
    "def encode_age(v):\n",
    "    if(v<30):\n",
    "        r = 0\n",
    "    elif(v>=30 and v<40):\n",
    "        r = 1\n",
    "    elif(v>=40 and v<50):\n",
    "        r = 2\n",
    "    elif(v>=50 and v<60):\n",
    "        r=3\n",
    "    elif(v>=60 and v<70):\n",
    "        r=4\n",
    "    elif(v>=70 and v<80):\n",
    "        r=5\n",
    "    elif(v>=80 and v<90):\n",
    "        r=6\n",
    "    elif(v>=90):\n",
    "        r=7\n",
    "    return r"
   ]
  },
  {
   "cell_type": "code",
   "execution_count": null,
   "id": "59c4bcd5",
   "metadata": {
    "ExecuteTime": {
     "end_time": "2023-01-04T04:44:26.627742Z",
     "start_time": "2023-01-04T04:44:26.610751Z"
    }
   },
   "outputs": [],
   "source": [
    "df['Age'] = df.Age.apply(encode_age)\n",
    "df['Age']"
   ]
  },
  {
   "cell_type": "code",
   "execution_count": null,
   "id": "09e5250f",
   "metadata": {
    "ExecuteTime": {
     "end_time": "2023-01-04T04:45:04.559321Z",
     "start_time": "2023-01-04T04:45:04.545358Z"
    }
   },
   "outputs": [],
   "source": [
    "df['BPM'].dtype"
   ]
  },
  {
   "cell_type": "code",
   "execution_count": null,
   "id": "66e5729d",
   "metadata": {
    "ExecuteTime": {
     "end_time": "2023-01-04T04:46:05.245561Z",
     "start_time": "2023-01-04T04:46:05.229602Z"
    }
   },
   "outputs": [],
   "source": [
    "def encode_heartbeat(v):\n",
    "    if(v<50):\n",
    "        r = 0\n",
    "    elif(v>=50 and v<70):\n",
    "        r = 1\n",
    "    elif(v>=70 and v<90):\n",
    "        r = 2\n",
    "    elif(v>=90 and v<110):\n",
    "        r=3\n",
    "    elif(v>=110 and v<150):\n",
    "        r=4\n",
    "    elif(v>=150 and v<200):\n",
    "        r=5\n",
    "    elif(v>=200):\n",
    "        r=6\n",
    "    return r"
   ]
  },
  {
   "cell_type": "code",
   "execution_count": null,
   "id": "19603dfb",
   "metadata": {
    "ExecuteTime": {
     "end_time": "2023-01-04T04:46:16.207973Z",
     "start_time": "2023-01-04T04:46:16.186000Z"
    }
   },
   "outputs": [],
   "source": [
    "df['BPM'] = df.BPM.apply(encode_heartbeat)\n",
    "df['BPM']"
   ]
  },
  {
   "cell_type": "code",
   "execution_count": null,
   "id": "29cb9f36",
   "metadata": {
    "ExecuteTime": {
     "end_time": "2023-01-04T04:46:41.682224Z",
     "start_time": "2023-01-04T04:46:41.661280Z"
    }
   },
   "outputs": [],
   "source": [
    "df['SBP'].dtype"
   ]
  },
  {
   "cell_type": "code",
   "execution_count": null,
   "id": "9c15b419",
   "metadata": {
    "ExecuteTime": {
     "end_time": "2023-01-04T04:47:24.202089Z",
     "start_time": "2023-01-04T04:47:24.180181Z"
    }
   },
   "outputs": [],
   "source": [
    "def encode_sbp(v):\n",
    "    if(v<80):\n",
    "        r = 0\n",
    "    elif(v>=80 and v<100):\n",
    "        r = 1\n",
    "    elif(v>=100 and v<120):\n",
    "        r = 2\n",
    "    elif(v>=120 and v<140):\n",
    "        r=3\n",
    "    elif(v>=140 and v<160):\n",
    "        r=4\n",
    "    elif(v>=160 and v<200):\n",
    "        r=5\n",
    "    elif(v>=200):\n",
    "        r=6\n",
    "    return r"
   ]
  },
  {
   "cell_type": "code",
   "execution_count": null,
   "id": "05df5161",
   "metadata": {
    "ExecuteTime": {
     "end_time": "2023-01-04T04:47:37.412080Z",
     "start_time": "2023-01-04T04:47:37.388108Z"
    }
   },
   "outputs": [],
   "source": [
    "df['SBP'] = df.SBP.apply(encode_sbp)\n",
    "df['SBP']"
   ]
  },
  {
   "cell_type": "code",
   "execution_count": null,
   "id": "c74c7667",
   "metadata": {
    "ExecuteTime": {
     "end_time": "2023-01-04T04:47:58.638317Z",
     "start_time": "2023-01-04T04:47:58.618405Z"
    }
   },
   "outputs": [],
   "source": [
    "df['DBP'].dtype"
   ]
  },
  {
   "cell_type": "code",
   "execution_count": null,
   "id": "99a0105e",
   "metadata": {
    "ExecuteTime": {
     "end_time": "2023-01-04T04:48:54.913293Z",
     "start_time": "2023-01-04T04:48:54.901328Z"
    }
   },
   "outputs": [],
   "source": [
    "def encode_dbp(v):\n",
    "    if(v<60):\n",
    "        r = 0\n",
    "    elif(v>=60 and v<70):\n",
    "        r = 1\n",
    "    elif(v>=70 and v<80):\n",
    "        r = 2\n",
    "    elif(v>=80 and v<90):\n",
    "        r=3\n",
    "    elif(v>=90 and v<100):\n",
    "        r=4\n",
    "    elif(v>=100 and v<110):\n",
    "        r=5\n",
    "    elif(v>=110):\n",
    "        r=6\n",
    "    return r"
   ]
  },
  {
   "cell_type": "code",
   "execution_count": null,
   "id": "e879d3cf",
   "metadata": {
    "ExecuteTime": {
     "end_time": "2023-01-04T04:49:05.007756Z",
     "start_time": "2023-01-04T04:49:04.988772Z"
    }
   },
   "outputs": [],
   "source": [
    "df['DBP'] = df.DBP.apply(encode_dbp)\n",
    "df['DBP']"
   ]
  },
  {
   "cell_type": "code",
   "execution_count": null,
   "id": "15826017",
   "metadata": {
    "ExecuteTime": {
     "end_time": "2023-01-04T04:49:39.828357Z",
     "start_time": "2023-01-04T04:49:39.808410Z"
    }
   },
   "outputs": [],
   "source": [
    "df['LVEF'].dtype"
   ]
  },
  {
   "cell_type": "code",
   "execution_count": null,
   "id": "4212fb25",
   "metadata": {
    "ExecuteTime": {
     "end_time": "2023-01-04T04:50:10.180212Z",
     "start_time": "2023-01-04T04:50:10.174229Z"
    }
   },
   "outputs": [],
   "source": [
    "def encode_lvef(v):\n",
    "    if(v<30):\n",
    "        r = 0\n",
    "    elif(v>=30 and v<45):\n",
    "        r = 1\n",
    "    elif(v>=45 and v<55):\n",
    "        r = 2\n",
    "    elif(v>=55):\n",
    "        r=3\n",
    "    return r"
   ]
  },
  {
   "cell_type": "code",
   "execution_count": null,
   "id": "acc23079",
   "metadata": {
    "ExecuteTime": {
     "end_time": "2023-01-04T04:50:23.779225Z",
     "start_time": "2023-01-04T04:50:23.764230Z"
    }
   },
   "outputs": [],
   "source": [
    "df['LVEF'] = df.LVEF.apply(encode_lvef)\n",
    "df['LVEF']"
   ]
  },
  {
   "cell_type": "code",
   "execution_count": null,
   "id": "8017f44e",
   "metadata": {
    "ExecuteTime": {
     "end_time": "2023-01-04T04:50:43.156892Z",
     "start_time": "2023-01-04T04:50:43.133953Z"
    }
   },
   "outputs": [],
   "source": [
    "df['FS'].dtype"
   ]
  },
  {
   "cell_type": "code",
   "execution_count": null,
   "id": "a175e638",
   "metadata": {
    "ExecuteTime": {
     "end_time": "2023-01-04T04:50:57.682747Z",
     "start_time": "2023-01-04T04:50:57.667785Z"
    }
   },
   "outputs": [],
   "source": [
    "def encode_fs(v):\n",
    "    if(v<26):\n",
    "        r = 0\n",
    "    elif(v>=26):\n",
    "        r=1\n",
    "    return r"
   ]
  },
  {
   "cell_type": "code",
   "execution_count": null,
   "id": "1d3ad724",
   "metadata": {
    "ExecuteTime": {
     "end_time": "2023-01-04T04:51:06.731157Z",
     "start_time": "2023-01-04T04:51:06.707218Z"
    }
   },
   "outputs": [],
   "source": [
    "df['FS'] = df.FS.apply(encode_fs)\n",
    "df['FS']"
   ]
  },
  {
   "cell_type": "code",
   "execution_count": null,
   "id": "c6d9937c",
   "metadata": {
    "ExecuteTime": {
     "end_time": "2023-01-04T04:53:09.619030Z",
     "start_time": "2023-01-04T04:53:09.596057Z"
    }
   },
   "outputs": [],
   "source": [
    "df['EA'].dtype"
   ]
  },
  {
   "cell_type": "code",
   "execution_count": null,
   "id": "2756d689",
   "metadata": {
    "ExecuteTime": {
     "end_time": "2023-01-04T04:53:24.583636Z",
     "start_time": "2023-01-04T04:53:24.564690Z"
    }
   },
   "outputs": [],
   "source": [
    "def encode_ea(v):\n",
    "    if(v<1):\n",
    "        r = 0\n",
    "    elif(v>=1):\n",
    "        r=1\n",
    "    return r"
   ]
  },
  {
   "cell_type": "code",
   "execution_count": null,
   "id": "dcc3a746",
   "metadata": {
    "ExecuteTime": {
     "end_time": "2023-01-04T04:53:35.843858Z",
     "start_time": "2023-01-04T04:53:35.820922Z"
    }
   },
   "outputs": [],
   "source": [
    "df['EA'] = df.EA.apply(encode_ea)\n",
    "df['EA']"
   ]
  },
  {
   "cell_type": "code",
   "execution_count": null,
   "id": "c220d838",
   "metadata": {
    "ExecuteTime": {
     "end_time": "2023-01-04T04:55:19.816711Z",
     "start_time": "2023-01-04T04:55:19.805743Z"
    }
   },
   "outputs": [],
   "source": [
    "df['dt'].dtype"
   ]
  },
  {
   "cell_type": "code",
   "execution_count": null,
   "id": "d362af80",
   "metadata": {
    "ExecuteTime": {
     "end_time": "2023-01-04T04:57:08.863719Z",
     "start_time": "2023-01-04T04:57:08.854740Z"
    }
   },
   "outputs": [],
   "source": [
    "def encode_dt(v):\n",
    "    if(v<167):\n",
    "        r = 0\n",
    "    elif(v>=167 and v<232):\n",
    "        r = 1\n",
    "    elif(v>=232):\n",
    "        r=2\n",
    "    return r"
   ]
  },
  {
   "cell_type": "code",
   "execution_count": null,
   "id": "03c19525",
   "metadata": {
    "ExecuteTime": {
     "end_time": "2023-01-04T04:57:19.959509Z",
     "start_time": "2023-01-04T04:57:19.932582Z"
    }
   },
   "outputs": [],
   "source": [
    "df['dt'] = df.dt.apply(encode_dt)\n",
    "df['dt']"
   ]
  },
  {
   "cell_type": "code",
   "execution_count": null,
   "id": "5083a5e6",
   "metadata": {
    "ExecuteTime": {
     "end_time": "2023-01-04T04:58:01.028381Z",
     "start_time": "2023-01-04T04:58:01.020403Z"
    }
   },
   "outputs": [],
   "source": [
    "df['LVEDD'].dtype"
   ]
  },
  {
   "cell_type": "code",
   "execution_count": null,
   "id": "8c3771b7",
   "metadata": {
    "ExecuteTime": {
     "end_time": "2023-01-04T04:58:20.185749Z",
     "start_time": "2023-01-04T04:58:20.164844Z"
    }
   },
   "outputs": [],
   "source": [
    "def encode_lvedd(v):\n",
    "    if(v<=55):\n",
    "        r = 0\n",
    "    elif(v>55):\n",
    "        r=1\n",
    "    return r"
   ]
  },
  {
   "cell_type": "code",
   "execution_count": null,
   "id": "fd292578",
   "metadata": {
    "ExecuteTime": {
     "end_time": "2023-01-04T04:58:38.150125Z",
     "start_time": "2023-01-04T04:58:38.125153Z"
    }
   },
   "outputs": [],
   "source": [
    "df['LVEDD'] = df.LVEDD.apply(encode_lvedd)\n",
    "df['LVEDD']"
   ]
  },
  {
   "cell_type": "code",
   "execution_count": null,
   "id": "ee241d9f",
   "metadata": {
    "ExecuteTime": {
     "end_time": "2023-01-04T05:04:53.784677Z",
     "start_time": "2023-01-04T05:04:53.773701Z"
    }
   },
   "outputs": [],
   "source": [
    "df['LA'].dtype"
   ]
  },
  {
   "cell_type": "code",
   "execution_count": null,
   "id": "3bb7bb23",
   "metadata": {
    "ExecuteTime": {
     "end_time": "2023-01-04T05:07:47.517464Z",
     "start_time": "2023-01-04T05:07:47.509520Z"
    }
   },
   "outputs": [],
   "source": [
    "def encode_la(v):\n",
    "    if(v<40):\n",
    "        r = 0\n",
    "    elif(v>=40):\n",
    "        r=1\n",
    "    return r"
   ]
  },
  {
   "cell_type": "code",
   "execution_count": null,
   "id": "17bc3a37",
   "metadata": {
    "ExecuteTime": {
     "end_time": "2023-01-04T05:08:10.345119Z",
     "start_time": "2023-01-04T05:08:10.325175Z"
    }
   },
   "outputs": [],
   "source": [
    "df['LA'] = df.LA.apply(encode_la)\n",
    "df['LA']"
   ]
  },
  {
   "cell_type": "code",
   "execution_count": null,
   "id": "55adf6d4",
   "metadata": {
    "ExecuteTime": {
     "end_time": "2023-01-04T05:09:10.918100Z",
     "start_time": "2023-01-04T05:09:10.903175Z"
    }
   },
   "outputs": [],
   "source": [
    "df['RAUD']"
   ]
  },
  {
   "cell_type": "code",
   "execution_count": null,
   "id": "f26ab853",
   "metadata": {
    "ExecuteTime": {
     "end_time": "2023-01-04T05:09:36.134045Z",
     "start_time": "2023-01-04T05:09:36.125033Z"
    }
   },
   "outputs": [],
   "source": [
    "def encode_raud(v):\n",
    "    if(v<50):\n",
    "        r = 0\n",
    "    elif(v>=50):\n",
    "        r=1\n",
    "    return r"
   ]
  },
  {
   "cell_type": "code",
   "execution_count": null,
   "id": "cb95bed4",
   "metadata": {
    "ExecuteTime": {
     "end_time": "2023-01-04T05:09:49.623375Z",
     "start_time": "2023-01-04T05:09:49.605386Z"
    }
   },
   "outputs": [],
   "source": [
    "df['RAUD'] = df.RAUD.apply(encode_raud)\n",
    "df['RAUD']"
   ]
  },
  {
   "cell_type": "code",
   "execution_count": null,
   "id": "0580e3e4",
   "metadata": {
    "ExecuteTime": {
     "end_time": "2023-01-04T05:10:58.240368Z",
     "start_time": "2023-01-04T05:10:58.220420Z"
    }
   },
   "outputs": [],
   "source": [
    "df['RARL'].dtype"
   ]
  },
  {
   "cell_type": "code",
   "execution_count": null,
   "id": "f045aa4c",
   "metadata": {
    "ExecuteTime": {
     "end_time": "2023-01-04T05:11:56.479010Z",
     "start_time": "2023-01-04T05:11:56.460028Z"
    }
   },
   "outputs": [],
   "source": [
    "def encode_rarl(v):\n",
    "    if(v<40):\n",
    "        r = 0\n",
    "    elif(v>=40):\n",
    "        r=1\n",
    "    return r"
   ]
  },
  {
   "cell_type": "code",
   "execution_count": null,
   "id": "eab28d7d",
   "metadata": {
    "ExecuteTime": {
     "end_time": "2023-01-04T05:12:09.555434Z",
     "start_time": "2023-01-04T05:12:09.540472Z"
    }
   },
   "outputs": [],
   "source": [
    "df['RARL'] = df.RARL.apply(encode_rarl)\n",
    "df['RARL']"
   ]
  },
  {
   "cell_type": "code",
   "execution_count": null,
   "id": "3ac34e81",
   "metadata": {
    "ExecuteTime": {
     "end_time": "2023-01-04T05:13:27.508733Z",
     "start_time": "2023-01-04T05:13:27.500714Z"
    }
   },
   "outputs": [],
   "source": [
    "df['PA'].dtype"
   ]
  },
  {
   "cell_type": "code",
   "execution_count": null,
   "id": "a1395b41",
   "metadata": {
    "ExecuteTime": {
     "end_time": "2023-01-04T05:29:37.832783Z",
     "start_time": "2023-01-04T05:29:37.812841Z"
    }
   },
   "outputs": [],
   "source": [
    "def encode_pa(v):\n",
    "    if(v<26):\n",
    "        r = 0\n",
    "    elif(v>=26):\n",
    "        r=1\n",
    "    return r"
   ]
  },
  {
   "cell_type": "code",
   "execution_count": null,
   "id": "0d1778be",
   "metadata": {
    "ExecuteTime": {
     "end_time": "2023-01-04T05:29:52.006031Z",
     "start_time": "2023-01-04T05:29:51.988117Z"
    }
   },
   "outputs": [],
   "source": [
    "df['PA'] = df.PA.apply(encode_pa)\n",
    "df['PA']"
   ]
  },
  {
   "cell_type": "code",
   "execution_count": null,
   "id": "19d636f5",
   "metadata": {
    "ExecuteTime": {
     "end_time": "2023-01-04T05:42:11.863467Z",
     "start_time": "2023-01-04T05:42:11.844515Z"
    }
   },
   "outputs": [],
   "source": [
    "df['Vpa'].dtype"
   ]
  },
  {
   "cell_type": "code",
   "execution_count": null,
   "id": "8103e43f",
   "metadata": {
    "ExecuteTime": {
     "end_time": "2023-01-04T05:42:32.207616Z",
     "start_time": "2023-01-04T05:42:32.195647Z"
    }
   },
   "outputs": [],
   "source": [
    "def encode_vpa(v):\n",
    "    if(v<0.6):\n",
    "        r = 0\n",
    "    elif(v>=0.6 and v<=0.9):\n",
    "        r=1\n",
    "    elif(v>0.9):\n",
    "        r=2\n",
    "    return r"
   ]
  },
  {
   "cell_type": "code",
   "execution_count": null,
   "id": "946fc4d5",
   "metadata": {
    "ExecuteTime": {
     "end_time": "2023-01-04T05:42:41.405937Z",
     "start_time": "2023-01-04T05:42:41.380006Z"
    }
   },
   "outputs": [],
   "source": [
    "df['Vpa'] = df.Vpa.apply(encode_vpa)\n",
    "df['Vpa']"
   ]
  },
  {
   "cell_type": "code",
   "execution_count": null,
   "id": "d08b9b6a",
   "metadata": {
    "ExecuteTime": {
     "end_time": "2023-01-04T05:43:17.902550Z",
     "start_time": "2023-01-04T05:43:17.892577Z"
    }
   },
   "outputs": [],
   "source": [
    "df['IVST'].dtype"
   ]
  },
  {
   "cell_type": "code",
   "execution_count": null,
   "id": "2bafeaf4",
   "metadata": {
    "ExecuteTime": {
     "end_time": "2023-01-04T05:44:04.256039Z",
     "start_time": "2023-01-04T05:44:04.236089Z"
    }
   },
   "outputs": [],
   "source": [
    "def encode_ivst(v):\n",
    "    if(v<12):\n",
    "        r = 0\n",
    "    elif(v>=12):\n",
    "        r=1\n",
    "    return r"
   ]
  },
  {
   "cell_type": "code",
   "execution_count": null,
   "id": "cd44a3a3",
   "metadata": {
    "ExecuteTime": {
     "end_time": "2023-01-04T05:44:20.166321Z",
     "start_time": "2023-01-04T05:44:20.146338Z"
    }
   },
   "outputs": [],
   "source": [
    "df['IVST'] = df.IVST.apply(encode_ivst)\n",
    "df['IVST']"
   ]
  },
  {
   "cell_type": "code",
   "execution_count": null,
   "id": "3f9d8bfd",
   "metadata": {
    "ExecuteTime": {
     "end_time": "2023-01-04T05:44:56.277574Z",
     "start_time": "2023-01-04T05:44:56.259588Z"
    }
   },
   "outputs": [],
   "source": [
    "df['LVPWT'].dtype"
   ]
  },
  {
   "cell_type": "code",
   "execution_count": null,
   "id": "82046913",
   "metadata": {
    "ExecuteTime": {
     "end_time": "2023-01-04T05:45:07.246596Z",
     "start_time": "2023-01-04T05:45:07.227684Z"
    }
   },
   "outputs": [],
   "source": [
    "df['LVPWT'] = df.LVPWT.apply(encode_ivst)\n",
    "df['LVPWT']"
   ]
  },
  {
   "cell_type": "code",
   "execution_count": null,
   "id": "f08d2a56",
   "metadata": {
    "ExecuteTime": {
     "end_time": "2023-01-04T05:45:50.229423Z",
     "start_time": "2023-01-04T05:45:50.211440Z"
    }
   },
   "outputs": [],
   "source": [
    "set(df['LVPWT'].values)"
   ]
  },
  {
   "cell_type": "code",
   "execution_count": null,
   "id": "ab22fad7",
   "metadata": {
    "ExecuteTime": {
     "end_time": "2023-01-04T05:46:23.438172Z",
     "start_time": "2023-01-04T05:46:23.420184Z"
    }
   },
   "outputs": [],
   "source": [
    "df['Vao'].dtype"
   ]
  },
  {
   "cell_type": "code",
   "execution_count": null,
   "id": "d7250d78",
   "metadata": {
    "ExecuteTime": {
     "end_time": "2023-01-04T05:46:38.635919Z",
     "start_time": "2023-01-04T05:46:38.620959Z"
    }
   },
   "outputs": [],
   "source": [
    "def encode_vao(v):\n",
    "    if(v<1):\n",
    "        r = 0\n",
    "    elif(v>=1 and v<=1.7):\n",
    "        r=1\n",
    "    elif(v>1.7):\n",
    "        r=2\n",
    "    return r"
   ]
  },
  {
   "cell_type": "code",
   "execution_count": null,
   "id": "c209154f",
   "metadata": {
    "ExecuteTime": {
     "end_time": "2023-01-04T05:46:50.796010Z",
     "start_time": "2023-01-04T05:46:50.781050Z"
    }
   },
   "outputs": [],
   "source": [
    "df['Vao'] = df.Vao.apply(encode_vao)\n",
    "df['Vao']"
   ]
  },
  {
   "cell_type": "code",
   "execution_count": null,
   "id": "10c578e5",
   "metadata": {
    "ExecuteTime": {
     "end_time": "2023-01-04T05:48:21.819276Z",
     "start_time": "2023-01-04T05:48:21.797296Z"
    }
   },
   "outputs": [],
   "source": [
    "df['VWM'].dtype #encoded already"
   ]
  },
  {
   "cell_type": "code",
   "execution_count": null,
   "id": "c34de18a",
   "metadata": {
    "ExecuteTime": {
     "end_time": "2023-01-04T05:48:47.502437Z",
     "start_time": "2023-01-04T05:48:47.484483Z"
    }
   },
   "outputs": [],
   "source": [
    "df['CKMB'].dtype"
   ]
  },
  {
   "cell_type": "code",
   "execution_count": null,
   "id": "5c549784",
   "metadata": {
    "ExecuteTime": {
     "end_time": "2023-01-04T05:52:38.625513Z",
     "start_time": "2023-01-04T05:52:38.587655Z"
    }
   },
   "outputs": [],
   "source": [
    "df_unchanged = pd.read_csv('cleaned_data.csv')"
   ]
  },
  {
   "cell_type": "code",
   "execution_count": null,
   "id": "17db0140",
   "metadata": {
    "ExecuteTime": {
     "end_time": "2023-01-04T05:53:14.252969Z",
     "start_time": "2023-01-04T05:53:14.229992Z"
    }
   },
   "outputs": [],
   "source": [
    "df['CKMB'] = df_unchanged['CKMB']\n",
    "df['CKMB']"
   ]
  },
  {
   "cell_type": "code",
   "execution_count": null,
   "id": "acb895ab",
   "metadata": {
    "ExecuteTime": {
     "end_time": "2023-01-04T05:53:30.151360Z",
     "start_time": "2023-01-04T05:53:30.132372Z"
    }
   },
   "outputs": [],
   "source": [
    "def encode_ckmb(v):\n",
    "    r = 0\n",
    "    if(v<25):\n",
    "        r = 0\n",
    "    elif(v>=25 and v<=41):\n",
    "        r = 1\n",
    "    elif(v>=42 and v<=81):\n",
    "        r = 2\n",
    "    elif(v>=82 and v<=164):\n",
    "        r=3\n",
    "    elif(v>=165 and v<=300):\n",
    "        r=4\n",
    "    elif(v>300):\n",
    "        r=5\n",
    "    return r"
   ]
  },
  {
   "cell_type": "code",
   "execution_count": null,
   "id": "98911c3d",
   "metadata": {
    "ExecuteTime": {
     "end_time": "2023-01-04T05:53:33.515634Z",
     "start_time": "2023-01-04T05:53:33.501705Z"
    }
   },
   "outputs": [],
   "source": [
    "df['CKMB'] = df.CKMB.apply(encode_ckmb)\n",
    "df['CKMB']"
   ]
  },
  {
   "cell_type": "code",
   "execution_count": null,
   "id": "b4dd71e1",
   "metadata": {
    "ExecuteTime": {
     "end_time": "2023-01-04T05:54:08.237627Z",
     "start_time": "2023-01-04T05:54:08.215687Z"
    }
   },
   "outputs": [],
   "source": [
    "df['k'].dtype"
   ]
  },
  {
   "cell_type": "code",
   "execution_count": null,
   "id": "372fde09",
   "metadata": {
    "ExecuteTime": {
     "end_time": "2023-01-04T05:54:59.801276Z",
     "start_time": "2023-01-04T05:54:59.780293Z"
    }
   },
   "outputs": [],
   "source": [
    "def encode_k(v):\n",
    "    r=0\n",
    "    if(v<3.5):\n",
    "        r = 0\n",
    "    elif(v>=3.5 and v<=5):\n",
    "        r=1\n",
    "    elif(v>5):\n",
    "        r=2\n",
    "    return r"
   ]
  },
  {
   "cell_type": "code",
   "execution_count": null,
   "id": "28593cc8",
   "metadata": {
    "ExecuteTime": {
     "end_time": "2023-01-04T05:55:09.674434Z",
     "start_time": "2023-01-04T05:55:09.651497Z"
    }
   },
   "outputs": [],
   "source": [
    "df['k'] = df.k.apply(encode_k)\n",
    "df['k']"
   ]
  },
  {
   "cell_type": "code",
   "execution_count": null,
   "id": "a0c4dc6d",
   "metadata": {
    "ExecuteTime": {
     "end_time": "2023-01-04T05:55:41.808575Z",
     "start_time": "2023-01-04T05:55:41.787629Z"
    }
   },
   "outputs": [],
   "source": [
    "df['Cr'].dtype"
   ]
  },
  {
   "cell_type": "code",
   "execution_count": null,
   "id": "813890c2",
   "metadata": {
    "ExecuteTime": {
     "end_time": "2023-01-04T06:15:41.635524Z",
     "start_time": "2023-01-04T06:15:41.604603Z"
    }
   },
   "outputs": [],
   "source": [
    "set(df['Cr'].values)"
   ]
  },
  {
   "cell_type": "code",
   "execution_count": null,
   "id": "e45a4a45",
   "metadata": {
    "ExecuteTime": {
     "end_time": "2023-01-04T06:17:27.990181Z",
     "start_time": "2023-01-04T06:17:27.964254Z"
    }
   },
   "outputs": [],
   "source": [
    "def encode_cr(v):\n",
    "    r=0\n",
    "    if(v>=0 and v<=34.48):\n",
    "        r = 0\n",
    "    elif(v>=35.36 and v<=69.84):\n",
    "        r=1\n",
    "    elif(v>=70.72 and v<=105.20):\n",
    "        r=2\n",
    "    elif(v>=106.08 and v<=140.55):\n",
    "        r=3\n",
    "    elif(v>=141.44 and v<=175.92):\n",
    "        r=4\n",
    "    elif(v>=176.8 and v<=352.72):\n",
    "        r=5\n",
    "    elif(v>353.6):\n",
    "        r=6\n",
    "    return r"
   ]
  },
  {
   "cell_type": "code",
   "execution_count": null,
   "id": "edaef5e7",
   "metadata": {
    "ExecuteTime": {
     "end_time": "2023-01-04T06:17:39.774093Z",
     "start_time": "2023-01-04T06:17:39.747164Z"
    }
   },
   "outputs": [],
   "source": [
    "df['Cr'] = df.Cr.apply(encode_cr)\n",
    "df['Cr']"
   ]
  },
  {
   "cell_type": "code",
   "execution_count": null,
   "id": "11379afc",
   "metadata": {
    "ExecuteTime": {
     "end_time": "2023-01-04T06:18:01.501451Z",
     "start_time": "2023-01-04T06:18:01.483461Z"
    }
   },
   "outputs": [],
   "source": [
    "df['CRP'].dtype"
   ]
  },
  {
   "cell_type": "code",
   "execution_count": null,
   "id": "cc541424",
   "metadata": {
    "ExecuteTime": {
     "end_time": "2023-01-04T06:18:18.155850Z",
     "start_time": "2023-01-04T06:18:18.138858Z"
    }
   },
   "outputs": [],
   "source": [
    "def encode_crp(v):\n",
    "    if(v<8):\n",
    "        r = 0\n",
    "    elif(v>=8):\n",
    "        r=1\n",
    "    return r"
   ]
  },
  {
   "cell_type": "code",
   "execution_count": null,
   "id": "c2ac02e6",
   "metadata": {
    "ExecuteTime": {
     "end_time": "2023-01-04T06:18:29.138299Z",
     "start_time": "2023-01-04T06:18:29.114363Z"
    }
   },
   "outputs": [],
   "source": [
    "df['CRP'] = df.CRP.apply(encode_crp)\n",
    "df['CRP']"
   ]
  },
  {
   "cell_type": "code",
   "execution_count": null,
   "id": "f94c4174",
   "metadata": {
    "ExecuteTime": {
     "end_time": "2023-01-04T06:19:33.731401Z",
     "start_time": "2023-01-04T06:19:33.715444Z"
    }
   },
   "outputs": [],
   "source": [
    "df['TC'].dtype"
   ]
  },
  {
   "cell_type": "code",
   "execution_count": null,
   "id": "1dfbca2d",
   "metadata": {
    "ExecuteTime": {
     "end_time": "2023-01-04T06:20:58.575919Z",
     "start_time": "2023-01-04T06:20:58.557967Z"
    }
   },
   "outputs": [],
   "source": [
    "def encode_tc(v):\n",
    "    r=0\n",
    "    if(v<3.1):\n",
    "        r = 0\n",
    "    elif(v>=3.1 and v<=4.1):\n",
    "        r=1\n",
    "    elif(v>=4.2 and v<=5.1):\n",
    "        r=2\n",
    "    elif(v>=5.2 and v<=7.2):\n",
    "        r=3\n",
    "    elif(v>7.2):\n",
    "        r=4\n",
    "    return r"
   ]
  },
  {
   "cell_type": "code",
   "execution_count": null,
   "id": "47173ed8",
   "metadata": {
    "ExecuteTime": {
     "end_time": "2023-01-04T06:21:07.784517Z",
     "start_time": "2023-01-04T06:21:07.754596Z"
    }
   },
   "outputs": [],
   "source": [
    "df['TC'] = df.TC.apply(encode_tc)\n",
    "df['TC']"
   ]
  },
  {
   "cell_type": "code",
   "execution_count": null,
   "id": "70ad9a50",
   "metadata": {
    "ExecuteTime": {
     "end_time": "2023-01-04T06:21:20.608250Z",
     "start_time": "2023-01-04T06:21:20.599272Z"
    }
   },
   "outputs": [],
   "source": [
    "df['TG'].dtype"
   ]
  },
  {
   "cell_type": "code",
   "execution_count": null,
   "id": "469ba1fe",
   "metadata": {
    "ExecuteTime": {
     "end_time": "2023-01-04T06:21:38.839094Z",
     "start_time": "2023-01-04T06:21:38.826992Z"
    }
   },
   "outputs": [],
   "source": [
    "def encode_tg(v):\n",
    "    r=0\n",
    "    if(v<1.7):\n",
    "        r = 0\n",
    "    elif(v>=1.7 and v<=2.3):\n",
    "        r=1\n",
    "    elif(v>2.3):\n",
    "        r=2\n",
    "    return r"
   ]
  },
  {
   "cell_type": "code",
   "execution_count": null,
   "id": "4a881c67",
   "metadata": {
    "ExecuteTime": {
     "end_time": "2023-01-04T06:22:04.122044Z",
     "start_time": "2023-01-04T06:22:04.107080Z"
    }
   },
   "outputs": [],
   "source": [
    "df['TG'] = df.TG.apply(encode_tg)\n",
    "df['TG']"
   ]
  },
  {
   "cell_type": "code",
   "execution_count": null,
   "id": "18050a27",
   "metadata": {
    "ExecuteTime": {
     "end_time": "2023-01-04T06:22:28.903271Z",
     "start_time": "2023-01-04T06:22:28.884320Z"
    }
   },
   "outputs": [],
   "source": [
    "df['LDL'].dtype"
   ]
  },
  {
   "cell_type": "code",
   "execution_count": null,
   "id": "07362a50",
   "metadata": {
    "ExecuteTime": {
     "end_time": "2023-01-04T06:23:00.823728Z",
     "start_time": "2023-01-04T06:23:00.813791Z"
    }
   },
   "outputs": [],
   "source": [
    "def encode_ldl(v):\n",
    "    r=0\n",
    "    if(v<1.8):\n",
    "        r = 0\n",
    "    elif(v>=1.8 and v<=2.5):\n",
    "        r=1\n",
    "    elif(v>=2.6 and v<=3.3):\n",
    "        r=2\n",
    "    elif(v>=3.4 and v<=4.9):\n",
    "        r=3\n",
    "    elif(v>4.9):\n",
    "        r=4\n",
    "    return r"
   ]
  },
  {
   "cell_type": "code",
   "execution_count": null,
   "id": "d0af04c9",
   "metadata": {
    "ExecuteTime": {
     "end_time": "2023-01-04T06:23:09.933473Z",
     "start_time": "2023-01-04T06:23:09.907505Z"
    }
   },
   "outputs": [],
   "source": [
    "df['LDL'] = df.LDL.apply(encode_ldl)\n",
    "df['LDL']"
   ]
  },
  {
   "cell_type": "code",
   "execution_count": null,
   "id": "67e37c07",
   "metadata": {
    "ExecuteTime": {
     "end_time": "2023-01-04T06:23:24.314598Z",
     "start_time": "2023-01-04T06:23:24.300636Z"
    }
   },
   "outputs": [],
   "source": [
    "df['HDL'].dtype"
   ]
  },
  {
   "cell_type": "code",
   "execution_count": null,
   "id": "992a5d7d",
   "metadata": {
    "ExecuteTime": {
     "end_time": "2023-01-04T06:23:41.145171Z",
     "start_time": "2023-01-04T06:23:41.125191Z"
    }
   },
   "outputs": [],
   "source": [
    "def encode_hdl(v):\n",
    "    if(v<=1):\n",
    "        r = 0\n",
    "    elif(v>1):\n",
    "        r=1\n",
    "    return r"
   ]
  },
  {
   "cell_type": "code",
   "execution_count": null,
   "id": "3d8d2259",
   "metadata": {
    "ExecuteTime": {
     "end_time": "2023-01-04T06:23:50.005973Z",
     "start_time": "2023-01-04T06:23:49.992452Z"
    }
   },
   "outputs": [],
   "source": [
    "df['HDL']=df.HDL.apply(encode_hdl)\n",
    "df['HDL']"
   ]
  },
  {
   "cell_type": "code",
   "execution_count": null,
   "id": "bfefe56f",
   "metadata": {
    "ExecuteTime": {
     "end_time": "2023-01-04T06:24:08.623082Z",
     "start_time": "2023-01-04T06:24:08.612071Z"
    }
   },
   "outputs": [],
   "source": [
    "df['DDP'].dtype"
   ]
  },
  {
   "cell_type": "code",
   "execution_count": null,
   "id": "75241615",
   "metadata": {
    "ExecuteTime": {
     "end_time": "2023-01-04T06:24:23.803492Z",
     "start_time": "2023-01-04T06:24:23.795550Z"
    }
   },
   "outputs": [],
   "source": [
    "def encode_ddp(v):\n",
    "    if(v<0.55):\n",
    "        r = 0\n",
    "    elif(v>=0.55):\n",
    "        r=1\n",
    "    return r"
   ]
  },
  {
   "cell_type": "code",
   "execution_count": null,
   "id": "b0617211",
   "metadata": {
    "ExecuteTime": {
     "end_time": "2023-01-04T06:24:40.325729Z",
     "start_time": "2023-01-04T06:24:40.306817Z"
    }
   },
   "outputs": [],
   "source": [
    "df['DDP'] = df.DDP.apply(encode_ddp)\n",
    "df['DDP']"
   ]
  },
  {
   "cell_type": "code",
   "execution_count": null,
   "id": "83c5eb95",
   "metadata": {
    "ExecuteTime": {
     "end_time": "2023-01-04T06:24:55.281351Z",
     "start_time": "2023-01-04T06:24:55.271375Z"
    }
   },
   "outputs": [],
   "source": [
    "df['PR'].dtype"
   ]
  },
  {
   "cell_type": "code",
   "execution_count": null,
   "id": "7920752c",
   "metadata": {
    "ExecuteTime": {
     "end_time": "2023-01-04T06:25:48.461340Z",
     "start_time": "2023-01-04T06:25:48.443353Z"
    }
   },
   "outputs": [],
   "source": [
    "def encode_pr(v):\n",
    "    r=0\n",
    "    if(v<0.12):\n",
    "        r = 0\n",
    "    elif(v>=0.12 and v<=0.2):\n",
    "        r=1\n",
    "    elif(v>0.2):\n",
    "        r=2\n",
    "    return r"
   ]
  },
  {
   "cell_type": "code",
   "execution_count": null,
   "id": "8e28bf08",
   "metadata": {
    "ExecuteTime": {
     "end_time": "2023-01-04T06:25:57.068357Z",
     "start_time": "2023-01-04T06:25:57.050406Z"
    }
   },
   "outputs": [],
   "source": [
    "df['PR'] = df.PR.apply(encode_pr)\n",
    "df['PR']"
   ]
  },
  {
   "cell_type": "code",
   "execution_count": null,
   "id": "30a492d7",
   "metadata": {
    "ExecuteTime": {
     "end_time": "2023-01-04T06:26:09.026709Z",
     "start_time": "2023-01-04T06:26:09.016736Z"
    }
   },
   "outputs": [],
   "source": [
    "df['QTc'].dtype"
   ]
  },
  {
   "cell_type": "code",
   "execution_count": null,
   "id": "0df9146a",
   "metadata": {
    "ExecuteTime": {
     "end_time": "2023-01-04T06:26:31.035643Z",
     "start_time": "2023-01-04T06:26:31.020684Z"
    }
   },
   "outputs": [],
   "source": [
    "def encode_qtc(v):\n",
    "    r=0\n",
    "    if(v<340):\n",
    "        r = 0\n",
    "    elif(v>=340 and v<=439):\n",
    "        r=1\n",
    "    elif(v>=440):\n",
    "        r=2\n",
    "    return r"
   ]
  },
  {
   "cell_type": "code",
   "execution_count": null,
   "id": "40b5babc",
   "metadata": {
    "ExecuteTime": {
     "end_time": "2023-01-04T06:26:39.714718Z",
     "start_time": "2023-01-04T06:26:39.694807Z"
    }
   },
   "outputs": [],
   "source": [
    "df['QTc'] = df.QTc.apply(encode_qtc)\n",
    "df['QTc']"
   ]
  },
  {
   "cell_type": "code",
   "execution_count": null,
   "id": "1af5e9c8",
   "metadata": {
    "ExecuteTime": {
     "end_time": "2023-01-04T06:27:11.504645Z",
     "start_time": "2023-01-04T06:27:11.491680Z"
    }
   },
   "outputs": [],
   "source": [
    "df['TNI'].dtype"
   ]
  },
  {
   "cell_type": "code",
   "execution_count": null,
   "id": "d8dfb1ef",
   "metadata": {
    "ExecuteTime": {
     "end_time": "2023-01-04T06:28:07.248855Z",
     "start_time": "2023-01-04T06:28:07.227808Z"
    }
   },
   "outputs": [],
   "source": [
    "def encode_tni(v):\n",
    "    r=0\n",
    "    if(v<0.03):\n",
    "        r = 0\n",
    "    elif(v>=0.03 and v<=1):\n",
    "        r=1\n",
    "    elif(v>=1.01 and v<=10):\n",
    "        r=2\n",
    "    elif(v>=10.01 and v<=50):\n",
    "        r=3\n",
    "    elif(v>=50.01 and v<=200):\n",
    "        r=4\n",
    "    elif(v>200):\n",
    "        r=5\n",
    "    return r"
   ]
  },
  {
   "cell_type": "code",
   "execution_count": null,
   "id": "344dc3bb",
   "metadata": {
    "ExecuteTime": {
     "end_time": "2023-01-04T06:28:16.383721Z",
     "start_time": "2023-01-04T06:28:16.359785Z"
    }
   },
   "outputs": [],
   "source": [
    "df['TNI']=df.TNI.apply(encode_tni)\n",
    "df['TNI']"
   ]
  },
  {
   "cell_type": "code",
   "execution_count": null,
   "id": "4167aab6",
   "metadata": {
    "ExecuteTime": {
     "end_time": "2023-01-04T06:29:20.186353Z",
     "start_time": "2023-01-04T06:29:20.170397Z"
    }
   },
   "outputs": [],
   "source": [
    "df['Pro_BNP'].dtype"
   ]
  },
  {
   "cell_type": "code",
   "execution_count": null,
   "id": "c049bc95",
   "metadata": {
    "ExecuteTime": {
     "end_time": "2023-01-04T06:29:57.119252Z",
     "start_time": "2023-01-04T06:29:57.100336Z"
    }
   },
   "outputs": [],
   "source": [
    "def encode_probnp(v):\n",
    "    r=0\n",
    "    if(v<300):\n",
    "        r = 0\n",
    "    elif(v>=300 and v<=449):\n",
    "        r=1\n",
    "    elif(v>=450 and v<=899):\n",
    "        r=2\n",
    "    elif(v>=950 and v<=1799):\n",
    "        r=3\n",
    "    elif(v>=1800 and v<=4499):\n",
    "        r=4\n",
    "    elif(v>=4500 and v<=8999):\n",
    "        r=5\n",
    "    elif(v>9000):\n",
    "        r=6\n",
    "    return r"
   ]
  },
  {
   "cell_type": "code",
   "execution_count": null,
   "id": "816c356f",
   "metadata": {
    "ExecuteTime": {
     "end_time": "2023-01-04T06:30:09.050184Z",
     "start_time": "2023-01-04T06:30:09.027209Z"
    }
   },
   "outputs": [],
   "source": [
    "df['Pro_BNP'] = df.Pro_BNP.apply(encode_probnp)\n",
    "df['Pro_BNP']"
   ]
  },
  {
   "cell_type": "code",
   "execution_count": null,
   "id": "bc197b7b",
   "metadata": {
    "ExecuteTime": {
     "end_time": "2023-01-04T06:30:42.657103Z",
     "start_time": "2023-01-04T06:30:42.642144Z"
    }
   },
   "outputs": [],
   "source": [
    "df['Pre_diabetesmellitus'].dtype"
   ]
  },
  {
   "cell_type": "code",
   "execution_count": null,
   "id": "80073c29",
   "metadata": {
    "ExecuteTime": {
     "end_time": "2023-01-04T06:32:45.809103Z",
     "start_time": "2023-01-04T06:32:45.798131Z"
    }
   },
   "outputs": [],
   "source": [
    "df['Pre_hypertension'].dtype"
   ]
  },
  {
   "cell_type": "code",
   "execution_count": null,
   "id": "91ab6a9e",
   "metadata": {
    "ExecuteTime": {
     "end_time": "2023-01-04T06:33:39.699557Z",
     "start_time": "2023-01-04T06:33:39.691541Z"
    }
   },
   "outputs": [],
   "source": [
    "def encode_all(v):\n",
    "    r=0\n",
    "    if(v=='1'):\n",
    "        r = 1\n",
    "    elif(v=='N'):\n",
    "        r=0\n",
    "    return r"
   ]
  },
  {
   "cell_type": "code",
   "execution_count": null,
   "id": "acba442f",
   "metadata": {
    "ExecuteTime": {
     "end_time": "2023-01-04T06:33:42.834981Z",
     "start_time": "2023-01-04T06:33:42.811009Z"
    }
   },
   "outputs": [],
   "source": [
    "df['Pre_diabetesmellitus'] = df.Pre_diabetesmellitus.apply(encode_all)\n",
    "df['Pre_diabetesmellitus']"
   ]
  },
  {
   "cell_type": "code",
   "execution_count": null,
   "id": "11882d61",
   "metadata": {
    "ExecuteTime": {
     "end_time": "2023-01-04T06:36:34.139796Z",
     "start_time": "2023-01-04T06:36:34.101859Z"
    }
   },
   "outputs": [],
   "source": [
    "df['Pre_hypertension'] = df.Pre_hypertension.apply(encode_all)\n",
    "df['smoker'] = df.smoker.apply(encode_all)\n",
    "df['drinker'] = df.drinker.apply(encode_all)\n",
    "df['PriorCHD'] = df.PriorCHD.apply(encode_all)\n",
    "df['PriorCI'] = df.PriorCI.apply(encode_all)\n",
    "df['PriorHF'] = df.PriorHF.apply(encode_all)\n",
    "df['PriorMI'] = df.PriorMI.apply(encode_all)\n",
    "df['Arrhythmia'] = df.Arrhythmia.apply(encode_all)"
   ]
  },
  {
   "cell_type": "code",
   "execution_count": null,
   "id": "a88eec8c",
   "metadata": {
    "ExecuteTime": {
     "end_time": "2023-01-04T06:36:46.017926Z",
     "start_time": "2023-01-04T06:36:46.004928Z"
    }
   },
   "outputs": [],
   "source": [
    "df['Arrhythmia']"
   ]
  },
  {
   "cell_type": "code",
   "execution_count": null,
   "id": "4f71c066",
   "metadata": {
    "ExecuteTime": {
     "end_time": "2023-01-04T06:36:53.917185Z",
     "start_time": "2023-01-04T06:36:53.882280Z"
    }
   },
   "outputs": [],
   "source": [
    "df"
   ]
  },
  {
   "cell_type": "code",
   "execution_count": null,
   "id": "8670b88d",
   "metadata": {
    "ExecuteTime": {
     "end_time": "2023-01-04T06:37:02.658936Z",
     "start_time": "2023-01-04T06:37:02.620000Z"
    }
   },
   "outputs": [],
   "source": [
    "df.to_csv('encoded_data.csv', index=False)"
   ]
  },
  {
   "cell_type": "code",
   "execution_count": null,
   "id": "3127b3c3",
   "metadata": {},
   "outputs": [],
   "source": []
  }
 ],
 "metadata": {
  "kernelspec": {
   "display_name": "mlenv",
   "language": "python",
   "name": "mlenv"
  },
  "language_info": {
   "codemirror_mode": {
    "name": "ipython",
    "version": 3
   },
   "file_extension": ".py",
   "mimetype": "text/x-python",
   "name": "python",
   "nbconvert_exporter": "python",
   "pygments_lexer": "ipython3",
   "version": "3.9.12"
  },
  "varInspector": {
   "cols": {
    "lenName": 16,
    "lenType": 16,
    "lenVar": 40
   },
   "kernels_config": {
    "python": {
     "delete_cmd_postfix": "",
     "delete_cmd_prefix": "del ",
     "library": "var_list.py",
     "varRefreshCmd": "print(var_dic_list())"
    },
    "r": {
     "delete_cmd_postfix": ") ",
     "delete_cmd_prefix": "rm(",
     "library": "var_list.r",
     "varRefreshCmd": "cat(var_dic_list()) "
    }
   },
   "types_to_exclude": [
    "module",
    "function",
    "builtin_function_or_method",
    "instance",
    "_Feature"
   ],
   "window_display": false
  }
 },
 "nbformat": 4,
 "nbformat_minor": 5
}
