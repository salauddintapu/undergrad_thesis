{
 "cells": [
  {
   "cell_type": "code",
   "execution_count": 1,
   "id": "e9f7d56b",
   "metadata": {
    "ExecuteTime": {
     "end_time": "2023-02-09T12:42:17.075326Z",
     "start_time": "2023-02-09T12:41:56.824446Z"
    }
   },
   "outputs": [],
   "source": [
    "import numpy as np\n",
    "import pandas as pd\n",
    "import matplotlib.pyplot as plt\n",
    "import seaborn as sns\n",
    "from sklearn.manifold import TSNE"
   ]
  },
  {
   "cell_type": "code",
   "execution_count": null,
   "id": "0447cb1a",
   "metadata": {
    "ExecuteTime": {
     "end_time": "2023-01-20T17:36:29.022533Z",
     "start_time": "2023-01-20T17:36:28.913335Z"
    }
   },
   "outputs": [],
   "source": [
    "df = pd.read_csv('encoded_data.csv')\n",
    "x = df.drop(['Arrhythmia'], axis=1)\n",
    "y = df['Arrhythmia']"
   ]
  },
  {
   "cell_type": "code",
   "execution_count": null,
   "id": "319a2525",
   "metadata": {
    "ExecuteTime": {
     "end_time": "2023-01-20T17:39:54.978046Z",
     "start_time": "2023-01-20T17:39:30.320805Z"
    }
   },
   "outputs": [],
   "source": [
    "tsne = TSNE(n_components=2, verbose=1,random_state=23, n_jobs=-1)\n",
    "z = tsne.fit_transform(x)"
   ]
  },
  {
   "cell_type": "code",
   "execution_count": null,
   "id": "02389fcc",
   "metadata": {
    "ExecuteTime": {
     "end_time": "2023-01-20T17:45:09.784071Z",
     "start_time": "2023-01-20T17:45:09.726587Z"
    }
   },
   "outputs": [],
   "source": [
    "df_new = pd.DataFrame()\n",
    "df_new[\"y\"] = y\n",
    "df_new[\"comp-1\"] = z[:, 0]\n",
    "df_new[\"comp-2\"] = z[:, 1]\n",
    "df_new"
   ]
  },
  {
   "cell_type": "code",
   "execution_count": null,
   "id": "e93cff90",
   "metadata": {
    "ExecuteTime": {
     "end_time": "2023-01-20T18:22:27.482761Z",
     "start_time": "2023-01-20T18:22:26.744189Z"
    }
   },
   "outputs": [],
   "source": [
    "plt.figure(figsize=(16,10))\n",
    "sns.scatterplot(x=\"comp-1\", y=\"comp-2\", hue=df_new.y.tolist(), palette=sns.color_palette(\"colorblind\", 2), data=df_new).set(title=\"T-SNE projection\")\n",
    "plt.savefig('FS results/T-SNE.png')"
   ]
  },
  {
   "cell_type": "code",
   "execution_count": null,
   "id": "d77f842f",
   "metadata": {
    "ExecuteTime": {
     "end_time": "2023-01-20T18:48:23.869431Z",
     "start_time": "2023-01-20T18:48:22.769001Z"
    },
    "scrolled": false
   },
   "outputs": [],
   "source": [
    "fig, axes = plt.subplots(1, 5, figsize=(16,10))\n",
    "fig.suptitle('Feature Distribution')\n",
    "\n",
    "sns.violinplot(ax=axes[0], data=df['Age'], palette=sns.color_palette(\"colorblind\"))\n",
    "axes[0].set_title('Age')\n",
    "\n",
    "sns.violinplot(ax=axes[1], data=df['SBP'], palette=sns.color_palette(\"colorblind\"))\n",
    "axes[1].set_title('SBP')\n",
    "\n",
    "sns.violinplot(ax=axes[2], data=df['DBP'], palette=sns.color_palette(\"colorblind\"))\n",
    "axes[2].set_title('DBP')\n",
    "\n",
    "sns.violinplot(ax=axes[3], data=df['BPM'], palette=sns.color_palette(\"colorblind\"))\n",
    "axes[3].set_title('Heart Beats')\n",
    "\n",
    "sns.violinplot(ax=axes[4], data=df['Pro_BNP'], palette=sns.color_palette(\"colorblind\"))\n",
    "axes[4].set_title('Pro-BNP')\n",
    "\n",
    "plt.savefig('FS results/DD1')"
   ]
  },
  {
   "cell_type": "code",
   "execution_count": null,
   "id": "7b5a9b38",
   "metadata": {
    "ExecuteTime": {
     "end_time": "2023-01-20T18:49:58.864050Z",
     "start_time": "2023-01-20T18:49:57.727097Z"
    }
   },
   "outputs": [],
   "source": [
    "fig, axes = plt.subplots(1, 5, figsize=(16,10))\n",
    "fig.suptitle('Feature Distribution')\n",
    "\n",
    "sns.violinplot(ax=axes[0], data=df['CRP'], palette=sns.color_palette(\"colorblind\"))\n",
    "axes[0].set_title('CRP')\n",
    "\n",
    "sns.violinplot(ax=axes[1], data=df['TC'], palette=sns.color_palette(\"colorblind\"))\n",
    "axes[1].set_title('TC')\n",
    "\n",
    "sns.violinplot(ax=axes[2], data=df['TG'], palette=sns.color_palette(\"colorblind\"))\n",
    "axes[2].set_title('TG')\n",
    "\n",
    "sns.violinplot(ax=axes[3], data=df['HDL'], palette=sns.color_palette(\"colorblind\"))\n",
    "axes[3].set_title('HDL')\n",
    "\n",
    "sns.violinplot(ax=axes[4], data=df['LDL'], palette=sns.color_palette(\"colorblind\"))\n",
    "axes[4].set_title('LDL')\n",
    "\n",
    "plt.savefig('FS results/DD2')"
   ]
  },
  {
   "cell_type": "code",
   "execution_count": null,
   "id": "6a02da68",
   "metadata": {
    "ExecuteTime": {
     "end_time": "2023-01-20T18:52:14.471500Z",
     "start_time": "2023-01-20T18:52:13.326401Z"
    }
   },
   "outputs": [],
   "source": [
    "fig, axes = plt.subplots(1, 5, figsize=(16,10))\n",
    "fig.suptitle('Feature Distribution')\n",
    "\n",
    "sns.violinplot(ax=axes[0], data=df['Cr'], palette=sns.color_palette(\"colorblind\"))\n",
    "axes[0].set_title('Cr')\n",
    "\n",
    "sns.violinplot(ax=axes[1], data=df['k'], palette=sns.color_palette(\"colorblind\"))\n",
    "axes[1].set_title('k+')\n",
    "\n",
    "sns.violinplot(ax=axes[2], data=df['TNI'], palette=sns.color_palette(\"colorblind\"))\n",
    "axes[2].set_title('TNI')\n",
    "\n",
    "sns.violinplot(ax=axes[3], data=df['CKMB'], palette=sns.color_palette(\"colorblind\"))\n",
    "axes[3].set_title('CK-MB')\n",
    "\n",
    "sns.violinplot(ax=axes[4], data=df['DDP'], palette=sns.color_palette(\"colorblind\"))\n",
    "axes[4].set_title('DD-P')\n",
    "\n",
    "plt.savefig('FS results/DD3')"
   ]
  },
  {
   "cell_type": "code",
   "execution_count": null,
   "id": "ab15a0ca",
   "metadata": {
    "ExecuteTime": {
     "end_time": "2023-01-20T18:54:23.794253Z",
     "start_time": "2023-01-20T18:54:22.530235Z"
    }
   },
   "outputs": [],
   "source": [
    "fig, axes = plt.subplots(1, 5, figsize=(16,10))\n",
    "fig.suptitle('Feature Distribution')\n",
    "\n",
    "sns.violinplot(ax=axes[0], data=df['LVEF'], palette=sns.color_palette(\"colorblind\"))\n",
    "axes[0].set_title('LVEF')\n",
    "\n",
    "sns.violinplot(ax=axes[1], data=df['FS'], palette=sns.color_palette(\"colorblind\"))\n",
    "axes[1].set_title('FS')\n",
    "\n",
    "sns.violinplot(ax=axes[2], data=df['EA'], palette=sns.color_palette(\"colorblind\"))\n",
    "axes[2].set_title('E/A')\n",
    "\n",
    "sns.violinplot(ax=axes[3], data=df['dt'], palette=sns.color_palette(\"colorblind\"))\n",
    "axes[3].set_title('dt')\n",
    "\n",
    "sns.violinplot(ax=axes[4], data=df['LVEDD'], palette=sns.color_palette(\"colorblind\"))\n",
    "axes[4].set_title('LVEDD')\n",
    "\n",
    "plt.savefig('FS results/DD4')"
   ]
  },
  {
   "cell_type": "code",
   "execution_count": null,
   "id": "de4e65bb",
   "metadata": {
    "ExecuteTime": {
     "end_time": "2023-01-20T18:56:56.054805Z",
     "start_time": "2023-01-20T18:56:55.019597Z"
    }
   },
   "outputs": [],
   "source": [
    "fig, axes = plt.subplots(1, 5, figsize=(16,10))\n",
    "fig.suptitle('Feature Distribution')\n",
    "\n",
    "sns.violinplot(ax=axes[0], data=df['IVST'], palette=sns.color_palette(\"colorblind\"))\n",
    "axes[0].set_title('IVST')\n",
    "\n",
    "sns.violinplot(ax=axes[1], data=df['LVPWT'], palette=sns.color_palette(\"colorblind\"))\n",
    "axes[1].set_title('LVPWT')\n",
    "\n",
    "sns.violinplot(ax=axes[2], data=df['LA'], palette=sns.color_palette(\"colorblind\"))\n",
    "axes[2].set_title('LA')\n",
    "\n",
    "sns.violinplot(ax=axes[3], data=df['RAUD'], palette=sns.color_palette(\"colorblind\"))\n",
    "axes[3].set_title('RA (up and down)')\n",
    "\n",
    "sns.violinplot(ax=axes[4], data=df['RARL'], palette=sns.color_palette(\"colorblind\"))\n",
    "axes[4].set_title('RA (right and left)')\n",
    "\n",
    "plt.savefig('FS results/DD5')"
   ]
  },
  {
   "cell_type": "code",
   "execution_count": null,
   "id": "6ff7a38e",
   "metadata": {
    "ExecuteTime": {
     "end_time": "2023-01-20T19:00:46.374097Z",
     "start_time": "2023-01-20T19:00:45.315758Z"
    }
   },
   "outputs": [],
   "source": [
    "fig, axes = plt.subplots(1, 5, figsize=(16,10))\n",
    "fig.suptitle('Feature Distribution')\n",
    "\n",
    "sns.violinplot(ax=axes[0], data=df['PA'], palette=sns.color_palette(\"colorblind\"))\n",
    "axes[0].set_title('PA')\n",
    "\n",
    "sns.violinplot(ax=axes[1], data=df['Vpa'], palette=sns.color_palette(\"colorblind\"))\n",
    "axes[1].set_title('Vpa')\n",
    "\n",
    "sns.violinplot(ax=axes[2], data=df['Vao'], palette=sns.color_palette(\"colorblind\"))\n",
    "axes[2].set_title('Vao')\n",
    "\n",
    "sns.violinplot(ax=axes[3], data=df['PR'], palette=sns.color_palette(\"colorblind\"))\n",
    "axes[3].set_title('P-R')\n",
    "\n",
    "sns.violinplot(ax=axes[4], data=df['QTc'], palette=sns.color_palette(\"colorblind\"))\n",
    "axes[4].set_title('Q-Tc')\n",
    "\n",
    "plt.savefig('FS results/DD6')"
   ]
  },
  {
   "cell_type": "code",
   "execution_count": null,
   "id": "0ec27c6f",
   "metadata": {
    "ExecuteTime": {
     "end_time": "2023-01-20T19:03:27.160324Z",
     "start_time": "2023-01-20T19:03:25.917033Z"
    }
   },
   "outputs": [],
   "source": [
    "fig, axes = plt.subplots(1, 5, figsize=(16,10))\n",
    "fig.suptitle('Feature Distribution')\n",
    "\n",
    "sns.violinplot(ax=axes[0], data=df['UGLU'], palette=sns.color_palette(\"colorblind\"))\n",
    "axes[0].set_title('UGLU')\n",
    "\n",
    "sns.violinplot(ax=axes[1], data=df['Pre_hypertension'], palette=sns.color_palette(\"colorblind\"))\n",
    "axes[1].set_title('Pre-hypertension')\n",
    "\n",
    "sns.violinplot(ax=axes[2], data=df['Pre_diabetesmellitus'], palette=sns.color_palette(\"colorblind\"))\n",
    "axes[2].set_title('Pre-diabetes Mellitus')\n",
    "\n",
    "sns.violinplot(ax=axes[3], data=df['smoker'], palette=sns.color_palette(\"colorblind\"))\n",
    "axes[3].set_title('Smoker')\n",
    "\n",
    "sns.violinplot(ax=axes[4], data=df['drinker'], palette=sns.color_palette(\"colorblind\"))\n",
    "axes[4].set_title('Drinker')\n",
    "\n",
    "plt.savefig('FS results/DD7')"
   ]
  },
  {
   "cell_type": "code",
   "execution_count": null,
   "id": "848d9bfc",
   "metadata": {
    "ExecuteTime": {
     "end_time": "2023-01-20T19:05:13.816223Z",
     "start_time": "2023-01-20T19:05:12.828717Z"
    }
   },
   "outputs": [],
   "source": [
    "fig, axes = plt.subplots(1, 5, figsize=(16,10))\n",
    "fig.suptitle('Feature Distribution')\n",
    "\n",
    "sns.violinplot(ax=axes[0], data=df['PriorMI'], palette=sns.color_palette(\"colorblind\"))\n",
    "axes[0].set_title('Prior MI')\n",
    "\n",
    "sns.violinplot(ax=axes[1], data=df['PriorCI'], palette=sns.color_palette(\"colorblind\"))\n",
    "axes[1].set_title('Prior CI')\n",
    "\n",
    "sns.violinplot(ax=axes[2], data=df['PriorHF'], palette=sns.color_palette(\"colorblind\"))\n",
    "axes[2].set_title('Prior HF')\n",
    "\n",
    "sns.violinplot(ax=axes[3], data=df['PriorCHD'], palette=sns.color_palette(\"colorblind\"))\n",
    "axes[3].set_title('Prior CHD')\n",
    "\n",
    "sns.violinplot(ax=axes[4], data=df['sex'], palette=sns.color_palette(\"colorblind\"))\n",
    "axes[4].set_title('sex')\n",
    "\n",
    "plt.savefig('FS results/DD8')"
   ]
  },
  {
   "cell_type": "code",
   "execution_count": null,
   "id": "58ab9805",
   "metadata": {
    "ExecuteTime": {
     "end_time": "2023-01-20T18:38:44.607296Z",
     "start_time": "2023-01-20T18:38:44.592338Z"
    },
    "scrolled": true
   },
   "outputs": [],
   "source": [
    "df.columns"
   ]
  },
  {
   "cell_type": "code",
   "execution_count": null,
   "id": "dcbd063d",
   "metadata": {
    "ExecuteTime": {
     "end_time": "2023-01-20T19:06:57.451329Z",
     "start_time": "2023-01-20T19:06:56.533456Z"
    }
   },
   "outputs": [],
   "source": [
    "fig, axes = plt.subplots(1, 4, figsize=(16,10))\n",
    "fig.suptitle('Feature Distribution')\n",
    "\n",
    "sns.violinplot(ax=axes[0], data=df['VWM'], palette=sns.color_palette(\"colorblind\"))\n",
    "axes[0].set_title('Ventricular Wall Motion Abnormal')\n",
    "\n",
    "sns.violinplot(ax=axes[1], data=df['PCI'], palette=sns.color_palette(\"colorblind\"))\n",
    "axes[1].set_title('PCI')\n",
    "\n",
    "sns.violinplot(ax=axes[2], data=df['BBB'], palette=sns.color_palette(\"colorblind\"))\n",
    "axes[2].set_title('BBB')\n",
    "\n",
    "sns.violinplot(ax=axes[3], data=df['Arrhythmia'], palette=sns.color_palette(\"colorblind\"))\n",
    "axes[3].set_title('Arrhythmia')\n",
    "\n",
    "plt.savefig('FS results/DD8')"
   ]
  },
  {
   "cell_type": "markdown",
   "id": "2153eb99",
   "metadata": {},
   "source": [
    "# Confusion Metrices"
   ]
  },
  {
   "cell_type": "code",
   "execution_count": 23,
   "id": "8f163361",
   "metadata": {
    "ExecuteTime": {
     "end_time": "2023-02-09T16:57:21.189450Z",
     "start_time": "2023-02-09T16:57:21.176527Z"
    }
   },
   "outputs": [
    {
     "data": {
      "text/plain": [
       "array([[103,  19],\n",
       "       [ 71,  15]])"
      ]
     },
     "execution_count": 23,
     "metadata": {},
     "output_type": "execute_result"
    }
   ],
   "source": [
    "#unoptimzed best model\n",
    "cf_mat =[[103, 19],\n",
    "         [71, 15]]\n",
    "\n",
    "cf_mat = np.array(cf_mat)\n",
    "cf_mat"
   ]
  },
  {
   "cell_type": "code",
   "execution_count": null,
   "id": "b005de89",
   "metadata": {
    "ExecuteTime": {
     "end_time": "2023-01-24T06:58:42.081063Z",
     "start_time": "2023-01-24T06:58:41.667170Z"
    }
   },
   "outputs": [],
   "source": [
    "plt.rcParams['figure.figsize'] = [8, 8]\n",
    "plt.style.use('fivethirtyeight')\n",
    "#group_names = ['True Neg', 'False Pos', 'False Neg', 'True Pos']\n",
    "group_counts = [\"{0:0.0f}\".format(value) for value in cf_mat.flatten()]\n",
    "#group_percentages = [\"{0:.2%}\".format(value) for value in cf_mat.flatten()/np.sum(cf_mat)]\n",
    "labels = [f'{v1}' for v1 in zip(group_counts)]\n",
    "labels = np.asarray(labels).reshape(2,2)\n",
    "#sns.heatmap(cf_mat, annot=labels, fmt='', cmap='Purples_r')\n",
    "plt.title('Confusion Matrix')\n",
    "plt.xlabel('Predicted Value')\n",
    "plt.ylabel('Actual Value')\n",
    "plt.savefig('FS results/Statistical Results/conf_mat.png')"
   ]
  },
  {
   "cell_type": "code",
   "execution_count": 24,
   "id": "2bd41876",
   "metadata": {
    "ExecuteTime": {
     "end_time": "2023-02-09T16:57:50.492442Z",
     "start_time": "2023-02-09T16:57:35.558935Z"
    }
   },
   "outputs": [
    {
     "data": {
      "image/png": "[encoded data removed]",
      "text/plain": [
       "<Figure size 576x576 with 1 Axes>"
      ]
     },
     "metadata": {},
     "output_type": "display_data"
    }
   ],
   "source": [
    "plt.rcParams['figure.figsize'] = [8, 8]\n",
    "plt.style.use('fivethirtyeight')\n",
    "labels = [\"{0:0.0f}\".format(value) for value in cf_mat.flatten()]\n",
    "labels = np.asarray(labels).reshape(2,2)\n",
    "sns.heatmap(cf_mat, annot=labels, fmt='', cmap='Purples_r', cbar= False)\n",
    "plt.xlabel('Predicted Value')\n",
    "plt.ylabel('Actual Value')\n",
    "plt.savefig('FS results/pa21/worst_conf_mat.png', dpi=1800)"
   ]
  }
 ],
 "metadata": {
  "kernelspec": {
   "display_name": "mlenv",
   "language": "python",
   "name": "mlenv"
  },
  "language_info": {
   "codemirror_mode": {
    "name": "ipython",
    "version": 3
   },
   "file_extension": ".py",
   "mimetype": "text/x-python",
   "name": "python",
   "nbconvert_exporter": "python",
   "pygments_lexer": "ipython3",
   "version": "3.9.12"
  },
  "varInspector": {
   "cols": {
    "lenName": 16,
    "lenType": 16,
    "lenVar": 40
   },
   "kernels_config": {
    "python": {
     "delete_cmd_postfix": "",
     "delete_cmd_prefix": "del ",
     "library": "var_list.py",
     "varRefreshCmd": "print(var_dic_list())"
    },
    "r": {
     "delete_cmd_postfix": ") ",
     "delete_cmd_prefix": "rm(",
     "library": "var_list.r",
     "varRefreshCmd": "cat(var_dic_list()) "
    }
   },
   "types_to_exclude": [
    "module",
    "function",
    "builtin_function_or_method",
    "instance",
    "_Feature"
   ],
   "window_display": false
  }
 },
 "nbformat": 4,
 "nbformat_minor": 5
}
