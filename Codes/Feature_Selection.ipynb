{
 "cells": [
  {
   "cell_type": "code",
   "execution_count": null,
   "id": "50079f93",
   "metadata": {
    "ExecuteTime": {
     "end_time": "2023-01-24T06:40:40.986490Z",
     "start_time": "2023-01-24T06:40:40.979510Z"
    }
   },
   "outputs": [],
   "source": [
    "import sys\n",
    "sys.path.insert(0, './src')"
   ]
  },
  {
   "cell_type": "code",
   "execution_count": null,
   "id": "50c33313",
   "metadata": {
    "ExecuteTime": {
     "end_time": "2023-01-24T06:40:46.479311Z",
     "start_time": "2023-01-24T06:40:43.187500Z"
    }
   },
   "outputs": [],
   "source": [
    "#import libraries\n",
    "import numpy as np\n",
    "import pandas as pd\n",
    "from sklearn.ensemble import RandomForestClassifier\n",
    "from sklearn.metrics import accuracy_score, precision_score, recall_score, f1_score, confusion_matrix, roc_curve, roc_auc_score\n",
    "from sklearn.model_selection import train_test_split\n",
    "from src.utils.metric_util import Evaluator\n",
    "from src.config import Config\n",
    "from src.utils.data_util import get_dataset\n",
    "from mealpy.swarm_based.CSA import OriginalCSA\n",
    "import pickle\n",
    "from sklearn.model_selection import StratifiedKFold\n",
    "import time\n",
    "from matplotlib import pyplot as plt"
   ]
  },
  {
   "cell_type": "code",
   "execution_count": null,
   "id": "27e4a19e",
   "metadata": {
    "ExecuteTime": {
     "end_time": "2023-01-24T06:40:48.608086Z",
     "start_time": "2023-01-24T06:40:48.592134Z"
    }
   },
   "outputs": [],
   "source": [
    "rfc = RandomForestClassifier(random_state=2, n_estimators=46, max_depth=30, min_samples_leaf=13, n_jobs=-1, criterion='gini')"
   ]
  },
  {
   "cell_type": "code",
   "execution_count": null,
   "id": "5685deb0",
   "metadata": {
    "ExecuteTime": {
     "end_time": "2023-01-24T06:40:54.263396Z",
     "start_time": "2023-01-24T06:40:54.215525Z"
    }
   },
   "outputs": [],
   "source": [
    "df = pd.read_csv('scaled.csv')\n",
    "x = df.drop(['Arrhythmia'], axis=1)\n",
    "y = df['Arrhythmia']"
   ]
  },
  {
   "cell_type": "code",
   "execution_count": null,
   "id": "1967e02a",
   "metadata": {
    "ExecuteTime": {
     "end_time": "2023-01-19T11:56:20.404267Z",
     "start_time": "2023-01-19T11:56:20.389272Z"
    }
   },
   "outputs": [],
   "source": [
    "#amend position function\n",
    "def amend_position(position, lower, upper):\n",
    "    pos = np.clip(position, lower, upper).astype(int)\n",
    "    if np.all((pos == 0)):\n",
    "        pos[np.random.randint(0, len(pos))] = 1\n",
    "    return pos"
   ]
  },
  {
   "cell_type": "code",
   "execution_count": null,
   "id": "9cebba19",
   "metadata": {
    "ExecuteTime": {
     "end_time": "2023-01-19T11:56:25.071063Z",
     "start_time": "2023-01-19T11:56:25.058100Z"
    }
   },
   "outputs": [],
   "source": [
    "#fitness function\n",
    "def fitness_function(solution):\n",
    "    evaluator = Evaluator(x_train.values, x_test.values, y_train, y_test, solution, Config.CLASSIFIER, Config.DRAW_CONFUSION_MATRIX, Config.AVERAGE_METRIC)\n",
    "    metrics = evaluator.get_metrics()\n",
    "    if Config.PRINT_ALL:\n",
    "        print(metrics)\n",
    "    return list(metrics.values())"
   ]
  },
  {
   "cell_type": "code",
   "execution_count": null,
   "id": "bb451014",
   "metadata": {
    "ExecuteTime": {
     "end_time": "2023-01-19T11:56:35.786438Z",
     "start_time": "2023-01-19T11:56:35.769485Z"
    }
   },
   "outputs": [],
   "source": [
    "n_features = 43\n",
    "LOWER_BOUND = [0, ] * n_features\n",
    "UPPER_BOUND = [1.02, ] * n_features\n",
    "problem_dict1 = {\n",
    "    \"fit_func\": fitness_function,\n",
    "    \"lb\": LOWER_BOUND,\n",
    "    \"ub\": UPPER_BOUND,\n",
    " \n",
    "    \"minmax\": Config.MIN_MAX_PROBLEM,\n",
    "    \"obj_weights\": Config.OBJ_WEIGHTS,\n",
    "    \"amend_position\": amend_position\n",
    "}"
   ]
  },
  {
   "cell_type": "code",
   "execution_count": null,
   "id": "99822ff1",
   "metadata": {
    "ExecuteTime": {
     "end_time": "2023-01-20T08:02:41.453418Z",
     "start_time": "2023-01-20T08:02:41.429483Z"
    }
   },
   "outputs": [],
   "source": [
    "x_train, x_test, y_train, y_test = train_test_split(x, y, shuffle=True, stratify=y, test_size=0.3)"
   ]
  },
  {
   "cell_type": "code",
   "execution_count": null,
   "id": "f44b9183",
   "metadata": {
    "ExecuteTime": {
     "end_time": "2023-01-20T09:00:09.039056Z",
     "start_time": "2023-01-20T08:02:44.826128Z"
    },
    "scrolled": true
   },
   "outputs": [],
   "source": [
    "md_csa = OriginalCSA(epoch=100, pop_size=100, p_a=0.21)\n",
    "best_position, best_fitness= md_csa.solve(problem=problem_dict1)"
   ]
  },
  {
   "cell_type": "code",
   "execution_count": null,
   "id": "f6d76605",
   "metadata": {
    "ExecuteTime": {
     "end_time": "2023-01-19T12:54:13.552341Z",
     "start_time": "2023-01-19T12:54:13.535382Z"
    }
   },
   "outputs": [],
   "source": [
    "#def feature_name(features):\n",
    "    #df1 = pd.read_csv('scaled.csv')\n",
    "    #names = list(df1.columns.values)\n",
    "    #feature = []\n",
    "    #i = 0\n",
    "    #for name in features:\n",
    "        #if name == 1:\n",
    "            #feature.append(names[i])\n",
    "        #else:\n",
    "            #pass\n",
    "        #i+=1\n",
    "    \n",
    "    #return feature"
   ]
  },
  {
   "cell_type": "code",
   "execution_count": null,
   "id": "12023294",
   "metadata": {
    "ExecuteTime": {
     "end_time": "2023-01-20T09:05:45.842913Z",
     "start_time": "2023-01-20T09:05:45.795570Z"
    }
   },
   "outputs": [],
   "source": [
    "feature_name(best_position)"
   ]
  },
  {
   "cell_type": "code",
   "execution_count": null,
   "id": "012e9f39",
   "metadata": {
    "ExecuteTime": {
     "end_time": "2023-01-20T09:06:06.757000Z",
     "start_time": "2023-01-20T09:06:06.698522Z"
    }
   },
   "outputs": [],
   "source": [
    "selected = feature_name(best_position)\n",
    "selected.append('Arrhythmia')\n",
    "df_new = df[selected]\n",
    "df_new.to_csv('pa21.csv', index=False)"
   ]
  },
  {
   "cell_type": "code",
   "execution_count": null,
   "id": "0ae0c356",
   "metadata": {
    "ExecuteTime": {
     "end_time": "2023-01-19T12:56:20.128365Z",
     "start_time": "2023-01-19T12:56:20.122380Z"
    }
   },
   "outputs": [],
   "source": [
    "#from mealpy.utils.visualize import *"
   ]
  },
  {
   "cell_type": "code",
   "execution_count": null,
   "id": "9de220fd",
   "metadata": {
    "ExecuteTime": {
     "end_time": "2023-01-20T09:06:09.497095Z",
     "start_time": "2023-01-20T09:06:08.957491Z"
    }
   },
   "outputs": [],
   "source": [
    "# Draw global best fitness found so far in previous generations\n",
    "export_convergence_chart(md_csa.history.list_global_best_fit, title='Global Best Fitness', x_label='epoch', y_label=\"Accuracy\")"
   ]
  },
  {
   "cell_type": "code",
   "execution_count": null,
   "id": "e513f82e",
   "metadata": {
    "ExecuteTime": {
     "end_time": "2023-01-20T09:06:53.789107Z",
     "start_time": "2023-01-20T09:06:53.215146Z"
    }
   },
   "outputs": [],
   "source": [
    "# Draw current best fitness in each previous generation\n",
    "export_convergence_chart(md_csa.history.list_current_best_fit, title='Local Best Fitness', x_label='epoch', y_label=\"Accuracy\")"
   ]
  },
  {
   "cell_type": "code",
   "execution_count": null,
   "id": "cd37c0f3",
   "metadata": {
    "ExecuteTime": {
     "end_time": "2023-01-20T09:07:11.624610Z",
     "start_time": "2023-01-20T09:07:11.065055Z"
    }
   },
   "outputs": [],
   "source": [
    "# Draw runtime for each generation\n",
    "export_convergence_chart(md_csa.history.list_epoch_time, title='Runtime', x_label='epoch', y_label=\"Second\")"
   ]
  },
  {
   "cell_type": "code",
   "execution_count": null,
   "id": "6d08e461",
   "metadata": {
    "ExecuteTime": {
     "end_time": "2023-01-20T09:07:26.404746Z",
     "start_time": "2023-01-20T09:07:25.292140Z"
    }
   },
   "outputs": [],
   "source": [
    "# This exploration/exploitation chart should draws for single algorithm and single fitness function\n",
    "# Draw exploration and exploitation chart\n",
    "export_explore_exploit_chart([md_csa.history.list_exploration, md_csa.history.list_exploitation], x_label='epoch')"
   ]
  },
  {
   "cell_type": "code",
   "execution_count": null,
   "id": "83103867",
   "metadata": {
    "ExecuteTime": {
     "end_time": "2023-01-24T06:41:33.942914Z",
     "start_time": "2023-01-24T06:41:33.876095Z"
    }
   },
   "outputs": [],
   "source": [
    "df_fs = pd.read_csv('encoded_data.csv')\n",
    "x_fs = np.array(df[['BBB', 'PR', 'RARL']])\n",
    "y_fs = np.array(df['Arrhythmia'])\n",
    "x_fs"
   ]
  },
  {
   "cell_type": "code",
   "execution_count": null,
   "id": "75730805",
   "metadata": {
    "ExecuteTime": {
     "end_time": "2023-01-24T06:42:15.077022Z",
     "start_time": "2023-01-24T06:42:10.804875Z"
    }
   },
   "outputs": [],
   "source": [
    "strat_kfold = StratifiedKFold(n_splits=10, shuffle=True, random_state=1)\n",
    "test_acc = []\n",
    "train_acc = []\n",
    "fit_time = []\n",
    "score_time = []\n",
    "p_score = []\n",
    "r_score = []\n",
    "f_score = []\n",
    "conf_mat = []\n",
    "roc_score = []\n",
    "#class_report = []\n",
    "i=0\n",
    "\n",
    "for train_index, test_index in strat_kfold.split(x_fs, y_fs):\n",
    "    x_train_fold, x_test_fold = x_fs[train_index], x_fs[test_index]\n",
    "    y_train_fold, y_test_fold = y_fs[train_index], y_fs[test_index]\n",
    "    \n",
    "    start_fit = time.time() #record start time\n",
    "    rfc.fit(x_train_fold, y_train_fold)\n",
    "    end_fit = time.time() #record end time\n",
    "    fit_time.append((end_fit-start_fit) * 10**3) #time in ms\n",
    "    \n",
    "    start_score = time.time() #record score time\n",
    "    y_predict = rfc.predict(x_test_fold)\n",
    "    end_score = time.time() #record end score time\n",
    "    score_time.append((end_score-start_score) * 10**3) #time in ms\n",
    "    \n",
    "    #scorings\n",
    "    accuracy_test = accuracy_score(y_test_fold, y_predict)\n",
    "    test_acc.append(accuracy_test)\n",
    "    \n",
    "    f_score.append(f1_score(y_test_fold, y_predict, average='weighted')) #f1 score\n",
    "    p_score.append(precision_score(y_test_fold, y_predict, average='weighted')) #precission score\n",
    "    r_score.append(recall_score(y_test_fold, y_predict, average='weighted')) #recall score\n",
    "    #class_report.append(classification_report(y_test_fold, y_predict)) #classification report\n",
    "    conf_mat.append(confusion_matrix(y_test_fold, y_predict)) #confusion matrix\n",
    "    roc_score.append(roc_auc_score(y_test_fold, y_predict)) #auc\n",
    "    \n",
    "    #roc curve\n",
    "    plt.clf()\n",
    "    plt.cla()\n",
    "    fpr, tpr, _ = roc_curve(y_test_fold, y_predict)\n",
    "    auc = roc_auc_score(y_test_fold, y_predict)\n",
    "    plt.rcParams['figure.figsize'] = [11, 5]\n",
    "    plt.plot(fpr, tpr, label=\"AUC=\"+str(auc), color = 'teal')\n",
    "    plt.ylabel('True Positive Rate')\n",
    "    plt.xlabel('False Positive Rate')\n",
    "    plt.legend()\n",
    "    plt.style.use('fivethirtyeight')\n",
    "    plt.tight_layout()\n",
    "    plt.savefig(f'FS results/Statistical Results/roc_curve{i}')\n",
    "    i+=1\n",
    "    \n",
    "    \n",
    "    #train accuracy\n",
    "    y_train_predict = rfc.predict(x_train_fold)\n",
    "    accuracy_train = accuracy_score(y_train_fold, y_train_predict)\n",
    "    train_acc.append(accuracy_test)\n",
    "\n",
    "print(np.array(test_acc).mean())"
   ]
  },
  {
   "cell_type": "code",
   "execution_count": null,
   "id": "43d71d38",
   "metadata": {
    "ExecuteTime": {
     "end_time": "2023-01-19T13:08:13.652317Z",
     "start_time": "2023-01-19T13:08:13.645334Z"
    }
   },
   "outputs": [],
   "source": [
    "print(np.array(fit_time).mean())"
   ]
  },
  {
   "cell_type": "code",
   "execution_count": null,
   "id": "f9d2d4e5",
   "metadata": {
    "ExecuteTime": {
     "end_time": "2023-01-19T13:08:24.874856Z",
     "start_time": "2023-01-19T13:08:24.851881Z"
    }
   },
   "outputs": [],
   "source": [
    "fit_time"
   ]
  },
  {
   "cell_type": "code",
   "execution_count": null,
   "id": "caf4c709",
   "metadata": {
    "ExecuteTime": {
     "end_time": "2023-01-20T09:08:09.450019Z",
     "start_time": "2023-01-20T09:08:09.430074Z"
    }
   },
   "outputs": [],
   "source": [
    "test_acc"
   ]
  },
  {
   "cell_type": "code",
   "execution_count": null,
   "id": "34a58926",
   "metadata": {
    "ExecuteTime": {
     "end_time": "2023-01-24T06:42:37.879022Z",
     "start_time": "2023-01-24T06:42:37.716857Z"
    }
   },
   "outputs": [],
   "source": [
    "scorings = {'test_acc':test_acc,'train_acc':train_acc, 'fit_time': fit_time, 'score_time':score_time, 'f_score': f_score,\n",
    "           'p_score':p_score, 'r_score':r_score, 'conf_mat': conf_mat, 'roc_score':roc_score}\n",
    "df_scores = pd.DataFrame(scorings)\n",
    "df_scores.to_csv('FS results/statistical_results.csv', index=False)"
   ]
  },
  {
   "cell_type": "code",
   "execution_count": null,
   "id": "0bbdfe8c",
   "metadata": {
    "ExecuteTime": {
     "end_time": "2023-01-20T08:02:20.201561Z",
     "start_time": "2023-01-20T08:02:20.183612Z"
    }
   },
   "outputs": [],
   "source": [
    "df_scores['test_acc'].mean()"
   ]
  },
  {
   "cell_type": "code",
   "execution_count": null,
   "id": "772114fb",
   "metadata": {},
   "outputs": [],
   "source": []
  }
 ],
 "metadata": {
  "kernelspec": {
   "display_name": "mlenv",
   "language": "python",
   "name": "mlenv"
  },
  "language_info": {
   "codemirror_mode": {
    "name": "ipython",
    "version": 3
   },
   "file_extension": ".py",
   "mimetype": "text/x-python",
   "name": "python",
   "nbconvert_exporter": "python",
   "pygments_lexer": "ipython3",
   "version": "3.9.12"
  },
  "varInspector": {
   "cols": {
    "lenName": 16,
    "lenType": 16,
    "lenVar": 40
   },
   "kernels_config": {
    "python": {
     "delete_cmd_postfix": "",
     "delete_cmd_prefix": "del ",
     "library": "var_list.py",
     "varRefreshCmd": "print(var_dic_list())"
    },
    "r": {
     "delete_cmd_postfix": ") ",
     "delete_cmd_prefix": "rm(",
     "library": "var_list.r",
     "varRefreshCmd": "cat(var_dic_list()) "
    }
   },
   "position": {
    "height": "215.844px",
    "left": "556px",
    "right": "20px",
    "top": "-5px",
    "width": "546px"
   },
   "types_to_exclude": [
    "module",
    "function",
    "builtin_function_or_method",
    "instance",
    "_Feature"
   ],
   "window_display": false
  }
 },
 "nbformat": 4,
 "nbformat_minor": 5
}
