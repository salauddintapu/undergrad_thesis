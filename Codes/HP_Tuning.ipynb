{
 "cells": [
  {
   "cell_type": "code",
   "execution_count": null,
   "id": "42488711",
   "metadata": {
    "ExecuteTime": {
     "end_time": "2023-01-19T11:53:10.844625Z",
     "start_time": "2023-01-19T11:53:09.228228Z"
    }
   },
   "outputs": [],
   "source": [
    "import pandas as pd\n",
    "import numpy as np\n",
    "from sklearn.ensemble import RandomForestClassifier\n",
    "from sklearn.model_selection import cross_val_score, cross_val_predict, train_test_split\n",
    "from sklearn.metrics import confusion_matrix, classification_report, precision_score, recall_score, f1_score, accuracy_score"
   ]
  },
  {
   "cell_type": "code",
   "execution_count": null,
   "id": "e5923468",
   "metadata": {
    "ExecuteTime": {
     "end_time": "2023-01-19T11:53:14.153459Z",
     "start_time": "2023-01-19T11:53:13.920981Z"
    }
   },
   "outputs": [],
   "source": [
    "df = pd.read_csv('encoded_data.csv')\n",
    "x = np.array(df.drop(['Arrhythmia'], axis=1))\n",
    "y = np.array(df['Arrhythmia'])"
   ]
  },
  {
   "cell_type": "code",
   "execution_count": null,
   "id": "405623f8",
   "metadata": {
    "ExecuteTime": {
     "end_time": "2023-01-18T05:05:11.047882Z",
     "start_time": "2023-01-18T05:05:11.027937Z"
    }
   },
   "outputs": [],
   "source": [
    "x_train, x_test, y_train, y_test = train_test_split(x, y, test_size=0.2, stratify=y, random_state=42)"
   ]
  },
  {
   "cell_type": "markdown",
   "id": "a014382f",
   "metadata": {},
   "source": [
    "# Bayesian Optimization"
   ]
  },
  {
   "cell_type": "code",
   "execution_count": null,
   "id": "5dab80be",
   "metadata": {
    "ExecuteTime": {
     "end_time": "2023-01-19T11:53:18.764904Z",
     "start_time": "2023-01-19T11:53:18.718220Z"
    }
   },
   "outputs": [],
   "source": [
    "from bayes_opt import BayesianOptimization\n",
    "from sklearn.model_selection import StratifiedKFold"
   ]
  },
  {
   "cell_type": "code",
   "execution_count": null,
   "id": "c00adcda",
   "metadata": {
    "ExecuteTime": {
     "end_time": "2023-01-09T07:29:06.404386Z",
     "start_time": "2023-01-09T07:29:06.387147Z"
    }
   },
   "outputs": [],
   "source": [
    "def stratified_kfold_score(clf, x, y, n_fold):\n",
    "    x, y = x, y\n",
    "    strat_kfold = StratifiedKFold(n_splits=n_fold, shuffle=True, random_state=1)\n",
    "    accuracy_list = []\n",
    "\n",
    "    for train_index, test_index in strat_kfold.split(x, y):\n",
    "        x_train_fold, x_test_fold = x[train_index], x[test_index]\n",
    "        y_train_fold, y_test_fold = y[train_index], y[test_index]\n",
    "        clf.fit(x_train_fold, y_train_fold)\n",
    "        preds = clf.predict(x_test_fold)\n",
    "        accuracy_test = accuracy_score(preds, y_test_fold)\n",
    "        accuracy_list.append(accuracy_test)\n",
    "\n",
    "    return np.array(accuracy_list).mean()"
   ]
  },
  {
   "cell_type": "code",
   "execution_count": null,
   "id": "fea55619",
   "metadata": {
    "ExecuteTime": {
     "end_time": "2023-01-09T07:30:38.677100Z",
     "start_time": "2023-01-09T07:30:38.670121Z"
    }
   },
   "outputs": [],
   "source": [
    "def bo_params_rf(max_samples, n_estimators, max_features):\n",
    "    \n",
    "    params = {\n",
    "        'max_samples': max_samples,\n",
    "        'max_features': max_features,\n",
    "        'n_estimators': int(n_estimators)\n",
    "    }\n",
    "    clf = RandomForestClassifier(max_samples=params['max_samples'], max_features=params['max_features'], n_estimators=params['n_estimators'])\n",
    "    score = stratified_kfold_score(clf, x_train, y_train, 10)\n",
    "    return score"
   ]
  },
  {
   "cell_type": "code",
   "execution_count": null,
   "id": "f1307aeb",
   "metadata": {
    "ExecuteTime": {
     "end_time": "2023-01-09T07:31:47.170844Z",
     "start_time": "2023-01-09T07:31:47.157879Z"
    }
   },
   "outputs": [],
   "source": [
    "rf_bo = BayesianOptimization(bo_params_rf, {\n",
    "                                              'max_samples':(0.5,1),\n",
    "                                                'max_features':(0.5,1),\n",
    "                                              'n_estimators':(1, 100)\n",
    "                                             })"
   ]
  },
  {
   "cell_type": "code",
   "execution_count": null,
   "id": "6a33be97",
   "metadata": {
    "ExecuteTime": {
     "end_time": "2023-01-09T07:41:31.826643Z",
     "start_time": "2023-01-09T07:32:38.854353Z"
    }
   },
   "outputs": [],
   "source": [
    "results = rf_bo.maximize(n_iter=100, init_points=20, acq='ei')"
   ]
  },
  {
   "cell_type": "code",
   "execution_count": null,
   "id": "e34f7236",
   "metadata": {
    "ExecuteTime": {
     "end_time": "2023-01-09T11:02:45.618811Z",
     "start_time": "2023-01-09T11:02:45.592882Z"
    }
   },
   "outputs": [],
   "source": [
    "rf_bo.max['params']"
   ]
  },
  {
   "cell_type": "code",
   "execution_count": null,
   "id": "214bcdbc",
   "metadata": {
    "ExecuteTime": {
     "end_time": "2023-01-09T11:10:29.509850Z",
     "start_time": "2023-01-09T11:10:29.496920Z"
    }
   },
   "outputs": [],
   "source": [
    "params = rf_bo.max['params']\n",
    "params['n_estimators'] = int(params['n_estimators'])"
   ]
  },
  {
   "cell_type": "code",
   "execution_count": null,
   "id": "1352b205",
   "metadata": {
    "ExecuteTime": {
     "end_time": "2023-01-09T11:13:55.698381Z",
     "start_time": "2023-01-09T11:13:55.244734Z"
    }
   },
   "outputs": [],
   "source": [
    "clf = RandomForestClassifier(max_samples=params['max_samples'], max_features=params['max_features'], n_estimators=params['n_estimators'], n_jobs=-1)\n",
    "clf.fit(x_train, y_train)\n",
    "preds = clf.predict(x_test)\n",
    "accuracy_score(preds, y_test)"
   ]
  },
  {
   "cell_type": "code",
   "execution_count": null,
   "id": "8cbac382",
   "metadata": {
    "ExecuteTime": {
     "end_time": "2023-01-09T11:16:02.183156Z",
     "start_time": "2023-01-09T11:16:02.160180Z"
    }
   },
   "outputs": [],
   "source": [
    "accuracy_score(y_test, preds)"
   ]
  },
  {
   "cell_type": "code",
   "execution_count": null,
   "id": "cd78c31f",
   "metadata": {
    "ExecuteTime": {
     "end_time": "2023-01-09T11:16:23.763636Z",
     "start_time": "2023-01-09T11:16:23.721840Z"
    }
   },
   "outputs": [],
   "source": [
    "precision_score(y_test, preds)"
   ]
  },
  {
   "cell_type": "code",
   "execution_count": null,
   "id": "b0b08a23",
   "metadata": {
    "ExecuteTime": {
     "end_time": "2023-01-09T11:16:32.157602Z",
     "start_time": "2023-01-09T11:16:32.136663Z"
    }
   },
   "outputs": [],
   "source": [
    "recall_score(y_test, preds)"
   ]
  },
  {
   "cell_type": "code",
   "execution_count": null,
   "id": "e739b995",
   "metadata": {
    "ExecuteTime": {
     "end_time": "2023-01-09T11:17:32.982775Z",
     "start_time": "2023-01-09T11:17:32.968809Z"
    }
   },
   "outputs": [],
   "source": [
    "from sklearn.metrics import roc_auc_score, roc_curve"
   ]
  },
  {
   "cell_type": "code",
   "execution_count": null,
   "id": "13528b23",
   "metadata": {
    "ExecuteTime": {
     "end_time": "2023-01-09T11:17:53.630777Z",
     "start_time": "2023-01-09T11:17:53.577917Z"
    }
   },
   "outputs": [],
   "source": [
    "roc_auc_score(y_test, preds)"
   ]
  },
  {
   "cell_type": "code",
   "execution_count": null,
   "id": "37840bd9",
   "metadata": {
    "ExecuteTime": {
     "end_time": "2023-01-09T11:20:55.955321Z",
     "start_time": "2023-01-09T11:20:55.936372Z"
    }
   },
   "outputs": [],
   "source": [
    "from matplotlib import pyplot as plt"
   ]
  },
  {
   "cell_type": "code",
   "execution_count": null,
   "id": "75e7f705",
   "metadata": {
    "ExecuteTime": {
     "end_time": "2023-01-09T11:20:59.690317Z",
     "start_time": "2023-01-09T11:20:59.016518Z"
    }
   },
   "outputs": [],
   "source": [
    "fpr, tpr, _ = roc_curve(y_test, preds)\n",
    "auc = roc_auc_score(y_test, preds)\n",
    "plt.rcParams['figure.figsize'] = [11, 5]\n",
    "plt.plot(fpr, tpr, label=\"AUC=\"+str(auc), color = 'teal')\n",
    "plt.ylabel('True Positive Rate')\n",
    "plt.xlabel('False Positive Rate')\n",
    "plt.legend()\n",
    "plt.style.use('fivethirtyeight')\n",
    "plt.tight_layout()"
   ]
  },
  {
   "cell_type": "markdown",
   "id": "7ef17587",
   "metadata": {},
   "source": [
    "# Cuckoo Search"
   ]
  },
  {
   "cell_type": "code",
   "execution_count": null,
   "id": "fd4a2e0f",
   "metadata": {
    "ExecuteTime": {
     "end_time": "2023-01-19T11:53:40.701290Z",
     "start_time": "2023-01-19T11:53:39.459597Z"
    }
   },
   "outputs": [],
   "source": [
    "from mealpy.swarm_based.CSA import OriginalCSA\n",
    "from math import floor\n",
    "from mealpy.tuner import Tuner"
   ]
  },
  {
   "cell_type": "code",
   "execution_count": null,
   "id": "f1ba9be0",
   "metadata": {
    "ExecuteTime": {
     "end_time": "2023-01-09T18:03:12.947354Z",
     "start_time": "2023-01-09T18:03:12.926413Z"
    }
   },
   "outputs": [],
   "source": [
    "def fitness_function(params):\n",
    "    rfc = RandomForestClassifier(\n",
    "        random_state=2,\n",
    "        max_depth=floor(params[0]),\n",
    "        n_estimators=floor(params[1]),\n",
    "        min_samples_leaf=floor(params[2]),\n",
    "        max_features=(floor(params[3]))\n",
    "    )\n",
    "    rfc.fit(x_train, y_train)\n",
    "    pred = rfc.predict(x_test)\n",
    "    acc = accuracy_score(y_test, pred)\n",
    "    \n",
    "    return acc"
   ]
  },
  {
   "cell_type": "code",
   "execution_count": null,
   "id": "6f8175e7",
   "metadata": {
    "ExecuteTime": {
     "end_time": "2023-01-10T03:52:55.142885Z",
     "start_time": "2023-01-10T03:52:55.130884Z"
    }
   },
   "outputs": [],
   "source": [
    "df.shape"
   ]
  },
  {
   "cell_type": "code",
   "execution_count": null,
   "id": "94b667b5",
   "metadata": {
    "ExecuteTime": {
     "end_time": "2023-01-10T04:22:49.102837Z",
     "start_time": "2023-01-10T03:53:02.124508Z"
    }
   },
   "outputs": [],
   "source": [
    "problem_dict = {\n",
    "    'fit_func' : fitness_function,\n",
    "    'lb' : [1, 1, 1, 1],\n",
    "    'ub' : [100, 100, 100, 43],\n",
    "    'minmax' : 'max'\n",
    "}\n",
    "\n",
    "epoch = 100\n",
    "pop_size = 100\n",
    "p_a = 0.25\n",
    "model = OriginalCSA(epoch, pop_size, p_a)\n",
    "best_position, best_fitness = model.solve(problem_dict)\n",
    "print(f'Best position: {best_position}, Best Fitness: {best_fitness}')"
   ]
  },
  {
   "cell_type": "markdown",
   "id": "75521bfb",
   "metadata": {},
   "source": [
    "# CSA CV "
   ]
  },
  {
   "cell_type": "code",
   "execution_count": null,
   "id": "d24a03bd",
   "metadata": {
    "ExecuteTime": {
     "end_time": "2023-01-18T05:09:42.851330Z",
     "start_time": "2023-01-18T05:09:42.833378Z"
    }
   },
   "outputs": [],
   "source": [
    "def stratified_kfold_score(clf, x, y, n_fold):\n",
    "    x, y = x, y\n",
    "    strat_kfold = StratifiedKFold(n_splits=n_fold, shuffle=True, random_state=1)\n",
    "    accuracy_list = []\n",
    "\n",
    "    for train_index, test_index in strat_kfold.split(x, y):\n",
    "        x_train_fold, x_test_fold = x[train_index], x[test_index]\n",
    "        y_train_fold, y_test_fold = y[train_index], y[test_index]\n",
    "        clf.fit(x_train_fold, y_train_fold)\n",
    "        preds = clf.predict(x_test_fold)\n",
    "        accuracy_test = accuracy_score(preds, y_test_fold)\n",
    "        accuracy_list.append(accuracy_test)\n",
    "\n",
    "    return np.array(accuracy_list).mean()"
   ]
  },
  {
   "cell_type": "code",
   "execution_count": null,
   "id": "c9757715",
   "metadata": {
    "ExecuteTime": {
     "end_time": "2023-01-18T05:13:24.900904Z",
     "start_time": "2023-01-18T05:13:24.879961Z"
    }
   },
   "outputs": [],
   "source": [
    "def fitness_function(params):\n",
    "    clf = RandomForestClassifier(\n",
    "        random_state=2,\n",
    "        max_depth=floor(params[0]),\n",
    "        n_estimators=floor(params[1]),\n",
    "        min_samples_leaf=floor(params[2]),\n",
    "        max_features=(floor(params[3])),\n",
    "        n_jobs=-1,\n",
    "        criterion='gini'\n",
    "    )\n",
    "    score = stratified_kfold_score(clf, x_train, y_train, 10)\n",
    "    return score"
   ]
  },
  {
   "cell_type": "code",
   "execution_count": null,
   "id": "55af5442",
   "metadata": {
    "ExecuteTime": {
     "end_time": "2023-01-19T02:44:00.194736Z",
     "start_time": "2023-01-18T06:15:48.970499Z"
    },
    "scrolled": true
   },
   "outputs": [],
   "source": [
    "problem_dict1 = {\n",
    "    'fit_func' : fitness_function,\n",
    "    'lb' : [1, 1, 1, 1],\n",
    "    'ub' : [100, 500, 200, 43],\n",
    "    'minmax' : 'max'\n",
    "}\n",
    "\n",
    "epoch = 100\n",
    "pop_size = 100\n",
    "p_a = 0.25\n",
    "model = OriginalCSA(epoch, pop_size, p_a)\n",
    "best_position, best_fitness = model.solve(problem_dict1)\n",
    "print(f'Best position: {best_position}, Best Fitness: {best_fitness}')"
   ]
  },
  {
   "cell_type": "code",
   "execution_count": null,
   "id": "484455b7",
   "metadata": {
    "ExecuteTime": {
     "end_time": "2023-01-10T11:57:22.329860Z",
     "start_time": "2023-01-10T11:57:22.319882Z"
    }
   },
   "outputs": [],
   "source": [
    "for _ in best_position:\n",
    "    print(floor(_))"
   ]
  },
  {
   "cell_type": "code",
   "execution_count": null,
   "id": "f861b7ed",
   "metadata": {
    "ExecuteTime": {
     "end_time": "2023-01-19T04:15:49.182196Z",
     "start_time": "2023-01-19T04:15:49.167473Z"
    }
   },
   "outputs": [],
   "source": [
    "for _ in best_position:\n",
    "    print(floor(_))"
   ]
  },
  {
   "cell_type": "code",
   "execution_count": null,
   "id": "02a9bb49",
   "metadata": {
    "ExecuteTime": {
     "end_time": "2023-01-19T04:16:55.748147Z",
     "start_time": "2023-01-19T04:16:55.736180Z"
    }
   },
   "outputs": [],
   "source": [
    "from mealpy.utils.visualize import *"
   ]
  },
  {
   "cell_type": "code",
   "execution_count": null,
   "id": "951ea1eb",
   "metadata": {
    "ExecuteTime": {
     "end_time": "2023-01-19T04:27:32.226749Z",
     "start_time": "2023-01-19T04:27:31.785370Z"
    }
   },
   "outputs": [],
   "source": [
    "# Draw global best fitness found so far in previous generations\n",
    "export_convergence_chart(model.history.list_global_best_fit, title='Global Best Fitness', x_label='epoch', y_label=\"Accuracy\")"
   ]
  },
  {
   "cell_type": "code",
   "execution_count": null,
   "id": "8870a8a4",
   "metadata": {
    "ExecuteTime": {
     "end_time": "2023-01-19T04:26:45.057037Z",
     "start_time": "2023-01-19T04:26:44.471985Z"
    }
   },
   "outputs": [],
   "source": [
    "# Draw current best fitness in each previous generation\n",
    "export_convergence_chart(model.history.list_current_best_fit, title='Local Best Fitness', x_label='epoch', y_label=\"Accuracy\")"
   ]
  },
  {
   "cell_type": "code",
   "execution_count": null,
   "id": "e839914b",
   "metadata": {
    "ExecuteTime": {
     "end_time": "2023-01-19T04:25:37.550228Z",
     "start_time": "2023-01-19T04:25:37.116858Z"
    }
   },
   "outputs": [],
   "source": [
    "# Draw runtime for each generation\n",
    "export_convergence_chart(model.history.list_epoch_time, title='Runtime', x_label='epoch', y_label=\"Second\")"
   ]
  },
  {
   "cell_type": "code",
   "execution_count": null,
   "id": "fb78655f",
   "metadata": {
    "ExecuteTime": {
     "end_time": "2023-01-19T04:30:27.695600Z",
     "start_time": "2023-01-19T04:30:27.141032Z"
    }
   },
   "outputs": [],
   "source": [
    "# This exploration/exploitation chart should draws for single algorithm and single fitness function\n",
    "# Draw exploration and exploitation chart\n",
    "export_explore_exploit_chart([model.history.list_exploration, model.history.list_exploitation], x_label='epoch')"
   ]
  },
  {
   "cell_type": "code",
   "execution_count": null,
   "id": "009dfc94",
   "metadata": {
    "ExecuteTime": {
     "end_time": "2023-01-19T04:31:59.632533Z",
     "start_time": "2023-01-19T04:31:59.078714Z"
    }
   },
   "outputs": [],
   "source": [
    "global_obj_list = np.array([agent[1][1] for agent in model.history.list_global_best])     # 2D array / matrix 2D\n",
    "global_obj_list = [global_obj_list[:,idx] for idx in range(0, len(global_obj_list[0]))]     # Make each obj_list as a element in array for drawing\n",
    "export_objectives_chart(global_obj_list, title='Global Objectives Chart')"
   ]
  },
  {
   "cell_type": "code",
   "execution_count": null,
   "id": "b81861f4",
   "metadata": {
    "ExecuteTime": {
     "end_time": "2023-01-19T04:32:30.726769Z",
     "start_time": "2023-01-19T04:32:30.227889Z"
    }
   },
   "outputs": [],
   "source": [
    "current_obj_list = np.array([agent[1][1] for agent in model.history.list_current_best])  # 2D array / matrix 2D\n",
    "current_obj_list = [current_obj_list[:, idx] for idx in range(0, len(current_obj_list[0]))]  # Make each obj_list as a element in array for drawing\n",
    "export_objectives_chart(current_obj_list, title='Local Objectives Chart')"
   ]
  },
  {
   "cell_type": "code",
   "execution_count": null,
   "id": "4b4823ad",
   "metadata": {
    "ExecuteTime": {
     "end_time": "2023-01-19T11:54:06.679146Z",
     "start_time": "2023-01-19T11:54:06.670207Z"
    }
   },
   "outputs": [],
   "source": [
    "rfc = RandomForestClassifier(n_estimators=46, max_depth=30, min_samples_leaf=13, max_features=21, n_jobs=-1, criterion='gini')"
   ]
  },
  {
   "cell_type": "code",
   "execution_count": null,
   "id": "7742af2c",
   "metadata": {
    "ExecuteTime": {
     "end_time": "2023-01-19T04:45:03.706409Z",
     "start_time": "2023-01-19T04:45:03.692445Z"
    }
   },
   "outputs": [],
   "source": [
    "from sklearn.model_selection import cross_validate, cross_val_score"
   ]
  },
  {
   "cell_type": "code",
   "execution_count": null,
   "id": "cd105585",
   "metadata": {
    "ExecuteTime": {
     "end_time": "2023-01-19T11:54:11.933906Z",
     "start_time": "2023-01-19T11:54:11.908977Z"
    }
   },
   "outputs": [],
   "source": [
    "df = pd.read_csv('encoded_data.csv')\n",
    "x = np.array(df.drop(['Arrhythmia'], axis=1))\n",
    "y = np.array(df['Arrhythmia'])"
   ]
  },
  {
   "cell_type": "code",
   "execution_count": null,
   "id": "202b685a",
   "metadata": {
    "ExecuteTime": {
     "end_time": "2023-01-19T04:54:49.239466Z",
     "start_time": "2023-01-19T04:54:47.423239Z"
    }
   },
   "outputs": [],
   "source": [
    "scores = cross_validate(rfc, x, y, scoring='precision_macro', cv=10, return_train_score=True)\n",
    "scores"
   ]
  },
  {
   "cell_type": "code",
   "execution_count": null,
   "id": "ae2b3cf0",
   "metadata": {
    "ExecuteTime": {
     "end_time": "2023-01-19T04:52:07.184425Z",
     "start_time": "2023-01-19T04:52:07.153510Z"
    }
   },
   "outputs": [],
   "source": [
    "df_scores = pd.DataFrame(scores)\n",
    "df_scores"
   ]
  },
  {
   "cell_type": "code",
   "execution_count": null,
   "id": "f4cff2d3",
   "metadata": {
    "ExecuteTime": {
     "end_time": "2023-01-19T04:52:10.831393Z",
     "start_time": "2023-01-19T04:52:10.818432Z"
    }
   },
   "outputs": [],
   "source": [
    "df_scores.to_csv('CV_scores_all_features.csv', index=False)"
   ]
  },
  {
   "cell_type": "code",
   "execution_count": null,
   "id": "db5e1c5d",
   "metadata": {
    "ExecuteTime": {
     "end_time": "2023-01-19T04:55:12.801348Z",
     "start_time": "2023-01-19T04:55:12.788346Z"
    }
   },
   "outputs": [],
   "source": [
    "scores['test_score'].mean()"
   ]
  },
  {
   "cell_type": "code",
   "execution_count": null,
   "id": "78aa2579",
   "metadata": {
    "ExecuteTime": {
     "end_time": "2023-01-19T04:56:00.298653Z",
     "start_time": "2023-01-19T04:56:00.291676Z"
    }
   },
   "outputs": [],
   "source": [
    "best_acc = df_scores['test_score'].mean()"
   ]
  },
  {
   "cell_type": "code",
   "execution_count": null,
   "id": "1dfdeee1",
   "metadata": {
    "ExecuteTime": {
     "end_time": "2023-01-19T05:02:14.057534Z",
     "start_time": "2023-01-19T05:02:14.036553Z"
    }
   },
   "outputs": [],
   "source": [
    "best_acc"
   ]
  },
  {
   "cell_type": "code",
   "execution_count": null,
   "id": "2642ccfe",
   "metadata": {
    "ExecuteTime": {
     "end_time": "2023-01-19T11:54:49.975075Z",
     "start_time": "2023-01-19T11:54:49.961074Z"
    }
   },
   "outputs": [],
   "source": [
    "import time\n",
    "from sklearn.metrics import accuracy_score, precision_score, recall_score, precision_recall_curve, f1_score, confusion_matrix, roc_auc_score, roc_curve, classification_report\n",
    "from matplotlib import pyplot as plt"
   ]
  },
  {
   "cell_type": "code",
   "execution_count": null,
   "id": "9669e8d5",
   "metadata": {
    "ExecuteTime": {
     "end_time": "2023-01-19T11:54:56.461018Z",
     "start_time": "2023-01-19T11:54:51.919363Z"
    },
    "code_folding": [],
    "scrolled": true
   },
   "outputs": [],
   "source": [
    "strat_kfold = StratifiedKFold(n_splits=10, shuffle=True, random_state=1)\n",
    "test_acc = []\n",
    "train_acc = []\n",
    "fit_time = []\n",
    "score_time = []\n",
    "p_score = []\n",
    "r_score = []\n",
    "f_score = []\n",
    "conf_mat = []\n",
    "roc_score = []\n",
    "#class_report = []\n",
    "i=0\n",
    "\n",
    "for train_index, test_index in strat_kfold.split(x, y):\n",
    "    x_train_fold, x_test_fold = x[train_index], x[test_index]\n",
    "    y_train_fold, y_test_fold = y[train_index], y[test_index]\n",
    "    \n",
    "    start_fit = time.time() #record start time\n",
    "    rfc.fit(x_train_fold, y_train_fold)\n",
    "    end_fit = time.time() #record end time\n",
    "    fit_time.append((end_fit-start_fit) * 10**3) #time in ms\n",
    "    \n",
    "    start_score = time.time() #record score time\n",
    "    y_predict = rfc.predict(x_test_fold)\n",
    "    end_score = time.time() #record end score time\n",
    "    score_time.append((end_score-start_score) * 10**3) #time in ms\n",
    "    \n",
    "    #scorings\n",
    "    accuracy_test = accuracy_score(y_test_fold, y_predict)\n",
    "    test_acc.append(accuracy_test)\n",
    "    \n",
    "    f_score.append(f1_score(y_test_fold, y_predict, average='weighted')) #f1 score\n",
    "    p_score.append(precision_score(y_test_fold, y_predict, average='weighted')) #precission score\n",
    "    r_score.append(recall_score(y_test_fold, y_predict, average='weighted')) #recall score\n",
    "    #class_report.append(classification_report(y_test_fold, y_predict)) #classification report\n",
    "    conf_mat.append(confusion_matrix(y_test_fold, y_predict)) #confusion matrix\n",
    "    roc_score.append(roc_auc_score(y_test_fold, y_predict)) #auc\n",
    "    \n",
    "    #roc curve\n",
    "    plt.clf()\n",
    "    plt.cla()\n",
    "    fpr, tpr, _ = roc_curve(y_test_fold, y_predict)\n",
    "    auc = roc_auc_score(y_test_fold, y_predict)\n",
    "    plt.rcParams['figure.figsize'] = [11, 5]\n",
    "    plt.plot(fpr, tpr, label=\"AUC=\"+str(auc), color = 'teal')\n",
    "    plt.ylabel('True Positive Rate')\n",
    "    plt.xlabel('False Positive Rate')\n",
    "    plt.legend()\n",
    "    plt.style.use('fivethirtyeight')\n",
    "    plt.tight_layout()\n",
    "    plt.savefig(f'Graphs/roc_curve{i}.png')\n",
    "    i+=1\n",
    "    \n",
    "    \n",
    "    #train accuracy\n",
    "    y_train_predict = rfc.predict(x_train_fold)\n",
    "    accuracy_train = accuracy_score(y_train_fold, y_train_predict)\n",
    "    train_acc.append(accuracy_test)\n",
    "\n",
    "print(np.array(test_acc).mean())"
   ]
  },
  {
   "cell_type": "code",
   "execution_count": null,
   "id": "3fdbeb91",
   "metadata": {
    "ExecuteTime": {
     "end_time": "2023-01-19T11:55:28.337684Z",
     "start_time": "2023-01-19T11:55:28.322063Z"
    },
    "scrolled": false
   },
   "outputs": [],
   "source": [
    "test_acc"
   ]
  },
  {
   "cell_type": "code",
   "execution_count": null,
   "id": "e2a29a56",
   "metadata": {
    "ExecuteTime": {
     "end_time": "2023-01-19T07:26:31.303954Z",
     "start_time": "2023-01-19T07:26:31.273035Z"
    },
    "scrolled": true
   },
   "outputs": [],
   "source": [
    "scorings = {'test_acc':test_acc,'train_acc':train_acc, 'fit_time': fit_time, 'score_time':score_time, 'f_score': f_score,\n",
    "           'p_score':p_score, 'r_score':r_score, 'conf_mat': conf_mat, 'roc_score':roc_score}\n",
    "scorings"
   ]
  },
  {
   "cell_type": "code",
   "execution_count": null,
   "id": "087ab9aa",
   "metadata": {
    "ExecuteTime": {
     "end_time": "2023-01-19T07:26:35.244734Z",
     "start_time": "2023-01-19T07:26:35.178523Z"
    },
    "scrolled": true
   },
   "outputs": [],
   "source": [
    "df_scores = pd.DataFrame(scorings)\n",
    "df_scores"
   ]
  },
  {
   "cell_type": "code",
   "execution_count": null,
   "id": "f116ceed",
   "metadata": {
    "ExecuteTime": {
     "end_time": "2023-01-19T07:26:46.240604Z",
     "start_time": "2023-01-19T07:26:46.218962Z"
    }
   },
   "outputs": [],
   "source": [
    "df_scores.to_csv('Graphs/All_features_results.csv', index=False)"
   ]
  },
  {
   "cell_type": "code",
   "execution_count": null,
   "id": "1ce0ff14",
   "metadata": {
    "ExecuteTime": {
     "end_time": "2023-01-19T07:26:49.460728Z",
     "start_time": "2023-01-19T07:26:49.440746Z"
    }
   },
   "outputs": [],
   "source": [
    "something = df_scores['test_acc']\n",
    "np.array(something).mean()"
   ]
  }
 ],
 "metadata": {
  "kernelspec": {
   "display_name": "mlenv",
   "language": "python",
   "name": "mlenv"
  },
  "language_info": {
   "codemirror_mode": {
    "name": "ipython",
    "version": 3
   },
   "file_extension": ".py",
   "mimetype": "text/x-python",
   "name": "python",
   "nbconvert_exporter": "python",
   "pygments_lexer": "ipython3",
   "version": "3.9.12"
  },
  "varInspector": {
   "cols": {
    "lenName": 16,
    "lenType": 16,
    "lenVar": 40
   },
   "kernels_config": {
    "python": {
     "delete_cmd_postfix": "",
     "delete_cmd_prefix": "del ",
     "library": "var_list.py",
     "varRefreshCmd": "print(var_dic_list())"
    },
    "r": {
     "delete_cmd_postfix": ") ",
     "delete_cmd_prefix": "rm(",
     "library": "var_list.r",
     "varRefreshCmd": "cat(var_dic_list()) "
    }
   },
   "position": {
    "height": "239.844px",
    "left": "584px",
    "right": "20px",
    "top": "37px",
    "width": "492px"
   },
   "types_to_exclude": [
    "module",
    "function",
    "builtin_function_or_method",
    "instance",
    "_Feature"
   ],
   "window_display": false
  }
 },
 "nbformat": 4,
 "nbformat_minor": 5
}
