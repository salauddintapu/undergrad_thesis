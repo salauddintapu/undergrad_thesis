{
 "cells": [
  {
   "cell_type": "code",
   "execution_count": 1,
   "id": "4a23e043",
   "metadata": {
    "ExecuteTime": {
     "end_time": "2023-01-21T07:14:20.162225Z",
     "start_time": "2023-01-21T07:14:16.547193Z"
    }
   },
   "outputs": [],
   "source": [
    "import pandas as pd\n",
    "import numpy as np\n",
    "from sklearn.ensemble import RandomForestClassifier\n",
    "from sklearn.model_selection import StratifiedKFold\n",
    "from sklearn.metrics import accuracy_score, precision_score, recall_score, f1_score, confusion_matrix, roc_auc_score, roc_curve\n",
    "import matplotlib.pyplot as plt"
   ]
  },
  {
   "cell_type": "code",
   "execution_count": 2,
   "id": "7415857f",
   "metadata": {
    "ExecuteTime": {
     "end_time": "2023-01-21T07:16:40.473365Z",
     "start_time": "2023-01-21T07:16:40.436466Z"
    }
   },
   "outputs": [],
   "source": [
    "df = pd.read_csv('encoded_data.csv')\n",
    "x = np.array(df.drop(['Arrhythmia'], axis=1))\n",
    "y = np.array(df['Arrhythmia'])"
   ]
  },
  {
   "cell_type": "code",
   "execution_count": 3,
   "id": "df7e1a9b",
   "metadata": {
    "ExecuteTime": {
     "end_time": "2023-01-21T07:17:37.709130Z",
     "start_time": "2023-01-21T07:17:37.701152Z"
    }
   },
   "outputs": [],
   "source": [
    "rfc = RandomForestClassifier(n_jobs=-1, random_state=2, criterion='gini')"
   ]
  },
  {
   "cell_type": "code",
   "execution_count": 5,
   "id": "6805a40a",
   "metadata": {
    "ExecuteTime": {
     "end_time": "2023-01-21T07:19:15.142176Z",
     "start_time": "2023-01-21T07:19:15.131205Z"
    }
   },
   "outputs": [],
   "source": [
    "import time"
   ]
  },
  {
   "cell_type": "code",
   "execution_count": 6,
   "id": "96e7c6f9",
   "metadata": {
    "ExecuteTime": {
     "end_time": "2023-01-21T07:19:24.696571Z",
     "start_time": "2023-01-21T07:19:16.177842Z"
    }
   },
   "outputs": [
    {
     "name": "stdout",
     "output_type": "stream",
     "text": [
      "0.6287357379462643\n"
     ]
    },
    {
     "data": {
      "image/png": "[encoded data removed]",
      "text/plain": [
       "<Figure size 432x288 with 1 Axes>"
      ]
     },
     "metadata": {
      "needs_background": "light"
     },
     "output_type": "display_data"
    }
   ],
   "source": [
    "strat_kfold = StratifiedKFold(n_splits=10, shuffle=True, random_state=1)\n",
    "test_acc = []\n",
    "train_acc = []\n",
    "fit_time = []\n",
    "score_time = []\n",
    "p_score = []\n",
    "r_score = []\n",
    "f_score = []\n",
    "conf_mat = []\n",
    "roc_score = []\n",
    "#class_report = []\n",
    "i=0\n",
    "\n",
    "for train_index, test_index in strat_kfold.split(x, y):\n",
    "    x_train_fold, x_test_fold = x[train_index], x[test_index]\n",
    "    y_train_fold, y_test_fold = y[train_index], y[test_index]\n",
    "    \n",
    "    start_fit = time.time() #record start time\n",
    "    rfc.fit(x_train_fold, y_train_fold)\n",
    "    end_fit = time.time() #record end time\n",
    "    fit_time.append((end_fit-start_fit) * 10**3) #time in ms\n",
    "    \n",
    "    start_score = time.time() #record score time\n",
    "    y_predict = rfc.predict(x_test_fold)\n",
    "    end_score = time.time() #record end score time\n",
    "    score_time.append((end_score-start_score) * 10**3) #time in ms\n",
    "    \n",
    "    #scorings\n",
    "    accuracy_test = accuracy_score(y_test_fold, y_predict)\n",
    "    test_acc.append(accuracy_test)\n",
    "    \n",
    "    f_score.append(f1_score(y_test_fold, y_predict, average='weighted')) #f1 score\n",
    "    p_score.append(precision_score(y_test_fold, y_predict, average='weighted')) #precission score\n",
    "    r_score.append(recall_score(y_test_fold, y_predict, average='weighted')) #recall score\n",
    "    #class_report.append(classification_report(y_test_fold, y_predict)) #classification report\n",
    "    conf_mat.append(confusion_matrix(y_test_fold, y_predict)) #confusion matrix\n",
    "    roc_score.append(roc_auc_score(y_test_fold, y_predict)) #auc\n",
    "    \n",
    "    #roc curve\n",
    "    plt.clf()\n",
    "    plt.cla()\n",
    "    fpr, tpr, _ = roc_curve(y_test_fold, y_predict)\n",
    "    auc = roc_auc_score(y_test_fold, y_predict)\n",
    "    plt.rcParams['figure.figsize'] = [11, 5]\n",
    "    plt.plot(fpr, tpr, label=\"AUC=\"+str(auc), color = 'teal')\n",
    "    plt.ylabel('True Positive Rate')\n",
    "    plt.xlabel('False Positive Rate')\n",
    "    plt.legend()\n",
    "    plt.style.use('fivethirtyeight')\n",
    "    plt.tight_layout()\n",
    "    plt.savefig(f'Results with all features/Before HP/roc_curve{i}')\n",
    "    i+=1\n",
    "    \n",
    "    \n",
    "    #train accuracy\n",
    "    y_train_predict = rfc.predict(x_train_fold)\n",
    "    accuracy_train = accuracy_score(y_train_fold, y_train_predict)\n",
    "    train_acc.append(accuracy_test)\n",
    "\n",
    "print(np.array(test_acc).mean())"
   ]
  },
  {
   "cell_type": "code",
   "execution_count": 7,
   "id": "db5844ae",
   "metadata": {
    "ExecuteTime": {
     "end_time": "2023-01-21T07:20:19.250563Z",
     "start_time": "2023-01-21T07:20:19.216126Z"
    }
   },
   "outputs": [],
   "source": [
    "scorings = {'test_acc':test_acc,'train_acc':train_acc, 'fit_time': fit_time, 'score_time':score_time, 'f_score': f_score,\n",
    "           'p_score':p_score, 'r_score':r_score, 'conf_mat': conf_mat, 'roc_score':roc_score}\n",
    "df_scores = pd.DataFrame(scorings)\n",
    "df_scores.to_csv('Results with all features/Before HP/results.csv', index=False)"
   ]
  },
  {
   "cell_type": "code",
   "execution_count": null,
   "id": "99420b1b",
   "metadata": {},
   "outputs": [],
   "source": []
  }
 ],
 "metadata": {
  "kernelspec": {
   "display_name": "mlenv",
   "language": "python",
   "name": "mlenv"
  },
  "language_info": {
   "codemirror_mode": {
    "name": "ipython",
    "version": 3
   },
   "file_extension": ".py",
   "mimetype": "text/x-python",
   "name": "python",
   "nbconvert_exporter": "python",
   "pygments_lexer": "ipython3",
   "version": "3.9.12"
  },
  "varInspector": {
   "cols": {
    "lenName": 16,
    "lenType": 16,
    "lenVar": 40
   },
   "kernels_config": {
    "python": {
     "delete_cmd_postfix": "",
     "delete_cmd_prefix": "del ",
     "library": "var_list.py",
     "varRefreshCmd": "print(var_dic_list())"
    },
    "r": {
     "delete_cmd_postfix": ") ",
     "delete_cmd_prefix": "rm(",
     "library": "var_list.r",
     "varRefreshCmd": "cat(var_dic_list()) "
    }
   },
   "types_to_exclude": [
    "module",
    "function",
    "builtin_function_or_method",
    "instance",
    "_Feature"
   ],
   "window_display": false
  }
 },
 "nbformat": 4,
 "nbformat_minor": 5
}
