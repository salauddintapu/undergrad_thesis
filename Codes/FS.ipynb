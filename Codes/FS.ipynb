{
 "cells": [
  {
   "cell_type": "code",
   "execution_count": 1,
   "id": "4088c092",
   "metadata": {
    "ExecuteTime": {
     "end_time": "2023-01-14T05:13:46.859916Z",
     "start_time": "2023-01-14T05:13:46.854962Z"
    }
   },
   "outputs": [],
   "source": [
    "import sys\n",
    "sys.path.insert(0, './src')"
   ]
  },
  {
   "cell_type": "code",
   "execution_count": 2,
   "id": "5f6fe915",
   "metadata": {
    "ExecuteTime": {
     "end_time": "2023-01-14T05:13:51.641654Z",
     "start_time": "2023-01-14T05:13:48.907655Z"
    }
   },
   "outputs": [],
   "source": [
    "import numpy as np\n",
    "import pandas as pd\n",
    "from sklearn.ensemble import RandomForestClassifier\n",
    "from sklearn.metrics import accuracy_score\n",
    "from sklearn.model_selection import train_test_split\n",
    "from src.utils.metric_util import Evaluator"
   ]
  },
  {
   "cell_type": "code",
   "execution_count": 3,
   "id": "35c2f7e8",
   "metadata": {
    "ExecuteTime": {
     "end_time": "2023-01-14T05:13:51.801200Z",
     "start_time": "2023-01-14T05:13:51.685479Z"
    }
   },
   "outputs": [
    {
     "data": {
      "text/html": [
       "<div>\n",
       "<style scoped>\n",
       "    .dataframe tbody tr th:only-of-type {\n",
       "        vertical-align: middle;\n",
       "    }\n",
       "\n",
       "    .dataframe tbody tr th {\n",
       "        vertical-align: top;\n",
       "    }\n",
       "\n",
       "    .dataframe thead th {\n",
       "        text-align: right;\n",
       "    }\n",
       "</style>\n",
       "<table border=\"1\" class=\"dataframe\">\n",
       "  <thead>\n",
       "    <tr style=\"text-align: right;\">\n",
       "      <th></th>\n",
       "      <th>Age</th>\n",
       "      <th>SBP</th>\n",
       "      <th>DBP</th>\n",
       "      <th>BPM</th>\n",
       "      <th>Pro_BNP</th>\n",
       "      <th>CRP</th>\n",
       "      <th>TC</th>\n",
       "      <th>TG</th>\n",
       "      <th>HDL</th>\n",
       "      <th>LDL</th>\n",
       "      <th>...</th>\n",
       "      <th>smoker</th>\n",
       "      <th>drinker</th>\n",
       "      <th>PriorMI</th>\n",
       "      <th>PriorCI</th>\n",
       "      <th>PriorHF</th>\n",
       "      <th>PriorCHD</th>\n",
       "      <th>sex</th>\n",
       "      <th>VWM</th>\n",
       "      <th>PCI</th>\n",
       "      <th>BBB</th>\n",
       "    </tr>\n",
       "  </thead>\n",
       "  <tbody>\n",
       "    <tr>\n",
       "      <th>0</th>\n",
       "      <td>0.428571</td>\n",
       "      <td>0.333333</td>\n",
       "      <td>0.333333</td>\n",
       "      <td>0.333333</td>\n",
       "      <td>0.000000</td>\n",
       "      <td>1.0</td>\n",
       "      <td>0.00</td>\n",
       "      <td>0.0</td>\n",
       "      <td>0.0</td>\n",
       "      <td>0.50</td>\n",
       "      <td>...</td>\n",
       "      <td>1.0</td>\n",
       "      <td>0.0</td>\n",
       "      <td>0.0</td>\n",
       "      <td>0.0</td>\n",
       "      <td>0.0</td>\n",
       "      <td>0.0</td>\n",
       "      <td>1.0</td>\n",
       "      <td>0.166667</td>\n",
       "      <td>0.000000</td>\n",
       "      <td>1.0</td>\n",
       "    </tr>\n",
       "    <tr>\n",
       "      <th>1</th>\n",
       "      <td>0.428571</td>\n",
       "      <td>0.333333</td>\n",
       "      <td>0.166667</td>\n",
       "      <td>0.500000</td>\n",
       "      <td>0.333333</td>\n",
       "      <td>1.0</td>\n",
       "      <td>0.25</td>\n",
       "      <td>0.0</td>\n",
       "      <td>0.0</td>\n",
       "      <td>0.25</td>\n",
       "      <td>...</td>\n",
       "      <td>0.0</td>\n",
       "      <td>1.0</td>\n",
       "      <td>0.0</td>\n",
       "      <td>0.0</td>\n",
       "      <td>0.0</td>\n",
       "      <td>0.0</td>\n",
       "      <td>1.0</td>\n",
       "      <td>0.166667</td>\n",
       "      <td>0.000000</td>\n",
       "      <td>1.0</td>\n",
       "    </tr>\n",
       "    <tr>\n",
       "      <th>2</th>\n",
       "      <td>0.428571</td>\n",
       "      <td>0.500000</td>\n",
       "      <td>0.500000</td>\n",
       "      <td>0.166667</td>\n",
       "      <td>0.500000</td>\n",
       "      <td>0.0</td>\n",
       "      <td>0.50</td>\n",
       "      <td>0.5</td>\n",
       "      <td>1.0</td>\n",
       "      <td>0.50</td>\n",
       "      <td>...</td>\n",
       "      <td>1.0</td>\n",
       "      <td>1.0</td>\n",
       "      <td>0.0</td>\n",
       "      <td>0.0</td>\n",
       "      <td>0.0</td>\n",
       "      <td>0.0</td>\n",
       "      <td>1.0</td>\n",
       "      <td>0.166667</td>\n",
       "      <td>0.000000</td>\n",
       "      <td>1.0</td>\n",
       "    </tr>\n",
       "    <tr>\n",
       "      <th>3</th>\n",
       "      <td>0.428571</td>\n",
       "      <td>0.500000</td>\n",
       "      <td>0.333333</td>\n",
       "      <td>0.166667</td>\n",
       "      <td>0.000000</td>\n",
       "      <td>0.0</td>\n",
       "      <td>0.50</td>\n",
       "      <td>1.0</td>\n",
       "      <td>0.0</td>\n",
       "      <td>0.50</td>\n",
       "      <td>...</td>\n",
       "      <td>1.0</td>\n",
       "      <td>0.0</td>\n",
       "      <td>0.0</td>\n",
       "      <td>0.0</td>\n",
       "      <td>0.0</td>\n",
       "      <td>0.0</td>\n",
       "      <td>1.0</td>\n",
       "      <td>0.166667</td>\n",
       "      <td>0.000000</td>\n",
       "      <td>1.0</td>\n",
       "    </tr>\n",
       "    <tr>\n",
       "      <th>4</th>\n",
       "      <td>0.428571</td>\n",
       "      <td>0.500000</td>\n",
       "      <td>0.500000</td>\n",
       "      <td>0.333333</td>\n",
       "      <td>0.000000</td>\n",
       "      <td>0.0</td>\n",
       "      <td>0.00</td>\n",
       "      <td>1.0</td>\n",
       "      <td>0.0</td>\n",
       "      <td>0.00</td>\n",
       "      <td>...</td>\n",
       "      <td>0.0</td>\n",
       "      <td>0.0</td>\n",
       "      <td>0.0</td>\n",
       "      <td>0.0</td>\n",
       "      <td>0.0</td>\n",
       "      <td>0.0</td>\n",
       "      <td>1.0</td>\n",
       "      <td>0.166667</td>\n",
       "      <td>0.000000</td>\n",
       "      <td>1.0</td>\n",
       "    </tr>\n",
       "    <tr>\n",
       "      <th>...</th>\n",
       "      <td>...</td>\n",
       "      <td>...</td>\n",
       "      <td>...</td>\n",
       "      <td>...</td>\n",
       "      <td>...</td>\n",
       "      <td>...</td>\n",
       "      <td>...</td>\n",
       "      <td>...</td>\n",
       "      <td>...</td>\n",
       "      <td>...</td>\n",
       "      <td>...</td>\n",
       "      <td>...</td>\n",
       "      <td>...</td>\n",
       "      <td>...</td>\n",
       "      <td>...</td>\n",
       "      <td>...</td>\n",
       "      <td>...</td>\n",
       "      <td>...</td>\n",
       "      <td>...</td>\n",
       "      <td>...</td>\n",
       "      <td>...</td>\n",
       "    </tr>\n",
       "    <tr>\n",
       "      <th>2077</th>\n",
       "      <td>0.714286</td>\n",
       "      <td>0.500000</td>\n",
       "      <td>0.500000</td>\n",
       "      <td>0.333333</td>\n",
       "      <td>0.000000</td>\n",
       "      <td>1.0</td>\n",
       "      <td>0.25</td>\n",
       "      <td>0.0</td>\n",
       "      <td>0.0</td>\n",
       "      <td>0.25</td>\n",
       "      <td>...</td>\n",
       "      <td>0.0</td>\n",
       "      <td>0.0</td>\n",
       "      <td>0.0</td>\n",
       "      <td>1.0</td>\n",
       "      <td>0.0</td>\n",
       "      <td>0.0</td>\n",
       "      <td>1.0</td>\n",
       "      <td>0.166667</td>\n",
       "      <td>0.571429</td>\n",
       "      <td>0.0</td>\n",
       "    </tr>\n",
       "    <tr>\n",
       "      <th>2078</th>\n",
       "      <td>0.428571</td>\n",
       "      <td>0.166667</td>\n",
       "      <td>0.000000</td>\n",
       "      <td>0.000000</td>\n",
       "      <td>0.000000</td>\n",
       "      <td>1.0</td>\n",
       "      <td>0.50</td>\n",
       "      <td>1.0</td>\n",
       "      <td>0.0</td>\n",
       "      <td>0.50</td>\n",
       "      <td>...</td>\n",
       "      <td>1.0</td>\n",
       "      <td>1.0</td>\n",
       "      <td>0.0</td>\n",
       "      <td>0.0</td>\n",
       "      <td>0.0</td>\n",
       "      <td>0.0</td>\n",
       "      <td>1.0</td>\n",
       "      <td>0.666667</td>\n",
       "      <td>1.000000</td>\n",
       "      <td>0.0</td>\n",
       "    </tr>\n",
       "    <tr>\n",
       "      <th>2079</th>\n",
       "      <td>0.571429</td>\n",
       "      <td>0.333333</td>\n",
       "      <td>0.333333</td>\n",
       "      <td>0.666667</td>\n",
       "      <td>1.000000</td>\n",
       "      <td>1.0</td>\n",
       "      <td>0.25</td>\n",
       "      <td>1.0</td>\n",
       "      <td>0.0</td>\n",
       "      <td>0.25</td>\n",
       "      <td>...</td>\n",
       "      <td>1.0</td>\n",
       "      <td>0.0</td>\n",
       "      <td>0.0</td>\n",
       "      <td>0.0</td>\n",
       "      <td>0.0</td>\n",
       "      <td>0.0</td>\n",
       "      <td>0.0</td>\n",
       "      <td>0.000000</td>\n",
       "      <td>0.142857</td>\n",
       "      <td>0.0</td>\n",
       "    </tr>\n",
       "    <tr>\n",
       "      <th>2080</th>\n",
       "      <td>0.714286</td>\n",
       "      <td>0.666667</td>\n",
       "      <td>0.166667</td>\n",
       "      <td>0.166667</td>\n",
       "      <td>0.666667</td>\n",
       "      <td>1.0</td>\n",
       "      <td>0.00</td>\n",
       "      <td>0.0</td>\n",
       "      <td>0.0</td>\n",
       "      <td>0.00</td>\n",
       "      <td>...</td>\n",
       "      <td>1.0</td>\n",
       "      <td>0.0</td>\n",
       "      <td>0.0</td>\n",
       "      <td>0.0</td>\n",
       "      <td>0.0</td>\n",
       "      <td>0.0</td>\n",
       "      <td>1.0</td>\n",
       "      <td>0.166667</td>\n",
       "      <td>1.000000</td>\n",
       "      <td>0.0</td>\n",
       "    </tr>\n",
       "    <tr>\n",
       "      <th>2081</th>\n",
       "      <td>0.571429</td>\n",
       "      <td>0.500000</td>\n",
       "      <td>0.666667</td>\n",
       "      <td>0.333333</td>\n",
       "      <td>0.666667</td>\n",
       "      <td>1.0</td>\n",
       "      <td>0.25</td>\n",
       "      <td>0.5</td>\n",
       "      <td>0.0</td>\n",
       "      <td>0.25</td>\n",
       "      <td>...</td>\n",
       "      <td>1.0</td>\n",
       "      <td>1.0</td>\n",
       "      <td>0.0</td>\n",
       "      <td>0.0</td>\n",
       "      <td>0.0</td>\n",
       "      <td>0.0</td>\n",
       "      <td>1.0</td>\n",
       "      <td>0.166667</td>\n",
       "      <td>0.571429</td>\n",
       "      <td>0.0</td>\n",
       "    </tr>\n",
       "  </tbody>\n",
       "</table>\n",
       "<p>2082 rows × 43 columns</p>\n",
       "</div>"
      ],
      "text/plain": [
       "           Age       SBP       DBP       BPM   Pro_BNP  CRP    TC   TG  HDL  \\\n",
       "0     0.428571  0.333333  0.333333  0.333333  0.000000  1.0  0.00  0.0  0.0   \n",
       "1     0.428571  0.333333  0.166667  0.500000  0.333333  1.0  0.25  0.0  0.0   \n",
       "2     0.428571  0.500000  0.500000  0.166667  0.500000  0.0  0.50  0.5  1.0   \n",
       "3     0.428571  0.500000  0.333333  0.166667  0.000000  0.0  0.50  1.0  0.0   \n",
       "4     0.428571  0.500000  0.500000  0.333333  0.000000  0.0  0.00  1.0  0.0   \n",
       "...        ...       ...       ...       ...       ...  ...   ...  ...  ...   \n",
       "2077  0.714286  0.500000  0.500000  0.333333  0.000000  1.0  0.25  0.0  0.0   \n",
       "2078  0.428571  0.166667  0.000000  0.000000  0.000000  1.0  0.50  1.0  0.0   \n",
       "2079  0.571429  0.333333  0.333333  0.666667  1.000000  1.0  0.25  1.0  0.0   \n",
       "2080  0.714286  0.666667  0.166667  0.166667  0.666667  1.0  0.00  0.0  0.0   \n",
       "2081  0.571429  0.500000  0.666667  0.333333  0.666667  1.0  0.25  0.5  0.0   \n",
       "\n",
       "       LDL  ...  smoker  drinker  PriorMI  PriorCI  PriorHF  PriorCHD  sex  \\\n",
       "0     0.50  ...     1.0      0.0      0.0      0.0      0.0       0.0  1.0   \n",
       "1     0.25  ...     0.0      1.0      0.0      0.0      0.0       0.0  1.0   \n",
       "2     0.50  ...     1.0      1.0      0.0      0.0      0.0       0.0  1.0   \n",
       "3     0.50  ...     1.0      0.0      0.0      0.0      0.0       0.0  1.0   \n",
       "4     0.00  ...     0.0      0.0      0.0      0.0      0.0       0.0  1.0   \n",
       "...    ...  ...     ...      ...      ...      ...      ...       ...  ...   \n",
       "2077  0.25  ...     0.0      0.0      0.0      1.0      0.0       0.0  1.0   \n",
       "2078  0.50  ...     1.0      1.0      0.0      0.0      0.0       0.0  1.0   \n",
       "2079  0.25  ...     1.0      0.0      0.0      0.0      0.0       0.0  0.0   \n",
       "2080  0.00  ...     1.0      0.0      0.0      0.0      0.0       0.0  1.0   \n",
       "2081  0.25  ...     1.0      1.0      0.0      0.0      0.0       0.0  1.0   \n",
       "\n",
       "           VWM       PCI  BBB  \n",
       "0     0.166667  0.000000  1.0  \n",
       "1     0.166667  0.000000  1.0  \n",
       "2     0.166667  0.000000  1.0  \n",
       "3     0.166667  0.000000  1.0  \n",
       "4     0.166667  0.000000  1.0  \n",
       "...        ...       ...  ...  \n",
       "2077  0.166667  0.571429  0.0  \n",
       "2078  0.666667  1.000000  0.0  \n",
       "2079  0.000000  0.142857  0.0  \n",
       "2080  0.166667  1.000000  0.0  \n",
       "2081  0.166667  0.571429  0.0  \n",
       "\n",
       "[2082 rows x 43 columns]"
      ]
     },
     "execution_count": 3,
     "metadata": {},
     "output_type": "execute_result"
    }
   ],
   "source": [
    "df = pd.read_csv('scaled.csv')\n",
    "x = df.drop(['Arrhythmia'], axis=1)\n",
    "y = df['Arrhythmia']\n",
    "x"
   ]
  },
  {
   "cell_type": "code",
   "execution_count": 4,
   "id": "2fde7c0a",
   "metadata": {
    "ExecuteTime": {
     "end_time": "2023-01-14T05:13:55.791436Z",
     "start_time": "2023-01-14T05:13:55.771527Z"
    }
   },
   "outputs": [],
   "source": [
    "x_train, x_test, y_train, y_test = train_test_split(x, y, shuffle=True, stratify=y, test_size=0.3)"
   ]
  },
  {
   "cell_type": "code",
   "execution_count": 5,
   "id": "e5b45972",
   "metadata": {
    "ExecuteTime": {
     "end_time": "2023-01-14T05:13:57.118410Z",
     "start_time": "2023-01-14T05:13:57.102751Z"
    }
   },
   "outputs": [],
   "source": [
    "from src.config import Config\n",
    "from src.utils.data_util import get_dataset"
   ]
  },
  {
   "cell_type": "code",
   "execution_count": 6,
   "id": "ff35b9a7",
   "metadata": {
    "ExecuteTime": {
     "end_time": "2023-01-14T05:13:57.977874Z",
     "start_time": "2023-01-14T05:13:57.964946Z"
    }
   },
   "outputs": [],
   "source": [
    "#amend position function\n",
    "def amend_position(position, lower, upper):\n",
    "    pos = np.clip(position, lower, upper).astype(int)\n",
    "    if np.all((pos == 0)):\n",
    "        pos[np.random.randint(0, len(pos))] = 1\n",
    "    return pos"
   ]
  },
  {
   "cell_type": "code",
   "execution_count": 7,
   "id": "28db4638",
   "metadata": {
    "ExecuteTime": {
     "end_time": "2023-01-14T05:13:58.656419Z",
     "start_time": "2023-01-14T05:13:58.648405Z"
    }
   },
   "outputs": [],
   "source": [
    "#fitness function\n",
    "def fitness_function(solution):\n",
    "    evaluator = Evaluator(x_train.values, x_test.values, y_train, y_test, solution, Config.CLASSIFIER, Config.DRAW_CONFUSION_MATRIX, Config.AVERAGE_METRIC)\n",
    "    metrics = evaluator.get_metrics()\n",
    "    if Config.PRINT_ALL:\n",
    "        print(metrics)\n",
    "    return list(metrics.values())"
   ]
  },
  {
   "cell_type": "code",
   "execution_count": 8,
   "id": "b7900a61",
   "metadata": {
    "ExecuteTime": {
     "end_time": "2023-01-14T05:13:59.387527Z",
     "start_time": "2023-01-14T05:13:59.373530Z"
    }
   },
   "outputs": [],
   "source": [
    "n_features = 43\n",
    "LOWER_BOUND = [0, ] * n_features\n",
    "UPPER_BOUND = [1.04, ] * n_features\n",
    "problem_dict1 = {\n",
    "    \"fit_func\": fitness_function,\n",
    "    \"lb\": LOWER_BOUND,\n",
    "    \"ub\": UPPER_BOUND,\n",
    " \n",
    "    \"minmax\": Config.MIN_MAX_PROBLEM,\n",
    "    \"obj_weights\": Config.OBJ_WEIGHTS,\n",
    "    \"amend_position\": amend_position\n",
    "}"
   ]
  },
  {
   "cell_type": "code",
   "execution_count": 9,
   "id": "5d5b37c7",
   "metadata": {
    "ExecuteTime": {
     "end_time": "2023-01-14T05:14:01.398870Z",
     "start_time": "2023-01-14T05:14:01.259844Z"
    }
   },
   "outputs": [],
   "source": [
    "from mealpy.swarm_based.CSA import OriginalCSA"
   ]
  },
  {
   "cell_type": "code",
   "execution_count": 10,
   "id": "4cda2307",
   "metadata": {
    "ExecuteTime": {
     "end_time": "2023-01-14T05:15:16.834214Z",
     "start_time": "2023-01-14T05:14:02.663312Z"
    }
   },
   "outputs": [
    {
     "name": "stderr",
     "output_type": "stream",
     "text": [
      "2023/01/14 11:14:02 AM, INFO, mealpy.swarm_based.CSA.OriginalCSA: Solving 4-objective optimization problem with weights: [1 0 0 0].\n",
      "2023/01/14 11:14:29 AM, INFO, mealpy.swarm_based.CSA.OriginalCSA: >Problem: P, Epoch: 1, Current best: 0.6096, Global best: 0.6096, Runtime: 14.56191 seconds\n",
      "2023/01/14 11:14:43 AM, INFO, mealpy.swarm_based.CSA.OriginalCSA: >Problem: P, Epoch: 2, Current best: 0.6096, Global best: 0.6096, Runtime: 14.01886 seconds\n",
      "2023/01/14 11:14:57 AM, INFO, mealpy.swarm_based.CSA.OriginalCSA: >Problem: P, Epoch: 3, Current best: 0.5936, Global best: 0.6096, Runtime: 14.11782 seconds\n",
      "2023/01/14 11:15:11 AM, INFO, mealpy.swarm_based.CSA.OriginalCSA: >Problem: P, Epoch: 4, Current best: 0.608, Global best: 0.6096, Runtime: 14.41169 seconds\n"
     ]
    },
    {
     "ename": "KeyboardInterrupt",
     "evalue": "",
     "output_type": "error",
     "traceback": [
      "\u001b[1;31m---------------------------------------------------------------------------\u001b[0m",
      "\u001b[1;31mKeyboardInterrupt\u001b[0m                         Traceback (most recent call last)",
      "Input \u001b[1;32mIn [10]\u001b[0m, in \u001b[0;36m<cell line: 2>\u001b[1;34m()\u001b[0m\n\u001b[0;32m      1\u001b[0m md_csa \u001b[38;5;241m=\u001b[39m OriginalCSA(epoch\u001b[38;5;241m=\u001b[39m\u001b[38;5;241m20\u001b[39m, pop_size\u001b[38;5;241m=\u001b[39m\u001b[38;5;241m50\u001b[39m, p_a\u001b[38;5;241m=\u001b[39m\u001b[38;5;241m0.23\u001b[39m)\n\u001b[1;32m----> 2\u001b[0m best_position, best_fitness\u001b[38;5;241m=\u001b[39m \u001b[43mmd_csa\u001b[49m\u001b[38;5;241;43m.\u001b[39;49m\u001b[43msolve\u001b[49m\u001b[43m(\u001b[49m\u001b[43mproblem\u001b[49m\u001b[38;5;241;43m=\u001b[39;49m\u001b[43mproblem_dict1\u001b[49m\u001b[43m)\u001b[49m\n",
      "File \u001b[1;32m~\\anaconda3\\lib\\site-packages\\mealpy\\optimizer.py:273\u001b[0m, in \u001b[0;36mOptimizer.solve\u001b[1;34m(self, problem, mode, starting_positions, n_workers, termination)\u001b[0m\n\u001b[0;32m    270\u001b[0m time_epoch \u001b[38;5;241m=\u001b[39m time\u001b[38;5;241m.\u001b[39mperf_counter()\n\u001b[0;32m    272\u001b[0m \u001b[38;5;66;03m## Evolve method will be called in child class\u001b[39;00m\n\u001b[1;32m--> 273\u001b[0m \u001b[38;5;28;43mself\u001b[39;49m\u001b[38;5;241;43m.\u001b[39;49m\u001b[43mevolve\u001b[49m\u001b[43m(\u001b[49m\u001b[43mepoch\u001b[49m\u001b[43m)\u001b[49m\n\u001b[0;32m    275\u001b[0m \u001b[38;5;66;03m# Update global best position, the population is sorted or not depended on algorithm's strategy\u001b[39;00m\n\u001b[0;32m    276\u001b[0m pop_temp, \u001b[38;5;28mself\u001b[39m\u001b[38;5;241m.\u001b[39mg_best \u001b[38;5;241m=\u001b[39m \u001b[38;5;28mself\u001b[39m\u001b[38;5;241m.\u001b[39mupdate_global_best_solution(\u001b[38;5;28mself\u001b[39m\u001b[38;5;241m.\u001b[39mpop)\n",
      "File \u001b[1;32m~\\anaconda3\\lib\\site-packages\\mealpy\\swarm_based\\CSA.py:80\u001b[0m, in \u001b[0;36mOriginalCSA.evolve\u001b[1;34m(self, epoch)\u001b[0m\n\u001b[0;32m     77\u001b[0m pos_new \u001b[38;5;241m=\u001b[39m \u001b[38;5;28mself\u001b[39m\u001b[38;5;241m.\u001b[39mpop[i][\u001b[38;5;28mself\u001b[39m\u001b[38;5;241m.\u001b[39mID_POS] \u001b[38;5;241m+\u001b[39m \u001b[38;5;241m1.0\u001b[39m \u001b[38;5;241m/\u001b[39m np\u001b[38;5;241m.\u001b[39msqrt(epoch \u001b[38;5;241m+\u001b[39m \u001b[38;5;241m1\u001b[39m) \u001b[38;5;241m*\u001b[39m np\u001b[38;5;241m.\u001b[39msign(np\u001b[38;5;241m.\u001b[39mrandom\u001b[38;5;241m.\u001b[39mrandom() \u001b[38;5;241m-\u001b[39m \u001b[38;5;241m0.5\u001b[39m) \u001b[38;5;241m*\u001b[39m \\\n\u001b[0;32m     78\u001b[0m           levy_step \u001b[38;5;241m*\u001b[39m (\u001b[38;5;28mself\u001b[39m\u001b[38;5;241m.\u001b[39mpop[i][\u001b[38;5;28mself\u001b[39m\u001b[38;5;241m.\u001b[39mID_POS] \u001b[38;5;241m-\u001b[39m \u001b[38;5;28mself\u001b[39m\u001b[38;5;241m.\u001b[39mg_best[\u001b[38;5;28mself\u001b[39m\u001b[38;5;241m.\u001b[39mID_POS])\n\u001b[0;32m     79\u001b[0m pos_new \u001b[38;5;241m=\u001b[39m \u001b[38;5;28mself\u001b[39m\u001b[38;5;241m.\u001b[39mamend_position(pos_new, \u001b[38;5;28mself\u001b[39m\u001b[38;5;241m.\u001b[39mproblem\u001b[38;5;241m.\u001b[39mlb, \u001b[38;5;28mself\u001b[39m\u001b[38;5;241m.\u001b[39mproblem\u001b[38;5;241m.\u001b[39mub)\n\u001b[1;32m---> 80\u001b[0m target \u001b[38;5;241m=\u001b[39m \u001b[38;5;28;43mself\u001b[39;49m\u001b[38;5;241;43m.\u001b[39;49m\u001b[43mget_target_wrapper\u001b[49m\u001b[43m(\u001b[49m\u001b[43mpos_new\u001b[49m\u001b[43m)\u001b[49m\n\u001b[0;32m     81\u001b[0m \u001b[38;5;28;01mif\u001b[39;00m \u001b[38;5;28mself\u001b[39m\u001b[38;5;241m.\u001b[39mcompare_agent([pos_new, target], \u001b[38;5;28mself\u001b[39m\u001b[38;5;241m.\u001b[39mpop[i]):\n\u001b[0;32m     82\u001b[0m     pop_new[i] \u001b[38;5;241m=\u001b[39m [pos_new, target]\n",
      "File \u001b[1;32m~\\anaconda3\\lib\\site-packages\\mealpy\\optimizer.py:155\u001b[0m, in \u001b[0;36mOptimizer.get_target_wrapper\u001b[1;34m(self, position)\u001b[0m\n\u001b[0;32m    147\u001b[0m \u001b[38;5;28;01mdef\u001b[39;00m \u001b[38;5;21mget_target_wrapper\u001b[39m(\u001b[38;5;28mself\u001b[39m, position):\n\u001b[0;32m    148\u001b[0m     \u001b[38;5;124;03m\"\"\"\u001b[39;00m\n\u001b[0;32m    149\u001b[0m \u001b[38;5;124;03m    Args:\u001b[39;00m\n\u001b[0;32m    150\u001b[0m \u001b[38;5;124;03m        position (nd.array): position (nd.array): 1-D numpy array\u001b[39;00m\n\u001b[1;32m   (...)\u001b[0m\n\u001b[0;32m    153\u001b[0m \u001b[38;5;124;03m        [fitness, [obj1, obj2,...]]\u001b[39;00m\n\u001b[0;32m    154\u001b[0m \u001b[38;5;124;03m    \"\"\"\u001b[39;00m\n\u001b[1;32m--> 155\u001b[0m     objs \u001b[38;5;241m=\u001b[39m \u001b[38;5;28;43mself\u001b[39;49m\u001b[38;5;241;43m.\u001b[39;49m\u001b[43mproblem\u001b[49m\u001b[38;5;241;43m.\u001b[39;49m\u001b[43mfit_func\u001b[49m\u001b[43m(\u001b[49m\u001b[43mposition\u001b[49m\u001b[43m)\u001b[49m\n\u001b[0;32m    156\u001b[0m     \u001b[38;5;28;01mif\u001b[39;00m \u001b[38;5;129;01mnot\u001b[39;00m \u001b[38;5;28mself\u001b[39m\u001b[38;5;241m.\u001b[39mproblem\u001b[38;5;241m.\u001b[39mobj_is_list:\n\u001b[0;32m    157\u001b[0m         objs \u001b[38;5;241m=\u001b[39m [objs]\n",
      "Input \u001b[1;32mIn [7]\u001b[0m, in \u001b[0;36mfitness_function\u001b[1;34m(solution)\u001b[0m\n\u001b[0;32m      2\u001b[0m \u001b[38;5;28;01mdef\u001b[39;00m \u001b[38;5;21mfitness_function\u001b[39m(solution):\n\u001b[0;32m      3\u001b[0m     evaluator \u001b[38;5;241m=\u001b[39m Evaluator(x_train\u001b[38;5;241m.\u001b[39mvalues, x_test\u001b[38;5;241m.\u001b[39mvalues, y_train, y_test, solution, Config\u001b[38;5;241m.\u001b[39mCLASSIFIER, Config\u001b[38;5;241m.\u001b[39mDRAW_CONFUSION_MATRIX, Config\u001b[38;5;241m.\u001b[39mAVERAGE_METRIC)\n\u001b[1;32m----> 4\u001b[0m     metrics \u001b[38;5;241m=\u001b[39m \u001b[43mevaluator\u001b[49m\u001b[38;5;241;43m.\u001b[39;49m\u001b[43mget_metrics\u001b[49m\u001b[43m(\u001b[49m\u001b[43m)\u001b[49m\n\u001b[0;32m      5\u001b[0m     \u001b[38;5;28;01mif\u001b[39;00m Config\u001b[38;5;241m.\u001b[39mPRINT_ALL:\n\u001b[0;32m      6\u001b[0m         \u001b[38;5;28mprint\u001b[39m(metrics)\n",
      "File \u001b[1;32mF:\\Research\\Thesis\\Final Codes\\src\\utils\\metric_util.py:50\u001b[0m, in \u001b[0;36mEvaluator.get_metrics\u001b[1;34m(self)\u001b[0m\n\u001b[0;32m     48\u001b[0m \u001b[38;5;28;01mdef\u001b[39;00m \u001b[38;5;21mget_metrics\u001b[39m(\u001b[38;5;28mself\u001b[39m):\n\u001b[0;32m     49\u001b[0m     \u001b[38;5;66;03m## Train on training set\u001b[39;00m\n\u001b[1;32m---> 50\u001b[0m     \u001b[38;5;28;43mself\u001b[39;49m\u001b[38;5;241;43m.\u001b[39;49m\u001b[43mclf\u001b[49m\u001b[38;5;241;43m.\u001b[39;49m\u001b[43mfit\u001b[49m\u001b[43m(\u001b[49m\u001b[38;5;28;43mself\u001b[39;49m\u001b[38;5;241;43m.\u001b[39;49m\u001b[43mX_train\u001b[49m\u001b[43m,\u001b[49m\u001b[43m \u001b[49m\u001b[38;5;28;43mself\u001b[39;49m\u001b[38;5;241;43m.\u001b[39;49m\u001b[43my_train\u001b[49m\u001b[43m)\u001b[49m\n\u001b[0;32m     52\u001b[0m     \u001b[38;5;66;03m## Test and get accuracy on testing set\u001b[39;00m\n\u001b[0;32m     53\u001b[0m     y_pred \u001b[38;5;241m=\u001b[39m \u001b[38;5;28mself\u001b[39m\u001b[38;5;241m.\u001b[39mclf\u001b[38;5;241m.\u001b[39mpredict(\u001b[38;5;28mself\u001b[39m\u001b[38;5;241m.\u001b[39mX_test)\n",
      "File \u001b[1;32m~\\anaconda3\\lib\\site-packages\\sklearn\\ensemble\\_forest.py:450\u001b[0m, in \u001b[0;36mBaseForest.fit\u001b[1;34m(self, X, y, sample_weight)\u001b[0m\n\u001b[0;32m    439\u001b[0m trees \u001b[38;5;241m=\u001b[39m [\n\u001b[0;32m    440\u001b[0m     \u001b[38;5;28mself\u001b[39m\u001b[38;5;241m.\u001b[39m_make_estimator(append\u001b[38;5;241m=\u001b[39m\u001b[38;5;28;01mFalse\u001b[39;00m, random_state\u001b[38;5;241m=\u001b[39mrandom_state)\n\u001b[0;32m    441\u001b[0m     \u001b[38;5;28;01mfor\u001b[39;00m i \u001b[38;5;129;01min\u001b[39;00m \u001b[38;5;28mrange\u001b[39m(n_more_estimators)\n\u001b[0;32m    442\u001b[0m ]\n\u001b[0;32m    444\u001b[0m \u001b[38;5;66;03m# Parallel loop: we prefer the threading backend as the Cython code\u001b[39;00m\n\u001b[0;32m    445\u001b[0m \u001b[38;5;66;03m# for fitting the trees is internally releasing the Python GIL\u001b[39;00m\n\u001b[0;32m    446\u001b[0m \u001b[38;5;66;03m# making threading more efficient than multiprocessing in\u001b[39;00m\n\u001b[0;32m    447\u001b[0m \u001b[38;5;66;03m# that case. However, for joblib 0.12+ we respect any\u001b[39;00m\n\u001b[0;32m    448\u001b[0m \u001b[38;5;66;03m# parallel_backend contexts set at a higher level,\u001b[39;00m\n\u001b[0;32m    449\u001b[0m \u001b[38;5;66;03m# since correctness does not rely on using threads.\u001b[39;00m\n\u001b[1;32m--> 450\u001b[0m trees \u001b[38;5;241m=\u001b[39m \u001b[43mParallel\u001b[49m\u001b[43m(\u001b[49m\n\u001b[0;32m    451\u001b[0m \u001b[43m    \u001b[49m\u001b[43mn_jobs\u001b[49m\u001b[38;5;241;43m=\u001b[39;49m\u001b[38;5;28;43mself\u001b[39;49m\u001b[38;5;241;43m.\u001b[39;49m\u001b[43mn_jobs\u001b[49m\u001b[43m,\u001b[49m\n\u001b[0;32m    452\u001b[0m \u001b[43m    \u001b[49m\u001b[43mverbose\u001b[49m\u001b[38;5;241;43m=\u001b[39;49m\u001b[38;5;28;43mself\u001b[39;49m\u001b[38;5;241;43m.\u001b[39;49m\u001b[43mverbose\u001b[49m\u001b[43m,\u001b[49m\n\u001b[0;32m    453\u001b[0m \u001b[43m    \u001b[49m\u001b[38;5;241;43m*\u001b[39;49m\u001b[38;5;241;43m*\u001b[39;49m\u001b[43m_joblib_parallel_args\u001b[49m\u001b[43m(\u001b[49m\u001b[43mprefer\u001b[49m\u001b[38;5;241;43m=\u001b[39;49m\u001b[38;5;124;43m\"\u001b[39;49m\u001b[38;5;124;43mthreads\u001b[39;49m\u001b[38;5;124;43m\"\u001b[39;49m\u001b[43m)\u001b[49m\u001b[43m,\u001b[49m\n\u001b[0;32m    454\u001b[0m \u001b[43m\u001b[49m\u001b[43m)\u001b[49m\u001b[43m(\u001b[49m\n\u001b[0;32m    455\u001b[0m \u001b[43m    \u001b[49m\u001b[43mdelayed\u001b[49m\u001b[43m(\u001b[49m\u001b[43m_parallel_build_trees\u001b[49m\u001b[43m)\u001b[49m\u001b[43m(\u001b[49m\n\u001b[0;32m    456\u001b[0m \u001b[43m        \u001b[49m\u001b[43mt\u001b[49m\u001b[43m,\u001b[49m\n\u001b[0;32m    457\u001b[0m \u001b[43m        \u001b[49m\u001b[38;5;28;43mself\u001b[39;49m\u001b[43m,\u001b[49m\n\u001b[0;32m    458\u001b[0m \u001b[43m        \u001b[49m\u001b[43mX\u001b[49m\u001b[43m,\u001b[49m\n\u001b[0;32m    459\u001b[0m \u001b[43m        \u001b[49m\u001b[43my\u001b[49m\u001b[43m,\u001b[49m\n\u001b[0;32m    460\u001b[0m \u001b[43m        \u001b[49m\u001b[43msample_weight\u001b[49m\u001b[43m,\u001b[49m\n\u001b[0;32m    461\u001b[0m \u001b[43m        \u001b[49m\u001b[43mi\u001b[49m\u001b[43m,\u001b[49m\n\u001b[0;32m    462\u001b[0m \u001b[43m        \u001b[49m\u001b[38;5;28;43mlen\u001b[39;49m\u001b[43m(\u001b[49m\u001b[43mtrees\u001b[49m\u001b[43m)\u001b[49m\u001b[43m,\u001b[49m\n\u001b[0;32m    463\u001b[0m \u001b[43m        \u001b[49m\u001b[43mverbose\u001b[49m\u001b[38;5;241;43m=\u001b[39;49m\u001b[38;5;28;43mself\u001b[39;49m\u001b[38;5;241;43m.\u001b[39;49m\u001b[43mverbose\u001b[49m\u001b[43m,\u001b[49m\n\u001b[0;32m    464\u001b[0m \u001b[43m        \u001b[49m\u001b[43mclass_weight\u001b[49m\u001b[38;5;241;43m=\u001b[39;49m\u001b[38;5;28;43mself\u001b[39;49m\u001b[38;5;241;43m.\u001b[39;49m\u001b[43mclass_weight\u001b[49m\u001b[43m,\u001b[49m\n\u001b[0;32m    465\u001b[0m \u001b[43m        \u001b[49m\u001b[43mn_samples_bootstrap\u001b[49m\u001b[38;5;241;43m=\u001b[39;49m\u001b[43mn_samples_bootstrap\u001b[49m\u001b[43m,\u001b[49m\n\u001b[0;32m    466\u001b[0m \u001b[43m    \u001b[49m\u001b[43m)\u001b[49m\n\u001b[0;32m    467\u001b[0m \u001b[43m    \u001b[49m\u001b[38;5;28;43;01mfor\u001b[39;49;00m\u001b[43m \u001b[49m\u001b[43mi\u001b[49m\u001b[43m,\u001b[49m\u001b[43m \u001b[49m\u001b[43mt\u001b[49m\u001b[43m \u001b[49m\u001b[38;5;129;43;01min\u001b[39;49;00m\u001b[43m \u001b[49m\u001b[38;5;28;43menumerate\u001b[39;49m\u001b[43m(\u001b[49m\u001b[43mtrees\u001b[49m\u001b[43m)\u001b[49m\n\u001b[0;32m    468\u001b[0m \u001b[43m\u001b[49m\u001b[43m)\u001b[49m\n\u001b[0;32m    470\u001b[0m \u001b[38;5;66;03m# Collect newly grown trees\u001b[39;00m\n\u001b[0;32m    471\u001b[0m \u001b[38;5;28mself\u001b[39m\u001b[38;5;241m.\u001b[39mestimators_\u001b[38;5;241m.\u001b[39mextend(trees)\n",
      "File \u001b[1;32m~\\anaconda3\\lib\\site-packages\\joblib\\parallel.py:1056\u001b[0m, in \u001b[0;36mParallel.__call__\u001b[1;34m(self, iterable)\u001b[0m\n\u001b[0;32m   1053\u001b[0m     \u001b[38;5;28mself\u001b[39m\u001b[38;5;241m.\u001b[39m_iterating \u001b[38;5;241m=\u001b[39m \u001b[38;5;28;01mFalse\u001b[39;00m\n\u001b[0;32m   1055\u001b[0m \u001b[38;5;28;01mwith\u001b[39;00m \u001b[38;5;28mself\u001b[39m\u001b[38;5;241m.\u001b[39m_backend\u001b[38;5;241m.\u001b[39mretrieval_context():\n\u001b[1;32m-> 1056\u001b[0m     \u001b[38;5;28;43mself\u001b[39;49m\u001b[38;5;241;43m.\u001b[39;49m\u001b[43mretrieve\u001b[49m\u001b[43m(\u001b[49m\u001b[43m)\u001b[49m\n\u001b[0;32m   1057\u001b[0m \u001b[38;5;66;03m# Make sure that we get a last message telling us we are done\u001b[39;00m\n\u001b[0;32m   1058\u001b[0m elapsed_time \u001b[38;5;241m=\u001b[39m time\u001b[38;5;241m.\u001b[39mtime() \u001b[38;5;241m-\u001b[39m \u001b[38;5;28mself\u001b[39m\u001b[38;5;241m.\u001b[39m_start_time\n",
      "File \u001b[1;32m~\\anaconda3\\lib\\site-packages\\joblib\\parallel.py:935\u001b[0m, in \u001b[0;36mParallel.retrieve\u001b[1;34m(self)\u001b[0m\n\u001b[0;32m    933\u001b[0m \u001b[38;5;28;01mtry\u001b[39;00m:\n\u001b[0;32m    934\u001b[0m     \u001b[38;5;28;01mif\u001b[39;00m \u001b[38;5;28mgetattr\u001b[39m(\u001b[38;5;28mself\u001b[39m\u001b[38;5;241m.\u001b[39m_backend, \u001b[38;5;124m'\u001b[39m\u001b[38;5;124msupports_timeout\u001b[39m\u001b[38;5;124m'\u001b[39m, \u001b[38;5;28;01mFalse\u001b[39;00m):\n\u001b[1;32m--> 935\u001b[0m         \u001b[38;5;28mself\u001b[39m\u001b[38;5;241m.\u001b[39m_output\u001b[38;5;241m.\u001b[39mextend(\u001b[43mjob\u001b[49m\u001b[38;5;241;43m.\u001b[39;49m\u001b[43mget\u001b[49m\u001b[43m(\u001b[49m\u001b[43mtimeout\u001b[49m\u001b[38;5;241;43m=\u001b[39;49m\u001b[38;5;28;43mself\u001b[39;49m\u001b[38;5;241;43m.\u001b[39;49m\u001b[43mtimeout\u001b[49m\u001b[43m)\u001b[49m)\n\u001b[0;32m    936\u001b[0m     \u001b[38;5;28;01melse\u001b[39;00m:\n\u001b[0;32m    937\u001b[0m         \u001b[38;5;28mself\u001b[39m\u001b[38;5;241m.\u001b[39m_output\u001b[38;5;241m.\u001b[39mextend(job\u001b[38;5;241m.\u001b[39mget())\n",
      "File \u001b[1;32m~\\anaconda3\\lib\\multiprocessing\\pool.py:765\u001b[0m, in \u001b[0;36mApplyResult.get\u001b[1;34m(self, timeout)\u001b[0m\n\u001b[0;32m    764\u001b[0m \u001b[38;5;28;01mdef\u001b[39;00m \u001b[38;5;21mget\u001b[39m(\u001b[38;5;28mself\u001b[39m, timeout\u001b[38;5;241m=\u001b[39m\u001b[38;5;28;01mNone\u001b[39;00m):\n\u001b[1;32m--> 765\u001b[0m     \u001b[38;5;28;43mself\u001b[39;49m\u001b[38;5;241;43m.\u001b[39;49m\u001b[43mwait\u001b[49m\u001b[43m(\u001b[49m\u001b[43mtimeout\u001b[49m\u001b[43m)\u001b[49m\n\u001b[0;32m    766\u001b[0m     \u001b[38;5;28;01mif\u001b[39;00m \u001b[38;5;129;01mnot\u001b[39;00m \u001b[38;5;28mself\u001b[39m\u001b[38;5;241m.\u001b[39mready():\n\u001b[0;32m    767\u001b[0m         \u001b[38;5;28;01mraise\u001b[39;00m \u001b[38;5;167;01mTimeoutError\u001b[39;00m\n",
      "File \u001b[1;32m~\\anaconda3\\lib\\multiprocessing\\pool.py:762\u001b[0m, in \u001b[0;36mApplyResult.wait\u001b[1;34m(self, timeout)\u001b[0m\n\u001b[0;32m    761\u001b[0m \u001b[38;5;28;01mdef\u001b[39;00m \u001b[38;5;21mwait\u001b[39m(\u001b[38;5;28mself\u001b[39m, timeout\u001b[38;5;241m=\u001b[39m\u001b[38;5;28;01mNone\u001b[39;00m):\n\u001b[1;32m--> 762\u001b[0m     \u001b[38;5;28;43mself\u001b[39;49m\u001b[38;5;241;43m.\u001b[39;49m\u001b[43m_event\u001b[49m\u001b[38;5;241;43m.\u001b[39;49m\u001b[43mwait\u001b[49m\u001b[43m(\u001b[49m\u001b[43mtimeout\u001b[49m\u001b[43m)\u001b[49m\n",
      "File \u001b[1;32m~\\anaconda3\\lib\\threading.py:574\u001b[0m, in \u001b[0;36mEvent.wait\u001b[1;34m(self, timeout)\u001b[0m\n\u001b[0;32m    572\u001b[0m signaled \u001b[38;5;241m=\u001b[39m \u001b[38;5;28mself\u001b[39m\u001b[38;5;241m.\u001b[39m_flag\n\u001b[0;32m    573\u001b[0m \u001b[38;5;28;01mif\u001b[39;00m \u001b[38;5;129;01mnot\u001b[39;00m signaled:\n\u001b[1;32m--> 574\u001b[0m     signaled \u001b[38;5;241m=\u001b[39m \u001b[38;5;28;43mself\u001b[39;49m\u001b[38;5;241;43m.\u001b[39;49m\u001b[43m_cond\u001b[49m\u001b[38;5;241;43m.\u001b[39;49m\u001b[43mwait\u001b[49m\u001b[43m(\u001b[49m\u001b[43mtimeout\u001b[49m\u001b[43m)\u001b[49m\n\u001b[0;32m    575\u001b[0m \u001b[38;5;28;01mreturn\u001b[39;00m signaled\n",
      "File \u001b[1;32m~\\anaconda3\\lib\\threading.py:312\u001b[0m, in \u001b[0;36mCondition.wait\u001b[1;34m(self, timeout)\u001b[0m\n\u001b[0;32m    310\u001b[0m \u001b[38;5;28;01mtry\u001b[39;00m:    \u001b[38;5;66;03m# restore state no matter what (e.g., KeyboardInterrupt)\u001b[39;00m\n\u001b[0;32m    311\u001b[0m     \u001b[38;5;28;01mif\u001b[39;00m timeout \u001b[38;5;129;01mis\u001b[39;00m \u001b[38;5;28;01mNone\u001b[39;00m:\n\u001b[1;32m--> 312\u001b[0m         \u001b[43mwaiter\u001b[49m\u001b[38;5;241;43m.\u001b[39;49m\u001b[43macquire\u001b[49m\u001b[43m(\u001b[49m\u001b[43m)\u001b[49m\n\u001b[0;32m    313\u001b[0m         gotit \u001b[38;5;241m=\u001b[39m \u001b[38;5;28;01mTrue\u001b[39;00m\n\u001b[0;32m    314\u001b[0m     \u001b[38;5;28;01melse\u001b[39;00m:\n",
      "\u001b[1;31mKeyboardInterrupt\u001b[0m: "
     ]
    }
   ],
   "source": [
    "md_csa = OriginalCSA(epoch=20, pop_size=50, p_a=0.23)\n",
    "best_position, best_fitness= md_csa.solve(problem=problem_dict1)"
   ]
  },
  {
   "cell_type": "code",
   "execution_count": 11,
   "id": "c6592dc1",
   "metadata": {
    "ExecuteTime": {
     "end_time": "2023-01-11T05:22:34.811644Z",
     "start_time": "2023-01-11T05:22:34.802707Z"
    }
   },
   "outputs": [
    {
     "data": {
      "text/plain": [
       "array([0, 0, 1, 0, 0, 0, 0, 0, 0, 0, 0, 0, 0, 0, 0, 0, 0, 0, 0, 0, 0, 0,\n",
       "       0, 0, 0, 0, 0, 1, 0, 0, 0, 0, 0, 0, 0, 0, 0, 0, 0, 0, 0, 0, 0])"
      ]
     },
     "execution_count": 11,
     "metadata": {},
     "output_type": "execute_result"
    }
   ],
   "source": [
    "best_position"
   ]
  },
  {
   "cell_type": "code",
   "execution_count": 117,
   "id": "39b1fab9",
   "metadata": {
    "ExecuteTime": {
     "end_time": "2023-01-12T16:00:20.916995Z",
     "start_time": "2023-01-12T16:00:20.897004Z"
    }
   },
   "outputs": [],
   "source": [
    "def feature_name(features):\n",
    "    df1 = pd.read_csv('scaled.csv')\n",
    "    names = list(df1.columns.values)\n",
    "    feature = []\n",
    "    i = 0\n",
    "    for name in features:\n",
    "        if name == 1:\n",
    "            feature.append(names[i])\n",
    "        else:\n",
    "            pass\n",
    "        i+=1\n",
    "    \n",
    "    return feature"
   ]
  },
  {
   "cell_type": "code",
   "execution_count": 52,
   "id": "ac51474d",
   "metadata": {
    "ExecuteTime": {
     "end_time": "2023-01-11T12:19:40.960355Z",
     "start_time": "2023-01-11T12:19:40.913482Z"
    }
   },
   "outputs": [
    {
     "data": {
      "text/plain": [
       "['BPM', 'RARL', 'sex']"
      ]
     },
     "execution_count": 52,
     "metadata": {},
     "output_type": "execute_result"
    }
   ],
   "source": [
    "feature_name(best_position)"
   ]
  },
  {
   "cell_type": "code",
   "execution_count": 53,
   "id": "d4e4c2a3",
   "metadata": {
    "ExecuteTime": {
     "end_time": "2023-01-11T12:19:45.028397Z",
     "start_time": "2023-01-11T12:19:45.016432Z"
    }
   },
   "outputs": [
    {
     "data": {
      "text/plain": [
       "0.6304"
      ]
     },
     "execution_count": 53,
     "metadata": {},
     "output_type": "execute_result"
    }
   ],
   "source": [
    "best_fitness"
   ]
  },
  {
   "cell_type": "code",
   "execution_count": 106,
   "id": "f45a788f",
   "metadata": {
    "ExecuteTime": {
     "end_time": "2023-01-12T06:11:07.396129Z",
     "start_time": "2023-01-12T06:11:07.388077Z"
    }
   },
   "outputs": [],
   "source": [
    "n_features = 43\n",
    "LOWER_BOUND = [0, ] * n_features\n",
    "UPPER_BOUND = [1, ] * n_features\n",
    "problem_dict1 = {\n",
    "    \"fit_func\": fitness_function,\n",
    "    \"lb\": LOWER_BOUND,\n",
    "    \"ub\": UPPER_BOUND,\n",
    " \n",
    "    \"minmax\": Config.MIN_MAX_PROBLEM,\n",
    "    \"obj_weights\": Config.OBJ_WEIGHTS,\n",
    "    \"amend_position\": amend_position\n",
    "}"
   ]
  },
  {
   "cell_type": "code",
   "execution_count": 107,
   "id": "26a50132",
   "metadata": {
    "ExecuteTime": {
     "end_time": "2023-01-12T10:13:01.461402Z",
     "start_time": "2023-01-12T06:11:12.026892Z"
    }
   },
   "outputs": [
    {
     "name": "stderr",
     "output_type": "stream",
     "text": [
      "2023/01/12 12:11:12 PM, INFO, mealpy.swarm_based.CSA.OriginalCSA: Solving 4-objective optimization problem with weights: [1 0 0 0].\n",
      "2023/01/12 12:11:54 PM, INFO, mealpy.swarm_based.CSA.OriginalCSA: >Problem: P, Epoch: 1, Current best: 0.6048, Global best: 0.6048, Runtime: 24.31172 seconds\n",
      "2023/01/12 12:12:17 PM, INFO, mealpy.swarm_based.CSA.OriginalCSA: >Problem: P, Epoch: 2, Current best: 0.6, Global best: 0.6048, Runtime: 22.85021 seconds\n",
      "2023/01/12 12:12:41 PM, INFO, mealpy.swarm_based.CSA.OriginalCSA: >Problem: P, Epoch: 3, Current best: 0.6048, Global best: 0.6048, Runtime: 23.20068 seconds\n",
      "2023/01/12 12:13:05 PM, INFO, mealpy.swarm_based.CSA.OriginalCSA: >Problem: P, Epoch: 4, Current best: 0.6016, Global best: 0.6048, Runtime: 24.64497 seconds\n",
      "2023/01/12 12:13:31 PM, INFO, mealpy.swarm_based.CSA.OriginalCSA: >Problem: P, Epoch: 5, Current best: 0.6032, Global best: 0.6048, Runtime: 25.37725 seconds\n",
      "2023/01/12 12:13:54 PM, INFO, mealpy.swarm_based.CSA.OriginalCSA: >Problem: P, Epoch: 6, Current best: 0.6032, Global best: 0.6048, Runtime: 23.11778 seconds\n",
      "2023/01/12 12:14:17 PM, INFO, mealpy.swarm_based.CSA.OriginalCSA: >Problem: P, Epoch: 7, Current best: 0.592, Global best: 0.6048, Runtime: 23.43808 seconds\n",
      "2023/01/12 12:14:41 PM, INFO, mealpy.swarm_based.CSA.OriginalCSA: >Problem: P, Epoch: 8, Current best: 0.6, Global best: 0.6048, Runtime: 24.05219 seconds\n",
      "2023/01/12 12:15:08 PM, INFO, mealpy.swarm_based.CSA.OriginalCSA: >Problem: P, Epoch: 9, Current best: 0.6, Global best: 0.6048, Runtime: 26.55610 seconds\n",
      "2023/01/12 12:15:31 PM, INFO, mealpy.swarm_based.CSA.OriginalCSA: >Problem: P, Epoch: 10, Current best: 0.6016, Global best: 0.6048, Runtime: 23.07305 seconds\n",
      "2023/01/12 12:15:53 PM, INFO, mealpy.swarm_based.CSA.OriginalCSA: >Problem: P, Epoch: 11, Current best: 0.6, Global best: 0.6048, Runtime: 22.60792 seconds\n",
      "2023/01/12 12:16:16 PM, INFO, mealpy.swarm_based.CSA.OriginalCSA: >Problem: P, Epoch: 12, Current best: 0.6016, Global best: 0.6048, Runtime: 22.72025 seconds\n",
      "2023/01/12 12:16:39 PM, INFO, mealpy.swarm_based.CSA.OriginalCSA: >Problem: P, Epoch: 13, Current best: 0.6048, Global best: 0.6048, Runtime: 22.71663 seconds\n",
      "2023/01/12 12:17:02 PM, INFO, mealpy.swarm_based.CSA.OriginalCSA: >Problem: P, Epoch: 14, Current best: 0.6048, Global best: 0.6048, Runtime: 22.88528 seconds\n",
      "2023/01/12 12:17:24 PM, INFO, mealpy.swarm_based.CSA.OriginalCSA: >Problem: P, Epoch: 15, Current best: 0.6032, Global best: 0.6048, Runtime: 22.65717 seconds\n",
      "2023/01/12 12:17:52 PM, INFO, mealpy.swarm_based.CSA.OriginalCSA: >Problem: P, Epoch: 16, Current best: 0.6016, Global best: 0.6048, Runtime: 27.52495 seconds\n",
      "2023/01/12 04:12:04 PM, INFO, mealpy.swarm_based.CSA.OriginalCSA: >Problem: P, Epoch: 17, Current best: 0.6048, Global best: 0.6048, Runtime: 14073.37445 seconds\n",
      "2023/01/12 04:12:25 PM, INFO, mealpy.swarm_based.CSA.OriginalCSA: >Problem: P, Epoch: 18, Current best: 0.6048, Global best: 0.6048, Runtime: 21.35354 seconds\n",
      "2023/01/12 04:12:45 PM, INFO, mealpy.swarm_based.CSA.OriginalCSA: >Problem: P, Epoch: 19, Current best: 0.6032, Global best: 0.6048, Runtime: 19.97228 seconds\n",
      "2023/01/12 04:13:01 PM, INFO, mealpy.swarm_based.CSA.OriginalCSA: >Problem: P, Epoch: 20, Current best: 0.6048, Global best: 0.6048, Runtime: 16.07227 seconds\n"
     ]
    }
   ],
   "source": [
    "md_csa = OriginalCSA(epoch=20, pop_size=50)\n",
    "best_position, best_fitness= md_csa.solve(problem=problem_dict1)"
   ]
  },
  {
   "cell_type": "code",
   "execution_count": 108,
   "id": "d028fef2",
   "metadata": {
    "ExecuteTime": {
     "end_time": "2023-01-12T15:02:05.288701Z",
     "start_time": "2023-01-12T15:02:05.226869Z"
    },
    "scrolled": true
   },
   "outputs": [
    {
     "data": {
      "text/plain": [
       "['PCI']"
      ]
     },
     "execution_count": 108,
     "metadata": {},
     "output_type": "execute_result"
    }
   ],
   "source": [
    "feature_name(best_position)"
   ]
  },
  {
   "cell_type": "code",
   "execution_count": 109,
   "id": "6cba0efb",
   "metadata": {
    "ExecuteTime": {
     "end_time": "2023-01-12T15:02:11.936437Z",
     "start_time": "2023-01-12T15:02:11.926460Z"
    }
   },
   "outputs": [
    {
     "data": {
      "text/plain": [
       "0.6048"
      ]
     },
     "execution_count": 109,
     "metadata": {},
     "output_type": "execute_result"
    }
   ],
   "source": [
    "best_fitness"
   ]
  },
  {
   "cell_type": "code",
   "execution_count": 99,
   "id": "d2e571a1",
   "metadata": {
    "ExecuteTime": {
     "end_time": "2023-01-12T05:53:56.953558Z",
     "start_time": "2023-01-12T05:53:56.939596Z"
    }
   },
   "outputs": [],
   "source": [
    "from sklearn.model_selection import StratifiedKFold"
   ]
  },
  {
   "cell_type": "code",
   "execution_count": 100,
   "id": "79fb41d9",
   "metadata": {
    "ExecuteTime": {
     "end_time": "2023-01-12T05:55:35.414410Z",
     "start_time": "2023-01-12T05:55:35.397259Z"
    }
   },
   "outputs": [],
   "source": [
    "rfc = RandomForestClassifier(random_state=2, max_depth=37, n_estimators=96, min_samples_leaf=2, n_jobs=-1)"
   ]
  },
  {
   "cell_type": "code",
   "execution_count": 101,
   "id": "cceda14f",
   "metadata": {
    "ExecuteTime": {
     "end_time": "2023-01-12T05:56:55.066533Z",
     "start_time": "2023-01-12T05:56:55.058553Z"
    }
   },
   "outputs": [],
   "source": [
    "import numpy as np"
   ]
  },
  {
   "cell_type": "code",
   "execution_count": 104,
   "id": "d6c03fc6",
   "metadata": {
    "ExecuteTime": {
     "end_time": "2023-01-12T05:58:26.921970Z",
     "start_time": "2023-01-12T05:58:26.699391Z"
    }
   },
   "outputs": [
    {
     "data": {
      "text/plain": [
       "array([[2, 1],\n",
       "       [1, 0],\n",
       "       [3, 1],\n",
       "       ...,\n",
       "       [2, 1],\n",
       "       [1, 1],\n",
       "       [4, 1]], dtype=int64)"
      ]
     },
     "execution_count": 104,
     "metadata": {},
     "output_type": "execute_result"
    }
   ],
   "source": [
    "df = pd.read_csv('encoded_data.csv')\n",
    "x = np.array(df[list(feature_name(best_position))])\n",
    "y = np.array(df['Arrhythmia'])\n",
    "x"
   ]
  },
  {
   "cell_type": "code",
   "execution_count": 105,
   "id": "fca71037",
   "metadata": {
    "ExecuteTime": {
     "end_time": "2023-01-12T05:58:50.035577Z",
     "start_time": "2023-01-12T05:58:45.151781Z"
    }
   },
   "outputs": [
    {
     "data": {
      "text/plain": [
       "0.6186579867500921"
      ]
     },
     "execution_count": 105,
     "metadata": {},
     "output_type": "execute_result"
    }
   ],
   "source": [
    "strat_kfold = StratifiedKFold(n_splits=10, shuffle=True, random_state=1)\n",
    "accuracy_list = []\n",
    "for train_index, test_index in strat_kfold.split(x, y):\n",
    "    x_train_fold, x_test_fold = x[train_index], x[test_index]\n",
    "    y_train_fold, y_test_fold = y[train_index], y[test_index]\n",
    "    rfc.fit(x_train_fold, y_train_fold)\n",
    "    preds = rfc.predict(x_test_fold)\n",
    "    accuracy_test = accuracy_score(preds, y_test_fold)\n",
    "    accuracy_list.append(accuracy_test)\n",
    "np.array(accuracy_list).mean()"
   ]
  },
  {
   "cell_type": "markdown",
   "id": "719a4b0c",
   "metadata": {},
   "source": [
    "# Iterrations for different values"
   ]
  },
  {
   "cell_type": "code",
   "execution_count": 110,
   "id": "4e413a91",
   "metadata": {
    "ExecuteTime": {
     "end_time": "2023-01-12T15:52:11.776325Z",
     "start_time": "2023-01-12T15:52:11.760367Z"
    }
   },
   "outputs": [],
   "source": [
    "#amend position function\n",
    "def amend_position(position, lower, upper):\n",
    "    pos = np.clip(position, lower, upper).astype(int)\n",
    "    if np.all((pos == 0)):\n",
    "        pos[np.random.randint(0, len(pos))] = 1\n",
    "    return pos"
   ]
  },
  {
   "cell_type": "code",
   "execution_count": 111,
   "id": "65163708",
   "metadata": {
    "ExecuteTime": {
     "end_time": "2023-01-12T15:52:30.368030Z",
     "start_time": "2023-01-12T15:52:30.359086Z"
    }
   },
   "outputs": [],
   "source": [
    "#fitness function\n",
    "def fitness_function(solution):\n",
    "    evaluator = Evaluator(x_train.values, x_test.values, y_train, y_test, solution, Config.CLASSIFIER, Config.DRAW_CONFUSION_MATRIX, Config.AVERAGE_METRIC)\n",
    "    metrics = evaluator.get_metrics()\n",
    "    if Config.PRINT_ALL:\n",
    "        print(metrics)\n",
    "    return list(metrics.values())"
   ]
  },
  {
   "cell_type": "code",
   "execution_count": 113,
   "id": "b44acce6",
   "metadata": {
    "ExecuteTime": {
     "end_time": "2023-01-12T15:52:53.732578Z",
     "start_time": "2023-01-12T15:52:53.712632Z"
    }
   },
   "outputs": [],
   "source": [
    "n_features = 43\n",
    "LOWER_BOUND = [0, ] * n_features\n",
    "UPPER_BOUND = [1.02, ] * n_features\n",
    "problem_dict1 = {\n",
    "    \"fit_func\": fitness_function,\n",
    "    \"lb\": LOWER_BOUND,\n",
    "    \"ub\": UPPER_BOUND,\n",
    " \n",
    "    \"minmax\": Config.MIN_MAX_PROBLEM,\n",
    "    \"obj_weights\": Config.OBJ_WEIGHTS,\n",
    "    \"amend_position\": amend_position\n",
    "}"
   ]
  },
  {
   "cell_type": "code",
   "execution_count": 180,
   "id": "12b47f9f",
   "metadata": {
    "ExecuteTime": {
     "end_time": "2023-01-13T19:00:11.712407Z",
     "start_time": "2023-01-13T18:55:26.790098Z"
    }
   },
   "outputs": [
    {
     "name": "stderr",
     "output_type": "stream",
     "text": [
      "2023/01/14 12:55:27 AM, INFO, mealpy.swarm_based.CSA.OriginalCSA: Solving 4-objective optimization problem with weights: [1 0 0 0].\n",
      "2023/01/14 12:55:50 AM, INFO, mealpy.swarm_based.CSA.OriginalCSA: >Problem: P, Epoch: 1, Current best: 0.608, Global best: 0.6304, Runtime: 12.93463 seconds\n",
      "2023/01/14 12:56:03 AM, INFO, mealpy.swarm_based.CSA.OriginalCSA: >Problem: P, Epoch: 2, Current best: 0.6016, Global best: 0.6304, Runtime: 13.49920 seconds\n",
      "2023/01/14 12:56:16 AM, INFO, mealpy.swarm_based.CSA.OriginalCSA: >Problem: P, Epoch: 3, Current best: 0.624, Global best: 0.6304, Runtime: 12.60752 seconds\n",
      "2023/01/14 12:56:29 AM, INFO, mealpy.swarm_based.CSA.OriginalCSA: >Problem: P, Epoch: 4, Current best: 0.6032, Global best: 0.6304, Runtime: 12.99190 seconds\n",
      "2023/01/14 12:56:43 AM, INFO, mealpy.swarm_based.CSA.OriginalCSA: >Problem: P, Epoch: 5, Current best: 0.624, Global best: 0.6304, Runtime: 14.08613 seconds\n",
      "2023/01/14 12:56:56 AM, INFO, mealpy.swarm_based.CSA.OriginalCSA: >Problem: P, Epoch: 6, Current best: 0.624, Global best: 0.6304, Runtime: 13.13113 seconds\n",
      "2023/01/14 12:57:10 AM, INFO, mealpy.swarm_based.CSA.OriginalCSA: >Problem: P, Epoch: 7, Current best: 0.6064, Global best: 0.6304, Runtime: 14.23635 seconds\n",
      "2023/01/14 12:57:28 AM, INFO, mealpy.swarm_based.CSA.OriginalCSA: >Problem: P, Epoch: 8, Current best: 0.6128, Global best: 0.6304, Runtime: 17.75472 seconds\n",
      "2023/01/14 12:57:42 AM, INFO, mealpy.swarm_based.CSA.OriginalCSA: >Problem: P, Epoch: 9, Current best: 0.6032, Global best: 0.6304, Runtime: 13.41622 seconds\n",
      "2023/01/14 12:57:54 AM, INFO, mealpy.swarm_based.CSA.OriginalCSA: >Problem: P, Epoch: 10, Current best: 0.608, Global best: 0.6304, Runtime: 12.68794 seconds\n",
      "2023/01/14 12:58:07 AM, INFO, mealpy.swarm_based.CSA.OriginalCSA: >Problem: P, Epoch: 11, Current best: 0.6032, Global best: 0.6304, Runtime: 12.73656 seconds\n",
      "2023/01/14 12:58:21 AM, INFO, mealpy.swarm_based.CSA.OriginalCSA: >Problem: P, Epoch: 12, Current best: 0.608, Global best: 0.6304, Runtime: 14.07121 seconds\n",
      "2023/01/14 12:58:34 AM, INFO, mealpy.swarm_based.CSA.OriginalCSA: >Problem: P, Epoch: 13, Current best: 0.5888, Global best: 0.6304, Runtime: 13.18828 seconds\n",
      "2023/01/14 12:58:47 AM, INFO, mealpy.swarm_based.CSA.OriginalCSA: >Problem: P, Epoch: 14, Current best: 0.608, Global best: 0.6304, Runtime: 12.85365 seconds\n",
      "2023/01/14 12:59:01 AM, INFO, mealpy.swarm_based.CSA.OriginalCSA: >Problem: P, Epoch: 15, Current best: 0.5904, Global best: 0.6304, Runtime: 14.08870 seconds\n",
      "2023/01/14 12:59:15 AM, INFO, mealpy.swarm_based.CSA.OriginalCSA: >Problem: P, Epoch: 16, Current best: 0.608, Global best: 0.6304, Runtime: 13.85057 seconds\n",
      "2023/01/14 12:59:29 AM, INFO, mealpy.swarm_based.CSA.OriginalCSA: >Problem: P, Epoch: 17, Current best: 0.608, Global best: 0.6304, Runtime: 13.86102 seconds\n",
      "2023/01/14 12:59:42 AM, INFO, mealpy.swarm_based.CSA.OriginalCSA: >Problem: P, Epoch: 18, Current best: 0.6016, Global best: 0.6304, Runtime: 13.40153 seconds\n",
      "2023/01/14 12:59:56 AM, INFO, mealpy.swarm_based.CSA.OriginalCSA: >Problem: P, Epoch: 19, Current best: 0.5936, Global best: 0.6304, Runtime: 13.54995 seconds\n",
      "2023/01/14 01:00:11 AM, INFO, mealpy.swarm_based.CSA.OriginalCSA: >Problem: P, Epoch: 20, Current best: 0.616, Global best: 0.6304, Runtime: 15.25767 seconds\n"
     ]
    }
   ],
   "source": [
    "md_csa = OriginalCSA(epoch=20, pop_size=50, p_a=0.23)\n",
    "best_position, best_fitness= md_csa.solve(problem=problem_dict1)"
   ]
  },
  {
   "cell_type": "code",
   "execution_count": null,
   "id": "98490dc5",
   "metadata": {
    "ExecuteTime": {
     "start_time": "2023-01-14T05:38:41.619Z"
    }
   },
   "outputs": [],
   "source": [
    "feature_name(best_position)"
   ]
  },
  {
   "cell_type": "code",
   "execution_count": 136,
   "id": "f6267802",
   "metadata": {
    "ExecuteTime": {
     "end_time": "2023-01-12T16:23:26.169028Z",
     "start_time": "2023-01-12T16:23:26.111147Z"
    }
   },
   "outputs": [
    {
     "data": {
      "text/html": [
       "<div>\n",
       "<style scoped>\n",
       "    .dataframe tbody tr th:only-of-type {\n",
       "        vertical-align: middle;\n",
       "    }\n",
       "\n",
       "    .dataframe tbody tr th {\n",
       "        vertical-align: top;\n",
       "    }\n",
       "\n",
       "    .dataframe thead th {\n",
       "        text-align: right;\n",
       "    }\n",
       "</style>\n",
       "<table border=\"1\" class=\"dataframe\">\n",
       "  <thead>\n",
       "    <tr style=\"text-align: right;\">\n",
       "      <th></th>\n",
       "      <th>BPM</th>\n",
       "      <th>Vao</th>\n",
       "      <th>PriorCHD</th>\n",
       "      <th>PCI</th>\n",
       "      <th>Arrhythmia</th>\n",
       "    </tr>\n",
       "  </thead>\n",
       "  <tbody>\n",
       "    <tr>\n",
       "      <th>0</th>\n",
       "      <td>2</td>\n",
       "      <td>0</td>\n",
       "      <td>0</td>\n",
       "      <td>0</td>\n",
       "      <td>0</td>\n",
       "    </tr>\n",
       "    <tr>\n",
       "      <th>1</th>\n",
       "      <td>3</td>\n",
       "      <td>1</td>\n",
       "      <td>0</td>\n",
       "      <td>0</td>\n",
       "      <td>0</td>\n",
       "    </tr>\n",
       "    <tr>\n",
       "      <th>2</th>\n",
       "      <td>1</td>\n",
       "      <td>1</td>\n",
       "      <td>0</td>\n",
       "      <td>0</td>\n",
       "      <td>0</td>\n",
       "    </tr>\n",
       "    <tr>\n",
       "      <th>3</th>\n",
       "      <td>1</td>\n",
       "      <td>0</td>\n",
       "      <td>0</td>\n",
       "      <td>0</td>\n",
       "      <td>0</td>\n",
       "    </tr>\n",
       "    <tr>\n",
       "      <th>4</th>\n",
       "      <td>2</td>\n",
       "      <td>1</td>\n",
       "      <td>0</td>\n",
       "      <td>0</td>\n",
       "      <td>0</td>\n",
       "    </tr>\n",
       "    <tr>\n",
       "      <th>...</th>\n",
       "      <td>...</td>\n",
       "      <td>...</td>\n",
       "      <td>...</td>\n",
       "      <td>...</td>\n",
       "      <td>...</td>\n",
       "    </tr>\n",
       "    <tr>\n",
       "      <th>2077</th>\n",
       "      <td>2</td>\n",
       "      <td>1</td>\n",
       "      <td>0</td>\n",
       "      <td>4</td>\n",
       "      <td>1</td>\n",
       "    </tr>\n",
       "    <tr>\n",
       "      <th>2078</th>\n",
       "      <td>0</td>\n",
       "      <td>1</td>\n",
       "      <td>0</td>\n",
       "      <td>7</td>\n",
       "      <td>1</td>\n",
       "    </tr>\n",
       "    <tr>\n",
       "      <th>2079</th>\n",
       "      <td>4</td>\n",
       "      <td>1</td>\n",
       "      <td>0</td>\n",
       "      <td>1</td>\n",
       "      <td>1</td>\n",
       "    </tr>\n",
       "    <tr>\n",
       "      <th>2080</th>\n",
       "      <td>1</td>\n",
       "      <td>1</td>\n",
       "      <td>0</td>\n",
       "      <td>7</td>\n",
       "      <td>1</td>\n",
       "    </tr>\n",
       "    <tr>\n",
       "      <th>2081</th>\n",
       "      <td>2</td>\n",
       "      <td>0</td>\n",
       "      <td>0</td>\n",
       "      <td>4</td>\n",
       "      <td>1</td>\n",
       "    </tr>\n",
       "  </tbody>\n",
       "</table>\n",
       "<p>2082 rows × 5 columns</p>\n",
       "</div>"
      ],
      "text/plain": [
       "      BPM  Vao  PriorCHD  PCI  Arrhythmia\n",
       "0       2    0         0    0           0\n",
       "1       3    1         0    0           0\n",
       "2       1    1         0    0           0\n",
       "3       1    0         0    0           0\n",
       "4       2    1         0    0           0\n",
       "...   ...  ...       ...  ...         ...\n",
       "2077    2    1         0    4           1\n",
       "2078    0    1         0    7           1\n",
       "2079    4    1         0    1           1\n",
       "2080    1    1         0    7           1\n",
       "2081    2    0         0    4           1\n",
       "\n",
       "[2082 rows x 5 columns]"
      ]
     },
     "execution_count": 136,
     "metadata": {},
     "output_type": "execute_result"
    }
   ],
   "source": [
    "selected = feature_name(best_position)\n",
    "selected.append('Arrhythmia')\n",
    "df_new = df[selected]\n",
    "df_new"
   ]
  },
  {
   "cell_type": "code",
   "execution_count": 137,
   "id": "138489d6",
   "metadata": {
    "ExecuteTime": {
     "end_time": "2023-01-12T16:23:40.808745Z",
     "start_time": "2023-01-12T16:23:40.787799Z"
    }
   },
   "outputs": [],
   "source": [
    "df_new.to_csv('FS_V2.csv', index=False)"
   ]
  },
  {
   "cell_type": "code",
   "execution_count": 148,
   "id": "6b47f5b6",
   "metadata": {
    "ExecuteTime": {
     "end_time": "2023-01-12T16:26:39.629434Z",
     "start_time": "2023-01-12T16:26:39.590537Z"
    }
   },
   "outputs": [
    {
     "data": {
      "text/plain": [
       "array([[2, 0, 0, 0],\n",
       "       [3, 1, 0, 0],\n",
       "       [1, 1, 0, 0],\n",
       "       ...,\n",
       "       [4, 1, 0, 1],\n",
       "       [1, 1, 0, 7],\n",
       "       [2, 0, 0, 4]], dtype=int64)"
      ]
     },
     "execution_count": 148,
     "metadata": {},
     "output_type": "execute_result"
    }
   ],
   "source": [
    "df_train = pd.read_csv('FS_V2.csv')\n",
    "x = np.array(df_train.drop(['Arrhythmia'], axis=1))\n",
    "y = np.array(df_train['Arrhythmia'])\n",
    "x"
   ]
  },
  {
   "cell_type": "code",
   "execution_count": 143,
   "id": "e2e5dd41",
   "metadata": {
    "ExecuteTime": {
     "end_time": "2023-01-12T16:26:03.085263Z",
     "start_time": "2023-01-12T16:26:03.064359Z"
    }
   },
   "outputs": [],
   "source": [
    "rfc = RandomForestClassifier(random_state=2, max_depth=37, n_estimators=96, min_samples_leaf=2, n_jobs=-1)"
   ]
  },
  {
   "cell_type": "code",
   "execution_count": 144,
   "id": "c5dd8482",
   "metadata": {
    "ExecuteTime": {
     "end_time": "2023-01-12T16:26:09.386333Z",
     "start_time": "2023-01-12T16:26:09.382341Z"
    }
   },
   "outputs": [],
   "source": [
    "#accuracies = []"
   ]
  },
  {
   "cell_type": "code",
   "execution_count": 149,
   "id": "5871c0d4",
   "metadata": {
    "ExecuteTime": {
     "end_time": "2023-01-12T16:26:47.881322Z",
     "start_time": "2023-01-12T16:26:45.232246Z"
    }
   },
   "outputs": [
    {
     "data": {
      "text/plain": [
       "0.6027419948472581"
      ]
     },
     "execution_count": 149,
     "metadata": {},
     "output_type": "execute_result"
    }
   ],
   "source": [
    "strat_kfold = StratifiedKFold(n_splits=10, shuffle=True, random_state=23)\n",
    "accuracy_list = []\n",
    "for train_index, test_index in strat_kfold.split(x, y):\n",
    "    x_train_fold, x_test_fold = x[train_index], x[test_index]\n",
    "    y_train_fold, y_test_fold = y[train_index], y[test_index]\n",
    "    rfc.fit(x_train_fold, y_train_fold)\n",
    "    preds = rfc.predict(x_test_fold)\n",
    "    accuracy_test = accuracy_score(preds, y_test_fold)\n",
    "    accuracy_list.append(accuracy_test)\n",
    "np.array(accuracy_list).mean()"
   ]
  },
  {
   "cell_type": "code",
   "execution_count": 150,
   "id": "14874555",
   "metadata": {
    "ExecuteTime": {
     "end_time": "2023-01-12T16:27:01.325423Z",
     "start_time": "2023-01-12T16:27:01.318407Z"
    }
   },
   "outputs": [],
   "source": [
    "accuracies.append(np.array(accuracy_list).mean())"
   ]
  },
  {
   "cell_type": "code",
   "execution_count": 151,
   "id": "e53399a5",
   "metadata": {
    "ExecuteTime": {
     "end_time": "2023-01-12T16:27:04.244646Z",
     "start_time": "2023-01-12T16:27:04.228689Z"
    }
   },
   "outputs": [
    {
     "data": {
      "text/plain": [
       "[0.6056910195068089, 0.6027419948472581]"
      ]
     },
     "execution_count": 151,
     "metadata": {},
     "output_type": "execute_result"
    }
   ],
   "source": [
    "accuracies"
   ]
  },
  {
   "cell_type": "code",
   "execution_count": 153,
   "id": "d350970d",
   "metadata": {
    "ExecuteTime": {
     "end_time": "2023-01-13T04:55:59.860419Z",
     "start_time": "2023-01-13T04:55:59.848452Z"
    }
   },
   "outputs": [],
   "source": [
    "import timeit"
   ]
  },
  {
   "cell_type": "code",
   "execution_count": 154,
   "id": "5514a2e6",
   "metadata": {
    "ExecuteTime": {
     "end_time": "2023-01-13T04:58:48.667728Z",
     "start_time": "2023-01-13T04:58:48.660748Z"
    }
   },
   "outputs": [],
   "source": [
    "from sklearn.model_selection import train_test_split"
   ]
  },
  {
   "cell_type": "code",
   "execution_count": 155,
   "id": "2840d65e",
   "metadata": {
    "ExecuteTime": {
     "end_time": "2023-01-13T06:53:43.520755Z",
     "start_time": "2023-01-13T06:53:43.374149Z"
    }
   },
   "outputs": [],
   "source": [
    "x_train, x_test, y_train, y_test = train_test_split(x, y, test_size=0.3, stratify=y, shuffle=True)"
   ]
  },
  {
   "cell_type": "code",
   "execution_count": 171,
   "id": "d0131fad",
   "metadata": {
    "ExecuteTime": {
     "end_time": "2023-01-13T07:03:59.950936Z",
     "start_time": "2023-01-13T07:03:59.932982Z"
    }
   },
   "outputs": [
    {
     "data": {
      "text/plain": [
       "(625, 4)"
      ]
     },
     "execution_count": 171,
     "metadata": {},
     "output_type": "execute_result"
    }
   ],
   "source": [
    "x_test.shape"
   ]
  },
  {
   "cell_type": "code",
   "execution_count": 163,
   "id": "44ec9b05",
   "metadata": {
    "ExecuteTime": {
     "end_time": "2023-01-13T06:57:27.594799Z",
     "start_time": "2023-01-13T06:57:25.747763Z"
    }
   },
   "outputs": [
    {
     "name": "stdout",
     "output_type": "stream",
     "text": [
      "227 ms ± 8.42 ms per loop (mean ± std. dev. of 7 runs, 1 loop each)\n"
     ]
    }
   ],
   "source": [
    "%timeit rfc.fit(x_train, y_train)"
   ]
  },
  {
   "cell_type": "code",
   "execution_count": 172,
   "id": "7dcc21ce",
   "metadata": {
    "ExecuteTime": {
     "end_time": "2023-01-13T07:04:10.846213Z",
     "start_time": "2023-01-13T07:04:08.145900Z"
    }
   },
   "outputs": [
    {
     "name": "stdout",
     "output_type": "stream",
     "text": [
      "32.8 ms ± 537 µs per loop (mean ± std. dev. of 7 runs, 10 loops each)\n"
     ]
    }
   ],
   "source": [
    "%timeit preds = rfc.predict(x_test)"
   ]
  },
  {
   "cell_type": "code",
   "execution_count": 173,
   "id": "090f0423",
   "metadata": {
    "ExecuteTime": {
     "end_time": "2023-01-13T07:04:16.041151Z",
     "start_time": "2023-01-13T07:04:16.026192Z"
    }
   },
   "outputs": [
    {
     "data": {
      "text/plain": [
       "(208,)"
      ]
     },
     "execution_count": 173,
     "metadata": {},
     "output_type": "execute_result"
    }
   ],
   "source": [
    "preds.shape"
   ]
  },
  {
   "cell_type": "code",
   "execution_count": 174,
   "id": "e2058ae6",
   "metadata": {
    "ExecuteTime": {
     "end_time": "2023-01-13T07:04:18.680958Z",
     "start_time": "2023-01-13T07:04:18.659017Z"
    }
   },
   "outputs": [
    {
     "data": {
      "text/plain": [
       "(625,)"
      ]
     },
     "execution_count": 174,
     "metadata": {},
     "output_type": "execute_result"
    }
   ],
   "source": [
    "y_test.shape"
   ]
  },
  {
   "cell_type": "code",
   "execution_count": 175,
   "id": "1abb7682",
   "metadata": {
    "ExecuteTime": {
     "end_time": "2023-01-13T15:18:52.226764Z",
     "start_time": "2023-01-13T15:18:50.066245Z"
    }
   },
   "outputs": [
    {
     "name": "stdout",
     "output_type": "stream",
     "text": [
      "258 ms ± 4.61 ms per loop (mean ± std. dev. of 7 runs, 1 loop each)\n"
     ]
    }
   ],
   "source": [
    "%%timeit\n",
    "rfc.fit(x_train, y_train)\n",
    "preds = rfc.predict(x_test)"
   ]
  },
  {
   "cell_type": "code",
   "execution_count": null,
   "id": "7b9738a1",
   "metadata": {},
   "outputs": [],
   "source": []
  }
 ],
 "metadata": {
  "kernelspec": {
   "display_name": "mlenv",
   "language": "python",
   "name": "mlenv"
  },
  "language_info": {
   "codemirror_mode": {
    "name": "ipython",
    "version": 3
   },
   "file_extension": ".py",
   "mimetype": "text/x-python",
   "name": "python",
   "nbconvert_exporter": "python",
   "pygments_lexer": "ipython3",
   "version": "3.9.12"
  },
  "varInspector": {
   "cols": {
    "lenName": 16,
    "lenType": 16,
    "lenVar": 40
   },
   "kernels_config": {
    "python": {
     "delete_cmd_postfix": "",
     "delete_cmd_prefix": "del ",
     "library": "var_list.py",
     "varRefreshCmd": "print(var_dic_list())"
    },
    "r": {
     "delete_cmd_postfix": ") ",
     "delete_cmd_prefix": "rm(",
     "library": "var_list.r",
     "varRefreshCmd": "cat(var_dic_list()) "
    }
   },
   "types_to_exclude": [
    "module",
    "function",
    "builtin_function_or_method",
    "instance",
    "_Feature"
   ],
   "window_display": false
  }
 },
 "nbformat": 4,
 "nbformat_minor": 5
}
