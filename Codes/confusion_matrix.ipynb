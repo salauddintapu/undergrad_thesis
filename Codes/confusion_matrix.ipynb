{
 "cells": [
  {
   "cell_type": "code",
   "execution_count": null,
   "id": "7d5cd031",
   "metadata": {},
   "outputs": [],
   "source": [
    "import pandas as pd\n",
    "import numpy as np\n",
    "import matplotlib.pyplot as plt\n",
    "import seaborn as sns\n",
    "from sklearn.ensemble import RandomForestClassifier\n",
    "from sklearn.model_selection import train_test_split\n",
    "from sklearn.metrics import confusion_matrix, accuracy_score, precision_score, recall_score, f1_score, classification_report\n",
    "from sklearn.metrics import ConfusionMatrixDisplay"
   ]
  },
  {
   "cell_type": "code",
   "execution_count": null,
   "id": "7647b28e",
   "metadata": {},
   "outputs": [],
   "source": [
    "#load dataset\n",
    "df = pd.read_csv('filtered_data.csv')\n",
    "x = np.array(df.drop(['Arrhythmia'], axis=1))\n",
    "y = np.array(df['Arrhythmia'])"
   ]
  },
  {
   "cell_type": "code",
   "execution_count": null,
   "id": "6306c82a",
   "metadata": {},
   "outputs": [],
   "source": [
    "#train test split\n",
    "x_train, x_test, y_train, y_test = train_test_split(x, y, test_size=0.2)"
   ]
  },
  {
   "cell_type": "code",
   "execution_count": null,
   "id": "cd8fcf6f",
   "metadata": {},
   "outputs": [],
   "source": [
    "#initialize model\n",
    "rfc = RandomForestClassifier(n_jobs=2, max_depth=6, min_samples_leaf=30, max_features=10, n_estimators=60)\n",
    "rfc.fit(x_train, y_train)\n",
    "y_preds = rfc.predict(x_test)"
   ]
  },
  {
   "cell_type": "code",
   "execution_count": null,
   "id": "56f7328d",
   "metadata": {},
   "outputs": [],
   "source": [
    "#calculate conf. mat\n",
    "cf_mat = confusion_matrix(y_test, y_preds)\n",
    "cf_mat"
   ]
  },
  {
   "cell_type": "code",
   "execution_count": null,
   "id": "349ddee3",
   "metadata": {},
   "outputs": [],
   "source": [
    "#export to csv\n",
    "cf_mat_export = pd.DataFrame(confusion_matrix(y_test, y_preds))\n",
    "cf_mat_export.to_csv('confusion_matrix.csv')"
   ]
  },
  {
   "cell_type": "markdown",
   "id": "30bd5706-74eb-4ada-9ba8-ec6363928898",
   "metadata": {},
   "source": [
    "### plot conf. mat"
   ]
  },
  {
   "cell_type": "code",
   "execution_count": null,
   "id": "0e77d73e",
   "metadata": {},
   "outputs": [],
   "source": [
    "disp = ConfusionMatrixDisplay(confusion_matrix=cf_mat, display_labels=rfc.classes_)\n",
    "disp.plot()\n",
    "plt.title('Confusion Matrix')"
   ]
  },
  {
   "cell_type": "code",
   "execution_count": null,
   "id": "4fcc75b4",
   "metadata": {},
   "outputs": [],
   "source": [
    "sns.set_theme()\n",
    "plt.rcParams['figure.figsize'] = [5, 5]\n",
    "sns.heatmap(cf_mat, annot=True, fmt='.0f')"
   ]
  },
  {
   "cell_type": "code",
   "execution_count": null,
   "id": "b33c919a",
   "metadata": {},
   "outputs": [],
   "source": [
    "plt.style.use('fivethirtyeight')\n",
    "plt.rcParams['figure.figsize'] = [5, 5]\n",
    "sns.heatmap(cf_mat, annot=True, fmt='.0f', cmap='Blues_r')"
   ]
  },
  {
   "cell_type": "code",
   "execution_count": null,
   "id": "3b342864",
   "metadata": {
    "scrolled": true
   },
   "outputs": [],
   "source": [
    "sns.heatmap(cf_mat, annot=True, fmt='.0f', cmap='BuGn_r')"
   ]
  },
  {
   "cell_type": "code",
   "execution_count": null,
   "id": "c4358798",
   "metadata": {},
   "outputs": [],
   "source": [
    "sns.heatmap(cf_mat, annot=True, fmt='.0f', cmap='CMRmap')"
   ]
  },
  {
   "cell_type": "code",
   "execution_count": null,
   "id": "5e73af07",
   "metadata": {},
   "outputs": [],
   "source": [
    "sns.heatmap(cf_mat, annot=True, fmt='.0f', cmap='GnBu_r')"
   ]
  },
  {
   "cell_type": "code",
   "execution_count": null,
   "id": "1542f802",
   "metadata": {
    "scrolled": true
   },
   "outputs": [],
   "source": [
    "sns.heatmap(cf_mat, annot=True, fmt='.0f', cmap='Purples_r')\n",
    "plt.title('Confusion Matrix')\n",
    "plt.xlabel('Predicted Value')\n",
    "plt.ylabel('Actual Value')"
   ]
  },
  {
   "cell_type": "code",
   "execution_count": null,
   "id": "153e9808",
   "metadata": {},
   "outputs": [],
   "source": [
    "sns.heatmap(cf_mat/np.sum(cf_mat), annot=True, fmt='.2%', cmap='Purples_r')\n",
    "plt.title('Confusion Matrix')\n",
    "plt.xlabel('Predicted Value')\n",
    "plt.ylabel('Actual Value')"
   ]
  },
  {
   "cell_type": "code",
   "execution_count": null,
   "id": "0ef1b4b5",
   "metadata": {},
   "outputs": [],
   "source": [
    "labels = ['True Neg', 'False Pos', 'False Neg', 'True Pos']\n",
    "labels = np.asarray(labels).reshape(2,2)\n",
    "sns.heatmap(cf_mat, annot = labels, fmt = '', cmap = 'Purples_r')\n",
    "plt.title('Confusion Matrix')\n",
    "plt.xlabel('Predicted Value')\n",
    "plt.ylabel('Actual Value')"
   ]
  },
  {
   "cell_type": "code",
   "execution_count": null,
   "id": "3d514731",
   "metadata": {
    "scrolled": true
   },
   "outputs": [],
   "source": [
    "plt.rcParams['figure.figsize'] = [10, 10]\n",
    "plt.style.use('fivethirtyeight')\n",
    "group_names = ['True Neg', 'False Pos', 'False Neg', 'True Pos']\n",
    "group_counts = [\"{0:0.0f}\".format(value) for value in cf_mat.flatten()]\n",
    "group_percentages = [\"{0:.2%}\".format(value) for value in cf_mat.flatten()/np.sum(cf_mat)]\n",
    "labels = [f'{v1}\\n{v2}\\n{v3}' for v1, v2, v3 in zip(group_names,group_counts,group_percentages)]\n",
    "labels = np.asarray(labels).reshape(2,2)\n",
    "sns.heatmap(cf_mat, annot=labels, fmt='', cmap='Purples_r')\n",
    "plt.title('Confusion Matrix')\n",
    "plt.xlabel('Predicted Value')\n",
    "plt.ylabel('Actual Value')\n",
    "labels"
   ]
  },
  {
   "cell_type": "code",
   "execution_count": null,
   "id": "75a449ca",
   "metadata": {},
   "outputs": [],
   "source": [
    "group_counts = [\"{0:0.0f}\".format(value) for value in cf_mat.flatten()]\n",
    "group_percentages = [\"{0:.2%}\".format(value) for value in cf_mat.flatten()/np.sum(cf_mat)]\n",
    "labels2 = [f'{v1}\\n{v2}' for v1, v2 in zip(group_counts, group_percentages)]\n",
    "labels2 = np.asarray(labels).reshape(2,2)\n",
    "labels2\n",
    "sns.heatmap(cf_mat, annot=labels2, fmt='', cmap='Purples_r')\n",
    "plt.title('Confusion Matrix')\n",
    "plt.xlabel('Predicted Value')\n",
    "plt.ylabel('Actual Value')"
   ]
  },
  {
   "cell_type": "code",
   "execution_count": null,
   "id": "d8a09c28",
   "metadata": {},
   "outputs": [],
   "source": [
    "sns.heatmap(cf_mat, annot=True, fmt='.0f', cmap='YlGnBu_r')"
   ]
  },
  {
   "cell_type": "code",
   "execution_count": null,
   "id": "72224ab2",
   "metadata": {},
   "outputs": [],
   "source": [
    "sns.heatmap(cf_mat, annot=True, fmt='.0f', cmap='crest_r')"
   ]
  },
  {
   "cell_type": "code",
   "execution_count": null,
   "id": "2f44f322",
   "metadata": {},
   "outputs": [],
   "source": [
    "sns.heatmap(cf_mat, annot=True, fmt='.0f', cmap='mako')"
   ]
  },
  {
   "cell_type": "code",
   "execution_count": null,
   "id": "4b6c8bab",
   "metadata": {},
   "outputs": [],
   "source": [
    "sns.heatmap(cf_mat, annot=True, fmt='.0f', cmap='summer')"
   ]
  },
  {
   "cell_type": "code",
   "execution_count": null,
   "id": "3918ed9e",
   "metadata": {},
   "outputs": [],
   "source": [
    "sns.heatmap(cf_mat, annot=True, fmt='.0f', cmap='winter_r')"
   ]
  },
  {
   "cell_type": "code",
   "execution_count": null,
   "id": "c8cb0b4e",
   "metadata": {
    "scrolled": true
   },
   "outputs": [],
   "source": [
    "classification_report(y_test, y_preds, output_dict=True)"
   ]
  },
  {
   "cell_type": "code",
   "execution_count": null,
   "id": "da3efc30",
   "metadata": {},
   "outputs": [],
   "source": [
    "class_rep_export = pd.DataFrame(classification_report(y_test, y_preds, output_dict=True))\n",
    "class_rep_export.to_csv('classification_report.csv')"
   ]
  },
  {
   "cell_type": "code",
   "execution_count": null,
   "id": "56d9074e",
   "metadata": {},
   "outputs": [],
   "source": []
  }
 ],
 "metadata": {
  "kernelspec": {
   "display_name": "Python 3 (ipykernel)",
   "language": "python",
   "name": "python3"
  },
  "language_info": {
   "codemirror_mode": {
    "name": "ipython",
    "version": 3
   },
   "file_extension": ".py",
   "mimetype": "text/x-python",
   "name": "python",
   "nbconvert_exporter": "python",
   "pygments_lexer": "ipython3",
   "version": "3.10.0"
  },
  "varInspector": {
   "cols": {
    "lenName": 16,
    "lenType": 16,
    "lenVar": 40
   },
   "kernels_config": {
    "python": {
     "delete_cmd_postfix": "",
     "delete_cmd_prefix": "del ",
     "library": "var_list.py",
     "varRefreshCmd": "print(var_dic_list())"
    },
    "r": {
     "delete_cmd_postfix": ") ",
     "delete_cmd_prefix": "rm(",
     "library": "var_list.r",
     "varRefreshCmd": "cat(var_dic_list()) "
    }
   },
   "types_to_exclude": [
    "module",
    "function",
    "builtin_function_or_method",
    "instance",
    "_Feature"
   ],
   "window_display": false
  }
 },
 "nbformat": 4,
 "nbformat_minor": 5
}
